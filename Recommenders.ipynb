{
 "cells": [
  {
   "cell_type": "markdown",
   "id": "09c9ae5b",
   "metadata": {},
   "source": [
    "# Recommender Systems Walk Through"
   ]
  },
  {
   "cell_type": "markdown",
   "id": "c96e21c2",
   "metadata": {},
   "source": [
    "### Intro\n",
    "\n",
    "Recommender Systems:\n",
    "\n",
    "- Content Based Filtering\n",
    "\n",
    "    Content-based filtering uses item features to recommend other items similar to what the user likes, based on their previous actions or explicit feedback.\n",
    "    \n",
    "    Our case: Use NLP and cosine similarity on Movie Synopsis, Casts & Directors to find similar movies.\n",
    "    \n",
    "\n",
    "- Collaborative Filtering\n",
    "\n",
    "The aim of CF is to find similar users and recommend products based on a similar user.\n",
    "\n",
    "Finally I will implement a simple hybrid model\n",
    "\n"
   ]
  },
  {
   "cell_type": "markdown",
   "id": "c2b62c54",
   "metadata": {},
   "source": [
    "### Loading data in from cleaning Notebook"
   ]
  },
  {
   "cell_type": "code",
   "execution_count": 1,{
 "cells": [
  {
   "cell_type": "markdown",
   "id": "09c9ae5b",
   "metadata": {},
   "source": [
    "# Recommender Systems Walk Through"
   ]
  },
  {
   "cell_type": "markdown",
   "id": "c96e21c2",
   "metadata": {},
   "source": [
    "### Intro\n",
    "\n",
    "Recommender Systems:\n",
    "\n",
    "- Content Based Filtering\n",
    "\n",
    "    Content-based filtering uses item features to recommend other items similar to what the user likes, based on their previous actions or explicit feedback.\n",
    "    \n",
    "    Our case: Use NLP and cosine similarity on Movie Synopsis, Casts & Directors to find similar movies.\n",
    "    \n",
    "\n",
    "- Collaborative Filtering\n",
    "\n",
    "The aim of CF is to find similar users and recommend products based on a similar user.\n",
    "\n",
    "Finally I will implement a simple hybrid model\n",
    "\n"
   ]
  },
  {
   "cell_type": "markdown",
   "id": "480f1fd2-2b0a-4566-8bf8-2d6bba5d4f43",
   "metadata": {},
   "source": [
    "CB:\n",
    "    \n",
    "We want:\n",
    "    - Cosine similarity matricies for each of:\n",
    "        - Description\n",
    "        - Cast\n",
    "        - Director\n",
    "        - Keywords\n",
    "        - Movie ratings\n",
    "        \n",
    "CF:\n",
    "\n",
    "We Want:\n",
    "    - Model to helps Users\n",
    "    \n",
    "\n",
    "\n",
    "Need to include meta data such as Cost, age,  length"
   ]
  },
  {
   "cell_type": "markdown",
   "id": "c2b62c54",
   "metadata": {
    "tags": []
   },
   "source": [
    "### Loading data in from cleaning Notebook"
   ]
  },
  {
   "cell_type": "code",
   "execution_count": 1,
   "id": "3fbbc690",
   "metadata": {},
   "outputs": [],
   "source": [
    "import pandas as pd\n",
    "import numpy as np "
   ]
  },
  {
   "cell_type": "code",
   "execution_count": 2,
   "id": "85004448",
   "metadata": {},
   "outputs": [
    {
     "data": {
      "text/html": [
       "<div>\n",
       "<style scoped>\n",
       "    .dataframe tbody tr th:only-of-type {\n",
       "        vertical-align: middle;\n",
       "    }\n",
       "\n",
       "    .dataframe tbody tr th {\n",
       "        vertical-align: top;\n",
       "    }\n",
       "\n",
       "    .dataframe thead th {\n",
       "        text-align: right;\n",
       "    }\n",
       "</style>\n",
       "<table border=\"1\" class=\"dataframe\">\n",
       "  <thead>\n",
       "    <tr style=\"text-align: right;\">\n",
       "      <th></th>\n",
       "      <th>title</th>\n",
       "      <th>overview</th>\n",
       "      <th>genres</th>\n",
       "      <th>vote_average</th>\n",
       "      <th>budget</th>\n",
       "      <th>runtime</th>\n",
       "      <th>adult</th>\n",
       "      <th>vote_count</th>\n",
       "      <th>movieId</th>\n",
       "      <th>imdbId</th>\n",
       "      <th>tmdbId</th>\n",
       "      <th>cast</th>\n",
       "      <th>keywords</th>\n",
       "      <th>cast_size</th>\n",
       "      <th>crew_size</th>\n",
       "      <th>director</th>\n",
       "      <th>score</th>\n",
       "    </tr>\n",
       "  </thead>\n",
       "  <tbody>\n",
       "    <tr>\n",
       "      <th>136</th>\n",
       "      <td>The Shawshank Redemption</td>\n",
       "      <td>Framed in the 1940s for the double murder of h...</td>\n",
       "      <td>18</td>\n",
       "      <td>8.5</td>\n",
       "      <td>25000000</td>\n",
       "      <td>142.0</td>\n",
       "      <td>0</td>\n",
       "      <td>8358.0</td>\n",
       "      <td>318</td>\n",
       "      <td>111161</td>\n",
       "      <td>278</td>\n",
       "      <td>['Tim Robbins', 'Morgan Freeman', 'Bob Gunton']</td>\n",
       "      <td>['prison', 'corruption', 'police brutality', '...</td>\n",
       "      <td>42</td>\n",
       "      <td>90</td>\n",
       "      <td>Frank Darabont</td>\n",
       "      <td>8.372739</td>\n",
       "    </tr>\n",
       "    <tr>\n",
       "      <th>307</th>\n",
       "      <td>The Godfather</td>\n",
       "      <td>Spanning the years 1945 to 1955, a chronicle o...</td>\n",
       "      <td>18</td>\n",
       "      <td>8.5</td>\n",
       "      <td>6000000</td>\n",
       "      <td>175.0</td>\n",
       "      <td>0</td>\n",
       "      <td>6024.0</td>\n",
       "      <td>858</td>\n",
       "      <td>68646</td>\n",
       "      <td>238</td>\n",
       "      <td>['Marlon Brando', 'Al Pacino', 'James Caan']</td>\n",
       "      <td>['italy', 'love at first sight', 'loss of fath...</td>\n",
       "      <td>58</td>\n",
       "      <td>42</td>\n",
       "      <td>Francis Ford Coppola</td>\n",
       "      <td>8.327148</td>\n",
       "    </tr>\n",
       "    <tr>\n",
       "      <th>5002</th>\n",
       "      <td>The Dark Knight</td>\n",
       "      <td>Batman raises the stakes in his war on crime. ...</td>\n",
       "      <td>18</td>\n",
       "      <td>8.3</td>\n",
       "      <td>185000000</td>\n",
       "      <td>152.0</td>\n",
       "      <td>0</td>\n",
       "      <td>12269.0</td>\n",
       "      <td>58559</td>\n",
       "      <td>468569</td>\n",
       "      <td>155</td>\n",
       "      <td>['Christian Bale', 'Michael Caine', 'Heath Led...</td>\n",
       "      <td>['dc comics', 'crime fighter', 'secret identit...</td>\n",
       "      <td>134</td>\n",
       "      <td>81</td>\n",
       "      <td>Christopher Nolan</td>\n",
       "      <td>8.219441</td>\n",
       "    </tr>\n",
       "    <tr>\n",
       "      <th>1238</th>\n",
       "      <td>Fight Club</td>\n",
       "      <td>A ticking-time-bomb insomniac and a slippery s...</td>\n",
       "      <td>18</td>\n",
       "      <td>8.3</td>\n",
       "      <td>63000000</td>\n",
       "      <td>139.0</td>\n",
       "      <td>0</td>\n",
       "      <td>9678.0</td>\n",
       "      <td>2959</td>\n",
       "      <td>137523</td>\n",
       "      <td>550</td>\n",
       "      <td>['Edward Norton', 'Brad Pitt', 'Meat Loaf']</td>\n",
       "      <td>['support group', 'dual identity', 'nihilism',...</td>\n",
       "      <td>77</td>\n",
       "      <td>107</td>\n",
       "      <td>David Fincher</td>\n",
       "      <td>8.198915</td>\n",
       "    </tr>\n",
       "    <tr>\n",
       "      <th>126</th>\n",
       "      <td>Pulp Fiction</td>\n",
       "      <td>A burger-loving hit man, his philosophical par...</td>\n",
       "      <td>53</td>\n",
       "      <td>8.3</td>\n",
       "      <td>8000000</td>\n",
       "      <td>154.0</td>\n",
       "      <td>0</td>\n",
       "      <td>8670.0</td>\n",
       "      <td>296</td>\n",
       "      <td>110912</td>\n",
       "      <td>680</td>\n",
       "      <td>['John Travolta', 'Samuel L. Jackson', 'Uma Th...</td>\n",
       "      <td>['transporter', 'brothel', 'drug dealer', 'box...</td>\n",
       "      <td>54</td>\n",
       "      <td>87</td>\n",
       "      <td>Quentin Tarantino</td>\n",
       "      <td>8.187793</td>\n",
       "    </tr>\n",
       "    <tr>\n",
       "      <th>218</th>\n",
       "      <td>Schindler's List</td>\n",
       "      <td>The true story of how businessman Oskar Schind...</td>\n",
       "      <td>18</td>\n",
       "      <td>8.3</td>\n",
       "      <td>22000000</td>\n",
       "      <td>195.0</td>\n",
       "      <td>0</td>\n",
       "      <td>4436.0</td>\n",
       "      <td>527</td>\n",
       "      <td>108052</td>\n",
       "      <td>424</td>\n",
       "      <td>['Liam Neeson', 'Ben Kingsley', 'Ralph Fiennes']</td>\n",
       "      <td>['factory', 'concentration camp', 'hero', 'hol...</td>\n",
       "      <td>30</td>\n",
       "      <td>36</td>\n",
       "      <td>Steven Spielberg</td>\n",
       "      <td>8.091368</td>\n",
       "    </tr>\n",
       "    <tr>\n",
       "      <th>7238</th>\n",
       "      <td>Whiplash</td>\n",
       "      <td>Under the direction of a ruthless instructor, ...</td>\n",
       "      <td>18</td>\n",
       "      <td>8.3</td>\n",
       "      <td>3300000</td>\n",
       "      <td>105.0</td>\n",
       "      <td>0</td>\n",
       "      <td>4376.0</td>\n",
       "      <td>112552</td>\n",
       "      <td>2582802</td>\n",
       "      <td>244786</td>\n",
       "      <td>['Miles Teller', 'J.K. Simmons', 'Melissa Beno...</td>\n",
       "      <td>['jazz', 'obsession', 'conservatory', 'music t...</td>\n",
       "      <td>51</td>\n",
       "      <td>64</td>\n",
       "      <td>Damien Chazelle</td>\n",
       "      <td>8.088796</td>\n",
       "    </tr>\n",
       "    <tr>\n",
       "      <th>157</th>\n",
       "      <td>Forrest Gump</td>\n",
       "      <td>A man with a low IQ has accomplished great thi...</td>\n",
       "      <td>35</td>\n",
       "      <td>8.2</td>\n",
       "      <td>55000000</td>\n",
       "      <td>142.0</td>\n",
       "      <td>0</td>\n",
       "      <td>8147.0</td>\n",
       "      <td>356</td>\n",
       "      <td>109830</td>\n",
       "      <td>13</td>\n",
       "      <td>['Tom Hanks', 'Robin Wright', 'Gary Sinise']</td>\n",
       "      <td>['vietnam veteran', 'hippie', 'mentally disabl...</td>\n",
       "      <td>66</td>\n",
       "      <td>131</td>\n",
       "      <td>Robert Zemeckis</td>\n",
       "      <td>8.086683</td>\n",
       "    </tr>\n",
       "    <tr>\n",
       "      <th>2295</th>\n",
       "      <td>Spirited Away</td>\n",
       "      <td>A ten year old girl who wanders away from her ...</td>\n",
       "      <td>14</td>\n",
       "      <td>8.3</td>\n",
       "      <td>15000000</td>\n",
       "      <td>125.0</td>\n",
       "      <td>0</td>\n",
       "      <td>3968.0</td>\n",
       "      <td>5618</td>\n",
       "      <td>245429</td>\n",
       "      <td>129</td>\n",
       "      <td>['Rumi Hiiragi', 'Miyu Irino', 'Mari Natsuki']</td>\n",
       "      <td>['witch', 'parent child relationship', 'magic'...</td>\n",
       "      <td>15</td>\n",
       "      <td>25</td>\n",
       "      <td>Hayao Miyazaki</td>\n",
       "      <td>8.069471</td>\n",
       "    </tr>\n",
       "    <tr>\n",
       "      <th>988</th>\n",
       "      <td>Life Is Beautiful</td>\n",
       "      <td>A touching story of an Italian book seller of ...</td>\n",
       "      <td>35</td>\n",
       "      <td>8.3</td>\n",
       "      <td>20000000</td>\n",
       "      <td>116.0</td>\n",
       "      <td>0</td>\n",
       "      <td>3643.0</td>\n",
       "      <td>2324</td>\n",
       "      <td>118799</td>\n",
       "      <td>637</td>\n",
       "      <td>['Nicoletta Braschi', 'Roberto Benigni', 'Gior...</td>\n",
       "      <td>['italy', 'riddle', 'bookshop', 'self sacrific...</td>\n",
       "      <td>23</td>\n",
       "      <td>25</td>\n",
       "      <td>Roberto Benigni</td>\n",
       "      <td>8.051348</td>\n",
       "    </tr>\n",
       "  </tbody>\n",
       "</table>\n",
       "</div>"
      ],
      "text/plain": [
       "                         title  \\\n",
       "136   The Shawshank Redemption   \n",
       "307              The Godfather   \n",
       "5002           The Dark Knight   \n",
       "1238                Fight Club   \n",
       "126               Pulp Fiction   \n",
       "218           Schindler's List   \n",
       "7238                  Whiplash   \n",
       "157               Forrest Gump   \n",
       "2295             Spirited Away   \n",
       "988          Life Is Beautiful   \n",
       "\n",
       "                                               overview  genres  vote_average  \\\n",
       "136   Framed in the 1940s for the double murder of h...      18           8.5   \n",
       "307   Spanning the years 1945 to 1955, a chronicle o...      18           8.5   \n",
       "5002  Batman raises the stakes in his war on crime. ...      18           8.3   \n",
       "1238  A ticking-time-bomb insomniac and a slippery s...      18           8.3   \n",
       "126   A burger-loving hit man, his philosophical par...      53           8.3   \n",
       "218   The true story of how businessman Oskar Schind...      18           8.3   \n",
       "7238  Under the direction of a ruthless instructor, ...      18           8.3   \n",
       "157   A man with a low IQ has accomplished great thi...      35           8.2   \n",
       "2295  A ten year old girl who wanders away from her ...      14           8.3   \n",
       "988   A touching story of an Italian book seller of ...      35           8.3   \n",
       "\n",
       "         budget  runtime  adult  vote_count  movieId   imdbId  tmdbId  \\\n",
       "136    25000000    142.0      0      8358.0      318   111161     278   \n",
       "307     6000000    175.0      0      6024.0      858    68646     238   \n",
       "5002  185000000    152.0      0     12269.0    58559   468569     155   \n",
       "1238   63000000    139.0      0      9678.0     2959   137523     550   \n",
       "126     8000000    154.0      0      8670.0      296   110912     680   \n",
       "218    22000000    195.0      0      4436.0      527   108052     424   \n",
       "7238    3300000    105.0      0      4376.0   112552  2582802  244786   \n",
       "157    55000000    142.0      0      8147.0      356   109830      13   \n",
       "2295   15000000    125.0      0      3968.0     5618   245429     129   \n",
       "988    20000000    116.0      0      3643.0     2324   118799     637   \n",
       "\n",
       "                                                   cast  \\\n",
       "136     ['Tim Robbins', 'Morgan Freeman', 'Bob Gunton']   \n",
       "307        ['Marlon Brando', 'Al Pacino', 'James Caan']   \n",
       "5002  ['Christian Bale', 'Michael Caine', 'Heath Led...   \n",
       "1238        ['Edward Norton', 'Brad Pitt', 'Meat Loaf']   \n",
       "126   ['John Travolta', 'Samuel L. Jackson', 'Uma Th...   \n",
       "218    ['Liam Neeson', 'Ben Kingsley', 'Ralph Fiennes']   \n",
       "7238  ['Miles Teller', 'J.K. Simmons', 'Melissa Beno...   \n",
       "157        ['Tom Hanks', 'Robin Wright', 'Gary Sinise']   \n",
       "2295     ['Rumi Hiiragi', 'Miyu Irino', 'Mari Natsuki']   \n",
       "988   ['Nicoletta Braschi', 'Roberto Benigni', 'Gior...   \n",
       "\n",
       "                                               keywords  cast_size  crew_size  \\\n",
       "136   ['prison', 'corruption', 'police brutality', '...         42         90   \n",
       "307   ['italy', 'love at first sight', 'loss of fath...         58         42   \n",
       "5002  ['dc comics', 'crime fighter', 'secret identit...        134         81   \n",
       "1238  ['support group', 'dual identity', 'nihilism',...         77        107   \n",
       "126   ['transporter', 'brothel', 'drug dealer', 'box...         54         87   \n",
       "218   ['factory', 'concentration camp', 'hero', 'hol...         30         36   \n",
       "7238  ['jazz', 'obsession', 'conservatory', 'music t...         51         64   \n",
       "157   ['vietnam veteran', 'hippie', 'mentally disabl...         66        131   \n",
       "2295  ['witch', 'parent child relationship', 'magic'...         15         25   \n",
       "988   ['italy', 'riddle', 'bookshop', 'self sacrific...         23         25   \n",
       "\n",
       "                  director     score  \n",
       "136         Frank Darabont  8.372739  \n",
       "307   Francis Ford Coppola  8.327148  \n",
       "5002     Christopher Nolan  8.219441  \n",
       "1238         David Fincher  8.198915  \n",
       "126      Quentin Tarantino  8.187793  \n",
       "218       Steven Spielberg  8.091368  \n",
       "7238       Damien Chazelle  8.088796  \n",
       "157        Robert Zemeckis  8.086683  \n",
       "2295        Hayao Miyazaki  8.069471  \n",
       "988        Roberto Benigni  8.051348  "
      ]
     },
     "execution_count": 2,
     "metadata": {},
     "output_type": "execute_result"
    }
   ],
   "source": [
    "df = pd.read_csv('Clean_Item_Data')\n",
    "df.drop('Unnamed: 0',inplace = True,axis = 1)\n",
    "df=df.sort_values('score', ascending=False).iloc[0:5000]\n",
    "df.head(10)"
   ]
  },
  {
   "cell_type": "code",
   "execution_count": 3,
   "id": "a7091d1f-cd8b-4156-934b-8801b48f3ac5",
   "metadata": {},
   "outputs": [
    {
     "data": {
      "text/plain": [
       "(5000, 17)"
      ]
     },
     "execution_count": 3,
     "metadata": {},
     "output_type": "execute_result"
    }
   ],
   "source": [
    "df.shape"
   ]
  },
  {
   "cell_type": "code",
   "execution_count": 4,
   "id": "c40dbfac",
   "metadata": {},
   "outputs": [],
   "source": [
    "rating = pd.read_csv('ratings.csv')"
   ]
  },
  {
   "cell_type": "code",
   "execution_count": 5,
   "id": "7ef72ff6-f204-4585-b4af-20f4768426ae",
   "metadata": {},
   "outputs": [],
   "source": [
    "def random_sample(arr: np.array, size: int = 10000) -> np.array:\n",
    "    return arr[np.random.choice(len(arr), size=size, replace=False)]\n",
    "\n",
    "rating = rating[rating.userId.isin(random_sample(rating.userId.unique()))]"
   ]
  },
  {
   "cell_type": "code",
   "execution_count": 6,
   "id": "0a815e5c-0573-493d-acce-872c7ca9c463",
   "metadata": {},
   "outputs": [],
   "source": [
    "rating = rating[rating.movieId.isin(df.movieId.unique())]\n",
    "df = df[df.movieId.isin(rating.movieId.unique())]"
   ]
  },
  {
   "cell_type": "code",
   "execution_count": null,
   "id": "1ccb9d6c-7015-4c8b-8a20-b8d03f49d083",
   "metadata": {},
   "outputs": [],
   "source": []
  },
  {
   "cell_type": "code",
   "execution_count": 7,
   "id": "b4481211-eb8a-419b-952f-172ac1a62634",
   "metadata": {},
   "outputs": [
    {
     "data": {
      "text/plain": [
       "(683544, 4)"
      ]
     },
     "execution_count": 7,
     "metadata": {},
     "output_type": "execute_result"
    }
   ],
   "source": [
    "rating.shape"
   ]
  },
  {
   "cell_type": "code",
   "execution_count": 8,
   "id": "23a751ab-f338-4696-9507-eebbc63620e2",
   "metadata": {},
   "outputs": [],
   "source": [
    "df = df.reset_index(drop=True)\n",
    "rating = rating.reset_index(drop=True)"
   ]
  },
  {
   "cell_type": "code",
   "execution_count": 9,
   "id": "77ecffbf-b9c8-4e08-9b40-82523534f439",
   "metadata": {},
   "outputs": [
    {
     "data": {
      "text/plain": [
       "(4504, 17)"
      ]
     },
     "execution_count": 9,
     "metadata": {},
     "output_type": "execute_result"
    }
   ],
   "source": [
    "df.shape"
   ]
  },
  {
   "cell_type": "code",
   "execution_count": 10,
   "id": "b49f7ba9",
   "metadata": {},
   "outputs": [
    {
     "data": {
      "text/html": [
       "<div>\n",
       "<style scoped>\n",
       "    .dataframe tbody tr th:only-of-type {\n",
       "        vertical-align: middle;\n",
       "    }\n",
       "\n",
       "    .dataframe tbody tr th {\n",
       "        vertical-align: top;\n",
       "    }\n",
       "\n",
       "    .dataframe thead th {\n",
       "        text-align: right;\n",
       "    }\n",
       "</style>\n",
       "<table border=\"1\" class=\"dataframe\">\n",
       "  <thead>\n",
       "    <tr style=\"text-align: right;\">\n",
       "      <th></th>\n",
       "      <th>title</th>\n",
       "      <th>overview</th>\n",
       "      <th>genres</th>\n",
       "      <th>vote_average</th>\n",
       "      <th>budget</th>\n",
       "      <th>runtime</th>\n",
       "      <th>adult</th>\n",
       "      <th>vote_count</th>\n",
       "      <th>movieId</th>\n",
       "      <th>imdbId</th>\n",
       "      <th>tmdbId</th>\n",
       "      <th>cast</th>\n",
       "      <th>keywords</th>\n",
       "      <th>cast_size</th>\n",
       "      <th>crew_size</th>\n",
       "      <th>director</th>\n",
       "      <th>score</th>\n",
       "    </tr>\n",
       "  </thead>\n",
       "  <tbody>\n",
       "    <tr>\n",
       "      <th>0</th>\n",
       "      <td>The Shawshank Redemption</td>\n",
       "      <td>Framed in the 1940s for the double murder of h...</td>\n",
       "      <td>18</td>\n",
       "      <td>8.5</td>\n",
       "      <td>25000000</td>\n",
       "      <td>142.0</td>\n",
       "      <td>0</td>\n",
       "      <td>8358.0</td>\n",
       "      <td>318</td>\n",
       "      <td>111161</td>\n",
       "      <td>278</td>\n",
       "      <td>['Tim Robbins', 'Morgan Freeman', 'Bob Gunton']</td>\n",
       "      <td>['prison', 'corruption', 'police brutality', '...</td>\n",
       "      <td>42</td>\n",
       "      <td>90</td>\n",
       "      <td>Frank Darabont</td>\n",
       "      <td>8.372739</td>\n",
       "    </tr>\n",
       "    <tr>\n",
       "      <th>1</th>\n",
       "      <td>The Godfather</td>\n",
       "      <td>Spanning the years 1945 to 1955, a chronicle o...</td>\n",
       "      <td>18</td>\n",
       "      <td>8.5</td>\n",
       "      <td>6000000</td>\n",
       "      <td>175.0</td>\n",
       "      <td>0</td>\n",
       "      <td>6024.0</td>\n",
       "      <td>858</td>\n",
       "      <td>68646</td>\n",
       "      <td>238</td>\n",
       "      <td>['Marlon Brando', 'Al Pacino', 'James Caan']</td>\n",
       "      <td>['italy', 'love at first sight', 'loss of fath...</td>\n",
       "      <td>58</td>\n",
       "      <td>42</td>\n",
       "      <td>Francis Ford Coppola</td>\n",
       "      <td>8.327148</td>\n",
       "    </tr>\n",
       "    <tr>\n",
       "      <th>2</th>\n",
       "      <td>The Dark Knight</td>\n",
       "      <td>Batman raises the stakes in his war on crime. ...</td>\n",
       "      <td>18</td>\n",
       "      <td>8.3</td>\n",
       "      <td>185000000</td>\n",
       "      <td>152.0</td>\n",
       "      <td>0</td>\n",
       "      <td>12269.0</td>\n",
       "      <td>58559</td>\n",
       "      <td>468569</td>\n",
       "      <td>155</td>\n",
       "      <td>['Christian Bale', 'Michael Caine', 'Heath Led...</td>\n",
       "      <td>['dc comics', 'crime fighter', 'secret identit...</td>\n",
       "      <td>134</td>\n",
       "      <td>81</td>\n",
       "      <td>Christopher Nolan</td>\n",
       "      <td>8.219441</td>\n",
       "    </tr>\n",
       "    <tr>\n",
       "      <th>3</th>\n",
       "      <td>Fight Club</td>\n",
       "      <td>A ticking-time-bomb insomniac and a slippery s...</td>\n",
       "      <td>18</td>\n",
       "      <td>8.3</td>\n",
       "      <td>63000000</td>\n",
       "      <td>139.0</td>\n",
       "      <td>0</td>\n",
       "      <td>9678.0</td>\n",
       "      <td>2959</td>\n",
       "      <td>137523</td>\n",
       "      <td>550</td>\n",
       "      <td>['Edward Norton', 'Brad Pitt', 'Meat Loaf']</td>\n",
       "      <td>['support group', 'dual identity', 'nihilism',...</td>\n",
       "      <td>77</td>\n",
       "      <td>107</td>\n",
       "      <td>David Fincher</td>\n",
       "      <td>8.198915</td>\n",
       "    </tr>\n",
       "    <tr>\n",
       "      <th>4</th>\n",
       "      <td>Pulp Fiction</td>\n",
       "      <td>A burger-loving hit man, his philosophical par...</td>\n",
       "      <td>53</td>\n",
       "      <td>8.3</td>\n",
       "      <td>8000000</td>\n",
       "      <td>154.0</td>\n",
       "      <td>0</td>\n",
       "      <td>8670.0</td>\n",
       "      <td>296</td>\n",
       "      <td>110912</td>\n",
       "      <td>680</td>\n",
       "      <td>['John Travolta', 'Samuel L. Jackson', 'Uma Th...</td>\n",
       "      <td>['transporter', 'brothel', 'drug dealer', 'box...</td>\n",
       "      <td>54</td>\n",
       "      <td>87</td>\n",
       "      <td>Quentin Tarantino</td>\n",
       "      <td>8.187793</td>\n",
       "    </tr>\n",
       "    <tr>\n",
       "      <th>5</th>\n",
       "      <td>Schindler's List</td>\n",
       "      <td>The true story of how businessman Oskar Schind...</td>\n",
       "      <td>18</td>\n",
       "      <td>8.3</td>\n",
       "      <td>22000000</td>\n",
       "      <td>195.0</td>\n",
       "      <td>0</td>\n",
       "      <td>4436.0</td>\n",
       "      <td>527</td>\n",
       "      <td>108052</td>\n",
       "      <td>424</td>\n",
       "      <td>['Liam Neeson', 'Ben Kingsley', 'Ralph Fiennes']</td>\n",
       "      <td>['factory', 'concentration camp', 'hero', 'hol...</td>\n",
       "      <td>30</td>\n",
       "      <td>36</td>\n",
       "      <td>Steven Spielberg</td>\n",
       "      <td>8.091368</td>\n",
       "    </tr>\n",
       "    <tr>\n",
       "      <th>6</th>\n",
       "      <td>Whiplash</td>\n",
       "      <td>Under the direction of a ruthless instructor, ...</td>\n",
       "      <td>18</td>\n",
       "      <td>8.3</td>\n",
       "      <td>3300000</td>\n",
       "      <td>105.0</td>\n",
       "      <td>0</td>\n",
       "      <td>4376.0</td>\n",
       "      <td>112552</td>\n",
       "      <td>2582802</td>\n",
       "      <td>244786</td>\n",
       "      <td>['Miles Teller', 'J.K. Simmons', 'Melissa Beno...</td>\n",
       "      <td>['jazz', 'obsession', 'conservatory', 'music t...</td>\n",
       "      <td>51</td>\n",
       "      <td>64</td>\n",
       "      <td>Damien Chazelle</td>\n",
       "      <td>8.088796</td>\n",
       "    </tr>\n",
       "    <tr>\n",
       "      <th>7</th>\n",
       "      <td>Forrest Gump</td>\n",
       "      <td>A man with a low IQ has accomplished great thi...</td>\n",
       "      <td>35</td>\n",
       "      <td>8.2</td>\n",
       "      <td>55000000</td>\n",
       "      <td>142.0</td>\n",
       "      <td>0</td>\n",
       "      <td>8147.0</td>\n",
       "      <td>356</td>\n",
       "      <td>109830</td>\n",
       "      <td>13</td>\n",
       "      <td>['Tom Hanks', 'Robin Wright', 'Gary Sinise']</td>\n",
       "      <td>['vietnam veteran', 'hippie', 'mentally disabl...</td>\n",
       "      <td>66</td>\n",
       "      <td>131</td>\n",
       "      <td>Robert Zemeckis</td>\n",
       "      <td>8.086683</td>\n",
       "    </tr>\n",
       "    <tr>\n",
       "      <th>8</th>\n",
       "      <td>Spirited Away</td>\n",
       "      <td>A ten year old girl who wanders away from her ...</td>\n",
       "      <td>14</td>\n",
       "      <td>8.3</td>\n",
       "      <td>15000000</td>\n",
       "      <td>125.0</td>\n",
       "      <td>0</td>\n",
       "      <td>3968.0</td>\n",
       "      <td>5618</td>\n",
       "      <td>245429</td>\n",
       "      <td>129</td>\n",
       "      <td>['Rumi Hiiragi', 'Miyu Irino', 'Mari Natsuki']</td>\n",
       "      <td>['witch', 'parent child relationship', 'magic'...</td>\n",
       "      <td>15</td>\n",
       "      <td>25</td>\n",
       "      <td>Hayao Miyazaki</td>\n",
       "      <td>8.069471</td>\n",
       "    </tr>\n",
       "    <tr>\n",
       "      <th>9</th>\n",
       "      <td>Life Is Beautiful</td>\n",
       "      <td>A touching story of an Italian book seller of ...</td>\n",
       "      <td>35</td>\n",
       "      <td>8.3</td>\n",
       "      <td>20000000</td>\n",
       "      <td>116.0</td>\n",
       "      <td>0</td>\n",
       "      <td>3643.0</td>\n",
       "      <td>2324</td>\n",
       "      <td>118799</td>\n",
       "      <td>637</td>\n",
       "      <td>['Nicoletta Braschi', 'Roberto Benigni', 'Gior...</td>\n",
       "      <td>['italy', 'riddle', 'bookshop', 'self sacrific...</td>\n",
       "      <td>23</td>\n",
       "      <td>25</td>\n",
       "      <td>Roberto Benigni</td>\n",
       "      <td>8.051348</td>\n",
       "    </tr>\n",
       "  </tbody>\n",
       "</table>\n",
       "</div>"
      ],
      "text/plain": [
       "                      title  \\\n",
       "0  The Shawshank Redemption   \n",
       "1             The Godfather   \n",
       "2           The Dark Knight   \n",
       "3                Fight Club   \n",
       "4              Pulp Fiction   \n",
       "5          Schindler's List   \n",
       "6                  Whiplash   \n",
       "7              Forrest Gump   \n",
       "8             Spirited Away   \n",
       "9         Life Is Beautiful   \n",
       "\n",
       "                                            overview  genres  vote_average  \\\n",
       "0  Framed in the 1940s for the double murder of h...      18           8.5   \n",
       "1  Spanning the years 1945 to 1955, a chronicle o...      18           8.5   \n",
       "2  Batman raises the stakes in his war on crime. ...      18           8.3   \n",
       "3  A ticking-time-bomb insomniac and a slippery s...      18           8.3   \n",
       "4  A burger-loving hit man, his philosophical par...      53           8.3   \n",
       "5  The true story of how businessman Oskar Schind...      18           8.3   \n",
       "6  Under the direction of a ruthless instructor, ...      18           8.3   \n",
       "7  A man with a low IQ has accomplished great thi...      35           8.2   \n",
       "8  A ten year old girl who wanders away from her ...      14           8.3   \n",
       "9  A touching story of an Italian book seller of ...      35           8.3   \n",
       "\n",
       "      budget  runtime  adult  vote_count  movieId   imdbId  tmdbId  \\\n",
       "0   25000000    142.0      0      8358.0      318   111161     278   \n",
       "1    6000000    175.0      0      6024.0      858    68646     238   \n",
       "2  185000000    152.0      0     12269.0    58559   468569     155   \n",
       "3   63000000    139.0      0      9678.0     2959   137523     550   \n",
       "4    8000000    154.0      0      8670.0      296   110912     680   \n",
       "5   22000000    195.0      0      4436.0      527   108052     424   \n",
       "6    3300000    105.0      0      4376.0   112552  2582802  244786   \n",
       "7   55000000    142.0      0      8147.0      356   109830      13   \n",
       "8   15000000    125.0      0      3968.0     5618   245429     129   \n",
       "9   20000000    116.0      0      3643.0     2324   118799     637   \n",
       "\n",
       "                                                cast  \\\n",
       "0    ['Tim Robbins', 'Morgan Freeman', 'Bob Gunton']   \n",
       "1       ['Marlon Brando', 'Al Pacino', 'James Caan']   \n",
       "2  ['Christian Bale', 'Michael Caine', 'Heath Led...   \n",
       "3        ['Edward Norton', 'Brad Pitt', 'Meat Loaf']   \n",
       "4  ['John Travolta', 'Samuel L. Jackson', 'Uma Th...   \n",
       "5   ['Liam Neeson', 'Ben Kingsley', 'Ralph Fiennes']   \n",
       "6  ['Miles Teller', 'J.K. Simmons', 'Melissa Beno...   \n",
       "7       ['Tom Hanks', 'Robin Wright', 'Gary Sinise']   \n",
       "8     ['Rumi Hiiragi', 'Miyu Irino', 'Mari Natsuki']   \n",
       "9  ['Nicoletta Braschi', 'Roberto Benigni', 'Gior...   \n",
       "\n",
       "                                            keywords  cast_size  crew_size  \\\n",
       "0  ['prison', 'corruption', 'police brutality', '...         42         90   \n",
       "1  ['italy', 'love at first sight', 'loss of fath...         58         42   \n",
       "2  ['dc comics', 'crime fighter', 'secret identit...        134         81   \n",
       "3  ['support group', 'dual identity', 'nihilism',...         77        107   \n",
       "4  ['transporter', 'brothel', 'drug dealer', 'box...         54         87   \n",
       "5  ['factory', 'concentration camp', 'hero', 'hol...         30         36   \n",
       "6  ['jazz', 'obsession', 'conservatory', 'music t...         51         64   \n",
       "7  ['vietnam veteran', 'hippie', 'mentally disabl...         66        131   \n",
       "8  ['witch', 'parent child relationship', 'magic'...         15         25   \n",
       "9  ['italy', 'riddle', 'bookshop', 'self sacrific...         23         25   \n",
       "\n",
       "               director     score  \n",
       "0        Frank Darabont  8.372739  \n",
       "1  Francis Ford Coppola  8.327148  \n",
       "2     Christopher Nolan  8.219441  \n",
       "3         David Fincher  8.198915  \n",
       "4     Quentin Tarantino  8.187793  \n",
       "5      Steven Spielberg  8.091368  \n",
       "6       Damien Chazelle  8.088796  \n",
       "7       Robert Zemeckis  8.086683  \n",
       "8        Hayao Miyazaki  8.069471  \n",
       "9       Roberto Benigni  8.051348  "
      ]
     },
     "execution_count": 10,
     "metadata": {},
     "output_type": "execute_result"
    }
   ],
   "source": [
    "# Very naive approach (also to do this properly I need to take into account of number of votes not just avg vote.)\n",
    "\n",
    "df.sort_values('score', ascending=False).head(10)"
   ]
  },
  {
   "cell_type": "markdown",
   "id": "1a297ccd",
   "metadata": {},
   "source": [
    "## Content Based Filtering \n",
    "\n",
    "Goal: be able to group similar movies together and have a ranking system\n",
    "\n",
    "Many different approaches:\n",
    "\n",
    "- Recommend movies with similar descriptions, crew, cast I.E NLP\n",
    "- Tabular data i.e ratings, cost ect\n",
    "\n"
   ]
  },
  {
   "cell_type": "code",
   "execution_count": 11,
   "id": "1605aaa0-31ae-4e89-9bc2-4eef65c87c22",
   "metadata": {},
   "outputs": [],
   "source": [
    "import nltk\n",
    "import re\n",
    "import string\n",
    "from nltk.tokenize import word_tokenize, sent_tokenize\n",
    "from nltk.corpus import stopwords\n",
    "from nltk.stem import PorterStemmer # or LancasterStemmer, RegexpStemmer, SnowballStemmer\n",
    "\n",
    " # or any other list of your choice\n",
    "def clean_text(text, toke = False):\n",
    "    default_stemmer = PorterStemmer()\n",
    "    default_stopwords = stopwords.words('english')\n",
    "    \n",
    "    \n",
    "    def tokenize_text(text):\n",
    "        return [w for s in sent_tokenize(text) for w in word_tokenize(s)]\n",
    "\n",
    "        \n",
    "\n",
    "    def remove_special_characters(text, characters=string.punctuation.replace('-', '')):\n",
    "        tokens = tokenize_text(text)\n",
    "        pattern = re.compile('[{}]'.format(re.escape(characters)))\n",
    "        return ' '.join(filter(None, [pattern.sub('', t) for t in tokens]))\n",
    "\n",
    "    def stem_text(text, stemmer=default_stemmer):\n",
    "        tokens = tokenize_text(text)\n",
    "        return ' '.join([stemmer.stem(t) for t in tokens])\n",
    "\n",
    "    def remove_stopwords(text, stop_words=default_stopwords):\n",
    "        tokens = [w for w in tokenize_text(text) if w not in stop_words]\n",
    "        return ' '.join(tokens)\n",
    "\n",
    "    text = text.strip(' ') # strip whitespaces\n",
    "    text = text.lower() # lowercase\n",
    "    text = stem_text(text) # stemming\n",
    "    text = remove_special_characters(text) # remove punctuation and symbols\n",
    "    text = remove_stopwords(text) # remove stopwords\n",
    "    if toke == True:\n",
    "        text = tokenize_text(text)\n",
    "    #text.strip(' ') # strip whitespaces again?\n",
    "\n",
    "    return text\n"
   ]
  },
  {
   "cell_type": "code",
   "execution_count": 12,
   "id": "a5455f28-7694-413c-81f7-40aeefdd6979",
   "metadata": {},
   "outputs": [],
   "source": [
    "df['overview_toke'] = df['overview'].apply(clean_text, toke = True)\n",
    "                                                                          \n",
    "df['overview_clean'] = df['overview'].apply(clean_text)"
   ]
  },
  {
   "cell_type": "code",
   "execution_count": 81,
   "id": "00628057-09d1-4a76-86bd-63cd66b1b969",
   "metadata": {},
   "outputs": [
    {
     "data": {
      "text/plain": [
       "0       [frame, 1940, doubl, murder, hi, wife, lover, ...\n",
       "1       [span, year, 1945, 1955, chronicl, fiction, it...\n",
       "2       [batman, rais, stake, hi, war, crime, help, lt...\n",
       "3       [ticking-time-bomb, insomniac, slipperi, soap,...\n",
       "4       [burger-lov, hit, man, hi, philosoph, partner,...\n",
       "                              ...                        \n",
       "4499    [fuel, rage, libido, wild, turkey, superhuman,...\n",
       "4500    [bitter, stori, middle-ag, man, hate, hi, life...\n",
       "4501    [first, two, day, marriag, ivan, punctili, cle...\n",
       "4502    [film, depict, strike, 1903, worker, factori, ...\n",
       "4503    [french, man, spi, love, younger, woman, acros...\n",
       "Name: overview_toke, Length: 4504, dtype: object"
      ]
     },
     "execution_count": 81,
     "metadata": {},
     "output_type": "execute_result"
    }
   ],
   "source": [
    "df['overview_toke']"
   ]
  },
  {
   "cell_type": "markdown",
   "id": "bcca9f42-bceb-4ea4-b665-8a235263625c",
   "metadata": {},
   "source": [
    "## TF-IDF"
   ]
  },
  {
   "cell_type": "code",
   "execution_count": 13,
   "id": "076e7114-0b90-4751-b13c-574e82045308",
   "metadata": {},
   "outputs": [],
   "source": [
    "from sklearn.feature_extraction.text import TfidfVectorizer\n",
    "from sklearn.metrics.pairwise import linear_kernel\n",
    "from sklearn.metrics.pairwise import cosine_similarity\n",
    "tf = TfidfVectorizer(analyzer='word',ngram_range=(1, 2),min_df=0, stop_words='english')\n",
    "tfidf_matrix = tf.fit_transform(df['overview_clean'])"
   ]
  },
  {
   "cell_type": "code",
   "execution_count": 14,
   "id": "abb4f6ad-c014-4181-b1c4-308c151875b4",
   "metadata": {},
   "outputs": [],
   "source": [
    "# tried autoencoder but not enough memory"
   ]
  },
  {
   "cell_type": "code",
   "execution_count": 15,
   "id": "1022e087-58e2-4b69-85ad-57f682327e19",
   "metadata": {},
   "outputs": [],
   "source": [
    "tfidf_cosine_sim = linear_kernel(tfidf_matrix, tfidf_matrix)"
   ]
  },
  {
   "cell_type": "code",
   "execution_count": 82,
   "id": "b0af6fe9-7808-4701-92df-795834e74886",
   "metadata": {},
   "outputs": [
    {
     "data": {
      "text/plain": [
       "title\n",
       "The Shawshank Redemption                                 0\n",
       "The Godfather                                            1\n",
       "The Dark Knight                                          2\n",
       "Fight Club                                               3\n",
       "Pulp Fiction                                             4\n",
       "                                                      ... \n",
       "Gonzo: The Life and Work of Dr. Hunter S. Thompson    4499\n",
       "Day of the Wacko                                      4500\n",
       "The White Sheik                                       4501\n",
       "Strike                                                4502\n",
       "Monsieur Hire                                         4503\n",
       "Length: 4504, dtype: int64"
      ]
     },
     "execution_count": 82,
     "metadata": {},
     "output_type": "execute_result"
    }
   ],
   "source": [
    "pd.Series(df.index, index=df['title'])"
   ]
  },
  {
   "cell_type": "code",
   "execution_count": 84,
   "id": "967154b1-42c6-43c4-96b2-585c61400e08",
   "metadata": {},
   "outputs": [
    {
     "data": {
      "text/plain": [
       "2"
      ]
     },
     "execution_count": 84,
     "metadata": {},
     "output_type": "execute_result"
    }
   ],
   "source": [
    "\n",
    "indices = pd.Series(df.index, index=df['title'])\n",
    "indices[\"The Dark Knight\"]"
   ]
  },
  {
   "cell_type": "code",
   "execution_count": 87,
   "id": "8f8f44c3-d1af-457d-bbdd-c12b6a341957",
   "metadata": {},
   "outputs": [
    {
     "data": {
      "text/plain": [
       "array([0.00301317, 0.02058229, 1.        , ..., 0.00981624, 0.        ,\n",
       "       0.        ])"
      ]
     },
     "execution_count": 87,
     "metadata": {},
     "output_type": "execute_result"
    }
   ],
   "source": [
    "tfidf_cosine_sim[2]"
   ]
  },
  {
   "cell_type": "code",
   "execution_count": 16,
   "id": "b4280f94-5ed1-4847-a851-8db153e80db1",
   "metadata": {},
   "outputs": [],
   "source": [
    "def top_rec(title, sim, indices = pd.Series(df.index, index=df['title'])):\n",
    "    idx = indices[title]\n",
    "    sim_scores = list(enumerate(sim[idx]))\n",
    "    sim_scores = sorted(sim_scores, key=lambda x: x[1], reverse=True)\n",
    "    sim_scores = sim_scores[1:11]\n",
    "    movie_indices = [i[0] for i in sim_scores]\n",
    "    return df['title'].iloc[movie_indices]"
   ]
  },
  {
   "cell_type": "code",
   "execution_count": 17,
   "id": "52b1815c-2a88-42f2-8be1-d2008c617f84",
   "metadata": {},
   "outputs": [
    {
     "data": {
      "text/plain": [
       "104                       The Dark Knight Rises\n",
       "612                                      Batman\n",
       "1514                             Batman Returns\n",
       "581                                         JFK\n",
       "1515                           Batman: Year One\n",
       "565                  Batman: Under the Red Hood\n",
       "2294                  In Order of Disappearance\n",
       "421     Batman: The Dark Knight Returns, Part 2\n",
       "146                               Batman Begins\n",
       "559     Batman: The Dark Knight Returns, Part 1\n",
       "Name: title, dtype: object"
      ]
     },
     "execution_count": 17,
     "metadata": {},
     "output_type": "execute_result"
    }
   ],
   "source": [
    "top_rec(\"The Dark Knight\",tfidf_cosine_sim)"
   ]
  },
  {
   "cell_type": "markdown",
   "id": "15392f11-32b0-491e-8f61-cad496d1d5ec",
   "metadata": {},
   "source": [
    "## Word2Vec"
   ]
  },
  {
   "cell_type": "markdown",
   "id": "d75e2ada-4e86-4f85-ae4a-33f6072f1126",
   "metadata": {},
   "source": [
    "Training model on my vocab"
   ]
  },
  {
   "cell_type": "code",
   "execution_count": 18,
   "id": "3f9ecc64-aef8-4138-9c79-79667f1ed0fb",
   "metadata": {},
   "outputs": [],
   "source": [
    "from gensim.corpora import Dictionary\n",
    "from gensim.similarities import WordEmbeddingSimilarityIndex\n",
    "from gensim.similarities import SoftCosineSimilarity, SparseTermSimilarityMatrix\n",
    "from nltk import word_tokenize\n",
    "from nltk.corpus import stopwords\n",
    "from gensim.models import Word2Vec"
   ]
  },
  {
   "cell_type": "code",
   "execution_count": 19,
   "id": "92e2b877-51e8-4840-826d-7e43fcdbd0f2",
   "metadata": {},
   "outputs": [
    {
     "data": {
      "text/plain": [
       "(2358145, 13113195)"
      ]
     },
     "execution_count": 19,
     "metadata": {},
     "output_type": "execute_result"
    }
   ],
   "source": [
    "#Below code iterates over corpus sentences and creates a word2vec model and saves it to the disk\n",
    "corpus_sentences = df['overview_clean']\n",
    "\n",
    "model = Word2Vec(vector_size=300, window=10, min_count=5, workers=11, alpha=0.025)\n",
    " \n",
    "model.build_vocab(corpus_sentences)\n",
    "\n",
    "model.train(corpus_sentences, total_examples=model.corpus_count, epochs=15)\n",
    " "
   ]
  },
  {
   "cell_type": "code",
   "execution_count": 20,
   "id": "6e760dae-13b1-4a21-9ec3-12eb1c34604e",
   "metadata": {},
   "outputs": [],
   "source": [
    "termsim_index = WordEmbeddingSimilarityIndex(model.wv) # similartiy between word embeddings"
   ]
  },
  {
   "cell_type": "code",
   "execution_count": 21,
   "id": "ab551d82-fdd0-4aad-902b-780c81cea3ce",
   "metadata": {
    "tags": []
   },
   "outputs": [
    {
     "name": "stderr",
     "output_type": "stream",
     "text": [
      "100%|██████████| 17225/17225 [00:00<00:00, 51958.46it/s]\n"
     ]
    }
   ],
   "source": [
    "corpus_list = df['overview_clean'].tolist() # list of sentences\n",
    "\n",
    "corpus_list_token = df['overview_toke'].tolist() # list of tokenized sentences\n",
    "\n",
    "dictionary = Dictionary(corpus_list_token) #word id and word\n",
    "\n",
    "bow_corpus = [dictionary.doc2bow(document) for document in corpus_list_token] # word id and frequency for each doc\n",
    "\n",
    "similarity_matrix = SparseTermSimilarityMatrix(termsim_index, dictionary)"
   ]
  },
  {
   "cell_type": "code",
   "execution_count": 22,
   "id": "91e5cec8-69ac-4a32-a5d0-afff1b5fac2c",
   "metadata": {},
   "outputs": [],
   "source": [
    "# a method that allows us to assess the similarity between two documents in a meaningful way, even when they have no words in common. It uses a measure of similarity between words\n",
    "docsim_index = SoftCosineSimilarity(bow_corpus, similarity_matrix)\n",
    "sims = docsim_index[bow_corpus]"
   ]
  },
  {
   "cell_type": "code",
   "execution_count": 23,
   "id": "d49550a1-1868-4fa2-b229-dc30baa92b04",
   "metadata": {},
   "outputs": [
    {
     "data": {
      "text/plain": [
       "(4504, 4504)"
      ]
     },
     "execution_count": 23,
     "metadata": {},
     "output_type": "execute_result"
    }
   ],
   "source": [
    "sims.shape"
   ]
  },
  {
   "cell_type": "code",
   "execution_count": 63,
   "id": "0315e23b-dbad-4851-aaa5-44efdad08018",
   "metadata": {},
   "outputs": [
    {
     "data": {
      "text/plain": [
       "104            The Dark Knight Rises\n",
       "2303          This Must Be the Place\n",
       "1514                  Batman Returns\n",
       "612                           Batman\n",
       "146                    Batman Begins\n",
       "565       Batman: Under the Red Hood\n",
       "1515                Batman: Year One\n",
       "2294       In Order of Disappearance\n",
       "3412    Batman & Mr. Freeze: SubZero\n",
       "4275                      Cul-de-sac\n",
       "Name: title, dtype: object"
      ]
     },
     "execution_count": 63,
     "metadata": {},
     "output_type": "execute_result"
    }
   ],
   "source": [
    "top_rec(\"The Dark Knight\",sims)"
   ]
  },
  {
   "cell_type": "markdown",
   "id": "bfcf4247-1bb5-4be2-8fbb-1cc992b54d0c",
   "metadata": {},
   "source": [
    "### Word embedding"
   ]
  },
  {
   "cell_type": "code",
   "execution_count": 25,
   "id": "9a8b64d3-7350-4acd-a30f-394e86552161",
   "metadata": {},
   "outputs": [
    {
     "data": {
      "text/plain": [
       "(4316, 300)"
      ]
     },
     "execution_count": 25,
     "metadata": {},
     "output_type": "execute_result"
    }
   ],
   "source": [
    "corpus_sentences = df['overview_toke']\n",
    "\n",
    "model = Word2Vec(vector_size=300, window=10, min_count=5, workers=11, alpha=0.025)\n",
    " \n",
    "model.build_vocab(corpus_sentences)\n",
    "\n",
    "model.train(corpus_sentences, total_examples=model.corpus_count, epochs=50)\n",
    "\n",
    "word_em = model.wv.vectors\n",
    "\n",
    "word_em.shape"
   ]
  },
  {
   "cell_type": "code",
   "execution_count": 26,
   "id": "868e52c1-6ec5-4c38-87ce-a08c5fc2c600",
   "metadata": {},
   "outputs": [],
   "source": [
    "embeddings_dict = {}\n",
    "for word in model.wv.index_to_key:\n",
    "    embeddings_dict[word] = model.wv[word]"
   ]
  },
  {
   "cell_type": "code",
   "execution_count": 27,
   "id": "03effe04-e067-48a2-a9bd-5ba285254f51",
   "metadata": {},
   "outputs": [],
   "source": [
    "def doc2vecF(doc):\n",
    "    vdoc = [embeddings_dict.get(x,0) for x in doc.lower().split(\" \")]\n",
    "    doc2vec = np.sum(vdoc, axis = 0)\n",
    "    if np.sum(doc2vec == 0) ==1:\n",
    "        doc2vec = np.zeros(50, \"float32\")\n",
    "        \n",
    "    return doc2vec"
   ]
  },
  {
   "cell_type": "code",
   "execution_count": 28,
   "id": "83718355-b392-496b-afb8-d9e434e71edf",
   "metadata": {},
   "outputs": [
    {
     "name": "stderr",
     "output_type": "stream",
     "text": [
      "/opt/conda/lib/python3.7/site-packages/numpy/core/fromnumeric.py:86: VisibleDeprecationWarning: Creating an ndarray from ragged nested sequences (which is a list-or-tuple of lists-or-tuples-or ndarrays with different lengths or shapes) is deprecated. If you meant to do this, you must specify 'dtype=object' when creating the ndarray.\n",
      "  return ufunc.reduce(obj, axis, dtype, out, **passkwargs)\n"
     ]
    },
    {
     "data": {
      "text/plain": [
       "(4504, 300)"
      ]
     },
     "execution_count": 28,
     "metadata": {},
     "output_type": "execute_result"
    }
   ],
   "source": [
    "data = []\n",
    "for i in df['overview_clean']:\n",
    "    data.append(doc2vecF(i))\n",
    "embd = pd.DataFrame(data)\n",
    "embd.shape"
   ]
  },
  {
   "cell_type": "code",
   "execution_count": null,
   "id": "8dbb5d19-7ea8-4c01-b19e-97677359c619",
   "metadata": {},
   "outputs": [],
   "source": []
  },
  {
   "cell_type": "code",
   "execution_count": 29,
   "id": "7e4c9a63-2003-425f-989b-1108b4081b22",
   "metadata": {},
   "outputs": [],
   "source": [
    "from sklearn.metrics.pairwise import cosine_similarity"
   ]
  },
  {
   "cell_type": "code",
   "execution_count": 74,
   "id": "4db9df30-04ed-40c4-ae0a-4f93c611eb82",
   "metadata": {},
   "outputs": [],
   "source": [
    "em_cosine_sim = cosine_similarity(embd, embd)"
   ]
  },
  {
   "cell_type": "code",
   "execution_count": 75,
   "id": "df44352f-a1ac-4ba7-9766-76dbe6962734",
   "metadata": {},
   "outputs": [
    {
     "data": {
      "text/plain": [
       "array([[ 1.0000002 ,  0.44629043,  0.17774802, ...,  0.2944676 ,\n",
       "        -0.04334648,  0.31620926],\n",
       "       [ 0.44629043,  1.        ,  0.39120102, ...,  0.14009821,\n",
       "         0.25848895,  0.18857244],\n",
       "       [ 0.17774802,  0.39120102,  1.0000001 , ..., -0.06825843,\n",
       "         0.03717028,  0.07829108],\n",
       "       ...,\n",
       "       [ 0.2944676 ,  0.14009821, -0.06825843, ...,  0.99999994,\n",
       "         0.07328811,  0.27149937],\n",
       "       [-0.04334648,  0.25848895,  0.03717028, ...,  0.07328811,\n",
       "         0.9999999 , -0.10850522],\n",
       "       [ 0.31620926,  0.18857244,  0.07829108, ...,  0.27149937,\n",
       "        -0.10850522,  1.0000005 ]], dtype=float32)"
      ]
     },
     "execution_count": 75,
     "metadata": {},
     "output_type": "execute_result"
    }
   ],
   "source": [
    "em_cosine_sim"
   ]
  },
  {
   "cell_type": "code",
   "execution_count": 70,
   "id": "069096f5-11b2-4654-b0bc-2d3c8bd8c75a",
   "metadata": {},
   "outputs": [
    {
     "data": {
      "text/plain": [
       "104                         The Dark Knight Rises\n",
       "2049         Justice League: Crisis on Two Earths\n",
       "2986              Superman/Batman: Public Enemies\n",
       "2521               Justice League vs. Teen Titans\n",
       "566                                       RoboCop\n",
       "3583    The Batman Superman Movie: World's Finest\n",
       "612                                        Batman\n",
       "483                       The Man from U.N.C.L.E.\n",
       "2655                 Teenage Mutant Ninja Turtles\n",
       "565                    Batman: Under the Red Hood\n",
       "Name: title, dtype: object"
      ]
     },
     "execution_count": 70,
     "metadata": {},
     "output_type": "execute_result"
    }
   ],
   "source": [
    "top_rec(\"The Dark Knight\", em_cosine_sim)"
   ]
  },
  {
   "cell_type": "markdown",
   "id": "e5b28f39-f337-44b5-842a-e644584387bf",
   "metadata": {},
   "source": [
    "## LDA"
   ]
  },
  {
   "cell_type": "markdown",
   "id": "ce35b6a1-876e-4769-8135-e9cbef517299",
   "metadata": {},
   "source": [
    "We dont use this as we have genres anyway."
   ]
  },
  {
   "cell_type": "code",
   "execution_count": null,
   "id": "0cd3887a-ea5c-43f4-8248-066bf3179894",
   "metadata": {},
   "outputs": [],
   "source": [
    "# Importing modules\n",
    "import pandas as pd\n",
    "import numpy as np\n",
    "import os\n",
    "import re\n",
    "# LDA Model\n",
    "import gensim\n",
    "from gensim.utils import simple_preprocess\n",
    "import gensim.corpora as corpora\n",
    "from pprint import pprint\n",
    "from gensim.models import CoherenceModel\n",
    "import spacy\n",
    "from nltk.corpus import stopwords\n",
    "# Import the wordcloud library\n",
    "#from wordcloud import WordCloud\n",
    "# Visualize the topics\n",
    "import pyLDAvis.gensim_models\n",
    "import pickle \n",
    "import pyLDAvis"
   ]
  },
  {
   "cell_type": "code",
   "execution_count": null,
   "id": "151379f8-ff16-4954-8372-2dfecc31087d",
   "metadata": {},
   "outputs": [],
   "source": [
    "data_words = df['overview_toke']"
   ]
  },
  {
   "cell_type": "code",
   "execution_count": null,
   "id": "b86db9a0-aab6-4687-bbfd-e93a999ba095",
   "metadata": {},
   "outputs": [],
   "source": [
    "bigram = gensim.models.Phrases(data_words, min_count=5, threshold=10) \n",
    "bigram_mod = gensim.models.phrases.Phraser(bigram)"
   ]
  },
  {
   "cell_type": "code",
   "execution_count": null,
   "id": "14755f8d-251e-4bce-a85d-ea0a4ad8bd25",
   "metadata": {},
   "outputs": [],
   "source": [
    "def make_bigrams(texts):\n",
    "    return [bigram_mod[doc] for doc in texts]"
   ]
  },
  {
   "cell_type": "code",
   "execution_count": null,
   "id": "9c547a69-58c2-450d-bd8d-01e2d654fdd5",
   "metadata": {},
   "outputs": [],
   "source": [
    "data_words_bigrams = make_bigrams(data_words)"
   ]
  },
  {
   "cell_type": "code",
   "execution_count": null,
   "id": "58301a12-2f85-4a80-b287-976d6d806a3a",
   "metadata": {},
   "outputs": [],
   "source": [
    "# Create Dictionary\n",
    "id2word = corpora.Dictionary(data_words_bigrams)\n",
    "\n",
    "# Filter out tokens that appear in only 1 documents and appear in more than 90% of the documents\n",
    "id2word.filter_extremes(no_below=2, no_above=0.95)\n",
    "\n",
    "# Create Corpus\n",
    "texts = data_words_bigrams\n",
    "\n",
    "# Term Document Frequency\n",
    "corpus = [id2word.doc2bow(text) for text in texts]"
   ]
  },
  {
   "cell_type": "code",
   "execution_count": null,
   "id": "3de102be-0dc2-4529-a69b-74ad4bb53407",
   "metadata": {},
   "outputs": [],
   "source": [
    "# Build LDA model\n",
    "lda_model = gensim.models.LdaMulticore(corpus=corpus,\n",
    "                                       id2word=id2word,\n",
    "                                       num_topics=200, \n",
    "                                       random_state=100,\n",
    "                                       chunksize=100,\n",
    "                                       passes=100,\n",
    "                                       per_word_topics=True)"
   ]
  },
  {
   "cell_type": "code",
   "execution_count": null,
   "id": "069c64d7-2d7a-4ed7-aa14-d6430e1b846e",
   "metadata": {},
   "outputs": [],
   "source": [
    "def Sort_Tuple(tup):  \n",
    "    return(sorted(tup, key = lambda x: x[1], reverse = True))   "
   ]
  },
  {
   "cell_type": "code",
   "execution_count": null,
   "id": "64ddc932-5604-4ec8-bceb-333bd8aa3785",
   "metadata": {},
   "outputs": [],
   "source": [
    "doc_num, topic_num, prob = [], [], []\n",
    "print(lda_model.get_document_topics(corpus))\n",
    "for n in range(len(df)):\n",
    "    get_document_topics = lda_model.get_document_topics(corpus[n])\n",
    "    doc_num.append(n)\n",
    "    sorted_doc_topics = Sort_Tuple(get_document_topics)\n",
    "    topic_num.append(sorted_doc_topics[0][0])\n",
    "    prob.append(sorted_doc_topics[0][1])\n",
    "df['Doc'] = doc_num\n",
    "df['Topic'] = topic_num\n",
    "df['Probability'] = prob\n",
    "df.to_csv(\"doc_topic_matrix.csv\", index=False)"
   ]
  },
  {
   "cell_type": "code",
   "execution_count": null,
   "id": "92314dd0-f7bb-41a4-a4ec-ad090e840b35",
   "metadata": {},
   "outputs": [],
   "source": [
    "def recommend_by_storyline(title, df):\n",
    "    recommended = []\n",
    "    top10_list = []\n",
    "    \n",
    "    title = title.lower()\n",
    "    df['title'] = df['title'].str.lower()\n",
    "    topic_num = df[df['title']==title].Topic.values\n",
    "    doc_num = df[df['title']==title].Doc.values    \n",
    "    \n",
    "    output_df = df[df['Topic']==topic_num[0]].sort_values('Probability', ascending=False).reset_index(drop=True)\n",
    "\n",
    "    index = output_df[output_df['Doc']==doc_num[0]].index[0]\n",
    "    \n",
    "    top10_list += list(output_df.iloc[index-5:index].index)\n",
    "    top10_list += list(output_df.iloc[index+1:index+6].index)\n",
    "    \n",
    "    output_df['title'] = output_df['title'].str.title()\n",
    "    \n",
    "    for each in top10_list:\n",
    "        recommended.append(output_df.iloc[each].title)\n",
    "        \n",
    "    return recommended"
   ]
  },
  {
   "cell_type": "code",
   "execution_count": null,
   "id": "9b4e220d-7ffe-4edc-8270-2be58e2760e5",
   "metadata": {},
   "outputs": [],
   "source": [
    "recommend_by_storyline(\"The Dark Knight\", df)"
   ]
  },
  {
   "cell_type": "code",
   "execution_count": null,
   "id": "3b4f8be3-b151-4b26-aa2a-b362bc59905d",
   "metadata": {},
   "outputs": [],
   "source": [
    "recommend_by_storyline(\"The Lord of the Rings: The Return of the King\", df)"
   ]
  },
  {
   "cell_type": "code",
   "execution_count": null,
   "id": "1a795a80-d6a4-46d6-b412-9a49dc992816",
   "metadata": {},
   "outputs": [],
   "source": []
  },
  {
   "cell_type": "markdown",
   "id": "26306b52-3128-4677-8f7e-681d71649675",
   "metadata": {},
   "source": [
    "### Rating based"
   ]
  },
  {
   "cell_type": "code",
   "execution_count": 32,
   "id": "504cbfa3-217f-4ee7-9152-1fee97891c0d",
   "metadata": {},
   "outputs": [],
   "source": [
    "df['index1'] = df.index\n",
    "new = pd.merge(rating, df[[\"title\", 'index1', \"movieId\"]], how='inner',left_on=\"movieId\", right_on=\"movieId\")\n",
    "new = new[[\"userId\",\"index1\",\"rating\"]]"
   ]
  },
  {
   "cell_type": "code",
   "execution_count": 33,
   "id": "3ed26495-c3a6-4f80-8e07-2de020eb4ab8",
   "metadata": {},
   "outputs": [],
   "source": [
    "x = pd.pivot_table(new, values='rating', index=['index1'], columns=['userId'], aggfunc=np.max, fill_value=0) "
   ]
  },
  {
   "cell_type": "code",
   "execution_count": 34,
   "id": "c9533897-9364-44f0-aa3a-bd4a7195af09",
   "metadata": {},
   "outputs": [
    {
     "data": {
      "text/plain": [
       "(4504, 9947)"
      ]
     },
     "execution_count": 34,
     "metadata": {},
     "output_type": "execute_result"
    }
   ],
   "source": [
    "x.shape"
   ]
  },
  {
   "cell_type": "code",
   "execution_count": 65,
   "id": "2fdd3bb3-6aa8-4bef-9cd3-5f5d834ed94f",
   "metadata": {},
   "outputs": [],
   "source": [
    "from sklearn.metrics.pairwise import cosine_similarity\n",
    "sim_rate = cosine_similarity(x, x)"
   ]
  },
  {
   "cell_type": "code",
   "execution_count": 66,
   "id": "2541a6c3-a2df-49ac-b61e-cd3d5cd50d4d",
   "metadata": {},
   "outputs": [
    {
     "data": {
      "text/plain": [
       "(4504, 4504)"
      ]
     },
     "execution_count": 66,
     "metadata": {},
     "output_type": "execute_result"
    }
   ],
   "source": [
    "sim_rate.shape"
   ]
  },
  {
   "cell_type": "code",
   "execution_count": 67,
   "id": "93a5b5b0-5799-42a8-b528-e1a9b122224a",
   "metadata": {},
   "outputs": [
    {
     "data": {
      "text/plain": [
       "19                                Star Wars\n",
       "1049                       Independence Day\n",
       "267                             Toy Story 2\n",
       "30                       Back to the Future\n",
       "127                           Jurassic Park\n",
       "7                              Forrest Gump\n",
       "1093                    Mission: Impossible\n",
       "218                                 Aladdin\n",
       "466     Willy Wonka & the Chocolate Factory\n",
       "56                       Return of the Jedi\n",
       "Name: title, dtype: object"
      ]
     },
     "execution_count": 67,
     "metadata": {},
     "output_type": "execute_result"
    }
   ],
   "source": [
    "top_rec(\"Toy Story\", sim_rate)"
   ]
  },
  {
   "cell_type": "markdown",
   "id": "af62979b-c0d7-48ee-bbdb-cd71129932f1",
   "metadata": {},
   "source": [
    "## Super Model\n",
    "\n",
    "Avg the cosine similarity between TDF, Word2Vec & Word embeddings and rating sim\n",
    "\n",
    "Overall = Avg( TDF + Word2Vec + WordEmbeddings) / 2    * rating_sim"
   ]
  },
  {
   "cell_type": "code",
   "execution_count": 76,
   "id": "a55b3de3-e078-4f0d-adb3-faefa74336cd",
   "metadata": {},
   "outputs": [],
   "source": [
    "#ultra_sim = np.multiply(np.multiply(tfidf_cosine_sim, sims,em_cosine_sim ), sim_rate)\n",
    "t = np.add(tfidf_cosine_sim, sims,em_cosine_sim )\n",
    "ultra_sim = np.divide(np.add(t, sim_rate),4)"
   ]
  },
  {
   "cell_type": "code",
   "execution_count": 77,
   "id": "81337659-e82c-4743-a109-2d114292b270",
   "metadata": {},
   "outputs": [
    {
     "data": {
      "text/plain": [
       "array([[1.9999996 , 0.17952669, 0.07724013, ..., 0.11535213, 0.01602515,\n",
       "        0.05866187],\n",
       "       [0.17952669, 2.        , 0.13689281, ..., 0.07197614, 0.        ,\n",
       "        0.03462672],\n",
       "       [0.07724013, 0.13689281, 1.9999999 , ..., 0.09462294, 0.        ,\n",
       "        0.        ],\n",
       "       ...,\n",
       "       [0.11535213, 0.07197614, 0.09462294, ..., 2.        , 0.01743482,\n",
       "        0.        ],\n",
       "       [0.01602515, 0.        , 0.        , ..., 0.01743482, 2.        ,\n",
       "        0.        ],\n",
       "       [0.05866187, 0.03462672, 0.        , ..., 0.        , 0.        ,\n",
       "        2.        ]], dtype=float32)"
      ]
     },
     "execution_count": 77,
     "metadata": {},
     "output_type": "execute_result"
    }
   ],
   "source": [
    "em_cosine_sim"
   ]
  },
  {
   "cell_type": "code",
   "execution_count": null,
   "id": "e54d4d39-1ebf-407a-9a9b-f51a49f98618",
   "metadata": {},
   "outputs": [],
   "source": []
  },
  {
   "cell_type": "code",
   "execution_count": 54,
   "id": "c5f12e17-0da6-4751-9948-634053e493d1",
   "metadata": {},
   "outputs": [
    {
     "data": {
      "text/plain": [
       "array([[0.74999991, 0.16740165, 0.12701352, ..., 0.03225419, 0.00972321,\n",
       "        0.02351948],\n",
       "       [0.16740165, 0.75      , 0.12842508, ..., 0.02592562, 0.00673292,\n",
       "        0.02240674],\n",
       "       [0.12701352, 0.12842508, 0.74999997, ..., 0.02365573, 0.00783527,\n",
       "        0.00932701],\n",
       "       ...,\n",
       "       [0.03225419, 0.02592562, 0.02365573, ..., 0.75      , 0.00435871,\n",
       "        0.        ],\n",
       "       [0.00972321, 0.00673292, 0.00783527, ..., 0.00435871, 0.75      ,\n",
       "        0.        ],\n",
       "       [0.02351948, 0.02240674, 0.00932701, ..., 0.        , 0.        ,\n",
       "        0.75      ]])"
      ]
     },
     "execution_count": 54,
     "metadata": {},
     "output_type": "execute_result"
    }
   ],
   "source": [
    "ultra_sim"
   ]
  },
  {
   "cell_type": "code",
   "execution_count": 39,
   "id": "f2a1107f-2c1e-40c9-94b5-5354c99e046c",
   "metadata": {},
   "outputs": [],
   "source": [
    "def top_rec(title, sim, indices = pd.Series(df.index, index=df['title'])):\n",
    "    idx = indices[title]\n",
    "    sim_scores = list(enumerate(sim[idx]))\n",
    "    sim_scores = sorted(sim_scores, key=lambda x: x[1], reverse=True)\n",
    "    sim_scores = sim_scores[1:11]\n",
    "    movie_indices = [i[0] for i in sim_scores]\n",
    "    return df['title'].iloc[movie_indices]"
   ]
  },
  {
   "cell_type": "code",
   "execution_count": 47,
   "id": "7adf62e5-93e6-4005-a046-e618a6455334",
   "metadata": {},
   "outputs": [
    {
     "data": {
      "text/plain": [
       "104    The Dark Knight Rises\n",
       "146            Batman Begins\n",
       "12                 Inception\n",
       "59              The Departed\n",
       "46      Inglourious Basterds\n",
       "68            Shutter Island\n",
       "176                 Iron Man\n",
       "96            V for Vendetta\n",
       "60          Django Unchained\n",
       "26                   Memento\n",
       "Name: title, dtype: object"
      ]
     },
     "execution_count": 47,
     "metadata": {},
     "output_type": "execute_result"
    }
   ],
   "source": [
    "top_rec(\"The Dark Knight\", ultra_sim)"
   ]
  },
  {
   "cell_type": "code",
   "execution_count": 48,
   "id": "fea7f120-31a8-4bf8-a0c2-eff1ae8e5a54",
   "metadata": {},
   "outputs": [
    {
     "data": {
      "text/plain": [
       "1009                                         Spider-Man 2\n",
       "811                                                 X-Men\n",
       "149              Harry Potter and the Philosopher's Stone\n",
       "835                                                    X2\n",
       "108                                    The Breakfast Club\n",
       "27                  The Lord of the Rings: The Two Towers\n",
       "397                                              Kick-Ass\n",
       "1018                                       21 Jump Street\n",
       "2304                                             Election\n",
       "148     Pirates of the Caribbean: The Curse of the Bla...\n",
       "Name: title, dtype: object"
      ]
     },
     "execution_count": 48,
     "metadata": {},
     "output_type": "execute_result"
    }
   ],
   "source": [
    "top_rec(\"Spider-Man\", ultra_sim)"
   ]
  },
  {
   "cell_type": "code",
   "execution_count": 45,
   "id": "a2b438a2-0320-49f1-b9f4-4d8aa784d6ca",
   "metadata": {},
   "outputs": [
    {
     "data": {
      "text/plain": [
       "1712    The Amazing Spider-Man 2\n",
       "1018              21 Jump Street\n",
       "1009                Spider-Man 2\n",
       "1663      The Amazing Spider-Man\n",
       "1834              Lemonade Mouth\n",
       "3402       Bang Bang You're Dead\n",
       "1266                    Elephant\n",
       "108           The Breakfast Club\n",
       "397                     Kick-Ass\n",
       "2290           To Sir, with Love\n",
       "Name: title, dtype: object"
      ]
     },
     "execution_count": 45,
     "metadata": {},
     "output_type": "execute_result"
    }
   ],
   "source": [
    "top_rec(\"Spider-Man\", tfidf_cosine_sim)"
   ]
  },
  {
   "cell_type": "code",
   "execution_count": 46,
   "id": "32af710d-7529-4f46-84b5-b5509d3fb4e4",
   "metadata": {},
   "outputs": [
    {
     "data": {
      "text/plain": [
       "470                                Fast Five\n",
       "262                                Furious 7\n",
       "1832                          Fast & Furious\n",
       "1370                                     RED\n",
       "493                                John Wick\n",
       "526                                     Chef\n",
       "816     Mission: Impossible - Ghost Protocol\n",
       "3676                           The Wolverine\n",
       "3881                        White House Down\n",
       "2914                               Homefront\n",
       "Name: title, dtype: object"
      ]
     },
     "execution_count": 46,
     "metadata": {},
     "output_type": "execute_result"
    }
   ],
   "source": [
    "top_rec(\"Fast & Furious 6\", ultra_sim)"
   ]
  },
  {
   "cell_type": "code",
   "execution_count": 44,
   "id": "2c0a5851-594b-4155-82f0-d404499b4fba",
   "metadata": {},
   "outputs": [
    {
     "data": {
      "text/plain": [
       "262               Furious 7\n",
       "2166            The Natural\n",
       "3571    Murmur of the Heart\n",
       "3715         Dolphin Tale 2\n",
       "4037    V: The Final Battle\n",
       "1603      The Piano Teacher\n",
       "1370                    RED\n",
       "210           Life of Brian\n",
       "1372            Nowhere Boy\n",
       "3676          The Wolverine\n",
       "Name: title, dtype: object"
      ]
     },
     "execution_count": 44,
     "metadata": {},
     "output_type": "execute_result"
    }
   ],
   "source": [
    "top_rec(\"Fast & Furious 6\", tfidf_cosine_sim)"
   ]
  },
  {
   "cell_type": "markdown",
   "id": "4083f4ce-f463-458e-bcdd-a8dd971cf522",
   "metadata": {},
   "source": [
    "## Evaluation (Very bad)\n",
    "\n",
    "To reallty evaluate this we would have to perform A/B Testing"
   ]
  },
  {
   "cell_type": "code",
   "execution_count": null,
   "id": "d8bb1b01-c998-4c3d-ad05-3cd258216fa1",
   "metadata": {},
   "outputs": [],
   "source": [
    "column_name.str.contains('s')"
   ]
  },
  {
   "cell_type": "code",
   "execution_count": null,
   "id": "d305b9f1-4892-444e-bfb3-d7abd87dae3a",
   "metadata": {},
   "outputs": [],
   "source": [
    "df[df.title.str.contains('Fast')]"
   ]
  },
  {
   "cell_type": "code",
   "execution_count": null,
   "id": "d3993b87-998f-4f9e-9193-062412be8924",
   "metadata": {},
   "outputs": [],
   "source": [
    "top_rec(\"The Dark Knight\",ultra_sim)"
   ]
  },
  {
   "cell_type": "code",
   "execution_count": null,
   "id": "bd4b5b25-e8a1-43e0-8cd2-838f86867c43",
   "metadata": {},
   "outputs": [],
   "source": []
  },
  {
   "cell_type": "code",
   "execution_count": null,
   "id": "7733e136-f9b5-4712-816b-ecfcc1a35293",
   "metadata": {},
   "outputs": [],
   "source": []
  },
  {
   "cell_type": "code",
   "execution_count": null,
   "id": "3d6c4da5-ff30-4697-98d7-92835c8470a7",
   "metadata": {},
   "outputs": [],
   "source": []
  },
  {
   "cell_type": "code",
   "execution_count": null,
   "id": "ab515953",
   "metadata": {},
   "outputs": [],
   "source": [
    "dff.director"
   ]
  },
  {
   "cell_type": "code",
   "execution_count": null,
   "id": "f7add1c1",
   "metadata": {},
   "outputs": [],
   "source": [
    "def Convert(string):\n",
    "    \n",
    "    x = [string]\n",
    " \n",
    "    return x\n",
    "\n",
    "dff['director'] = dff['director'].apply(Convert)\n",
    "dff['soup'] = dff['keywords'] + dff['cast'] + dff['director']\n",
    "dff['soup'] = dff['soup'].apply(lambda x: ' '.join(x))"
   ]
  },
  {
   "cell_type": "code",
   "execution_count": null,
   "id": "7ab8988c",
   "metadata": {},
   "outputs": [],
   "source": [
    "dff['soup'] = dff['keywords'] + dff['cast'] + dff['director']\n",
    "dff['soup'] = dff['soup'].apply(lambda x: ' '.join(x))"
   ]
  },
  {
   "cell_type": "code",
   "execution_count": null,
   "id": "05a696cf",
   "metadata": {},
   "outputs": [],
   "source": [
    "from sklearn.feature_extraction.text import CountVectorizer\n",
    "from sklearn.metrics.pairwise import cosine_similarity\n",
    "count = CountVectorizer(analyzer='word',ngram_range=(1, 2),min_df=0, stop_words='english')\n",
    "count_matrix = count.fit_transform(dff['overview'])"
   ]
  },
  {
   "cell_type": "code",
   "execution_count": null,
   "id": "0a00cbb2",
   "metadata": {},
   "outputs": [],
   "source": [
    "count_matrix"
   ]
  },
  {
   "cell_type": "code",
   "execution_count": null,
   "id": "980a3224",
   "metadata": {},
   "outputs": [],
   "source": [
    "cosine_sim = cosine_similarity(count_matrix, count_matrix)"
   ]
  },
  {
   "cell_type": "code",
   "execution_count": null,
   "id": "2cf25eee",
   "metadata": {},
   "outputs": [],
   "source": [
    "dff = dff.reset_index()\n",
    "titles = dff['title']\n",
    "indices = pd.Series(dff.index, index=dff['title'])"
   ]
  },
  {
   "cell_type": "code",
   "execution_count": null,
   "id": "045d9a21",
   "metadata": {},
   "outputs": [],
   "source": [
    "def get_recommendations(title):\n",
    "    idx = indices[title]\n",
    "    sim_scores = list(enumerate(cosine_sim[idx]))\n",
    "    sim_scores = sorted(sim_scores, key=lambda x: x[1], reverse=True)\n",
    "    sim_scores = sim_scores[1:21]\n",
    "    movie_indices = [i[0] for i in sim_scores]\n",
    "    return titles.iloc[movie_indices]"
   ]
  },
  {
   "cell_type": "code",
   "execution_count": null,
   "id": "fcd5fcb5",
   "metadata": {},
   "outputs": [],
   "source": [
    "dff.title.sample(10)"
   ]
  },
  {
   "cell_type": "code",
   "execution_count": null,
   "id": "8c208c24",
   "metadata": {},
   "outputs": [],
   "source": [
    "get_recommendations('Toy Story').head(15)"
   ]
  },
  {
   "cell_type": "code",
   "execution_count": null,
   "id": "69e8261f",
   "metadata": {},
   "outputs": [],
   "source": [
    "dff[dff.title == 'Toy Story']"
   ]
  },
  {
   "cell_type": "code",
   "execution_count": null,
   "id": "dc509d6b",
   "metadata": {},
   "outputs": [],
   "source": [
    "dff[dff.title == \"You're Only Young Once\"]"
   ]
  },
  {
   "cell_type": "code",
   "execution_count": null,
   "id": "ad172b8a",
   "metadata": {},
   "outputs": [],
   "source": [
    "# could improve above by ensuring the recommended movie is still somwhat popular and well voted"
   ]
  },
  {
   "cell_type": "markdown",
   "id": "0327891a",
   "metadata": {},
   "source": [
    "## Collaborative Filtering\n",
    "\n",
    "![alt text](1_qFweWAKML-SdpGndGMvLDw.png)"
   ]
  },
  {
   "cell_type": "code",
   "execution_count": null,
   "id": "788a955b",
   "metadata": {},
   "outputs": [],
   "source": [
    "rating"
   ]
  },
  {
   "cell_type": "code",
   "execution_count": null,
   "id": "08b98ce7",
   "metadata": {},
   "outputs": [],
   "source": [
    "data = Dataset.load_from_df(ratings[['userId', 'movieId', 'rating']], reader)\n",
    "svd = SVD()\n",
    "cross_validate(svd, data, measures=['RMSE', 'MAE'],cv=5)"
   ]
  },
  {
   "cell_type": "code",
   "execution_count": null,
   "id": "514f4c75",
   "metadata": {},
   "outputs": [],
   "source": []
  },
  {
   "cell_type": "code",
   "execution_count": null,
   "id": "fd7ece34",
   "metadata": {},
   "outputs": [],
   "source": []
  },
  {
   "cell_type": "code",
   "execution_count": null,
   "id": "dcb1c1ed",
   "metadata": {},
   "outputs": [],
   "source": []
  },
  {
   "cell_type": "code",
   "execution_count": null,
   "id": "7a03323c",
   "metadata": {},
   "outputs": [],
   "source": []
  },
  {
   "cell_type": "code",
   "execution_count": null,
   "id": "0ec628d2",
   "metadata": {},
   "outputs": [],
   "source": []
  },
  {
   "cell_type": "code",
   "execution_count": null,
   "id": "1e3ee315",
   "metadata": {},
   "outputs": [],
   "source": []
  },
  {
   "cell_type": "code",
   "execution_count": null,
   "id": "c541be6d",
   "metadata": {},
   "outputs": [],
   "source": []
  },
  {
   "cell_type": "code",
   "execution_count": null,
   "id": "ea5618d1",
   "metadata": {},
   "outputs": [],
   "source": []
  },
  {
   "cell_type": "code",
   "execution_count": null,
   "id": "7bc3a5c8",
   "metadata": {},
   "outputs": [],
   "source": []
  },
  {
   "cell_type": "code",
   "execution_count": null,
   "id": "08e1911d",
   "metadata": {},
   "outputs": [],
   "source": []
  },
  {
   "cell_type": "code",
   "execution_count": null,
   "id": "b1fc55ce",
   "metadata": {},
   "outputs": [],
   "source": []
  },
  {
   "cell_type": "code",
   "execution_count": null,
   "id": "dae61211",
   "metadata": {},
   "outputs": [],
   "source": []
  }
 ],
 "metadata": {
  "environment": {
   "kernel": "python3",
   "name": "tf2-gpu.2-3.m91",
   "type": "gcloud",
   "uri": "gcr.io/deeplearning-platform-release/tf2-gpu.2-3:m91"
  },
  "kernelspec": {
   "display_name": "Python 3",
   "language": "python",
   "name": "python3"
  },
  "language_info": {
   "codemirror_mode": {
    "name": "ipython",
    "version": 3
   },
   "file_extension": ".py",
   "mimetype": "text/x-python",
   "name": "python",
   "nbconvert_exporter": "python",
   "pygments_lexer": "ipython3",
   "version": "3.7.12"
  }
 },
 "nbformat": 4,
 "nbformat_minor": 5
}

   "id": "3fbbc690",
   "metadata": {},
   "outputs": [
    {
     "name": "stderr",
     "output_type": "stream",
     "text": [
      "Using TensorFlow backend.\n"
     ]
    }
   ],
   "source": [
    "import pandas as pd\n",
    "from nltk.stem.snowball import SnowballStemmer\n",
    "#from surprise import Reader, Dataset\n",
    "import numpy as np \n",
    "from nltk.corpus import stopwords\n",
    "from nltk.stem import PorterStemmer\n",
    "from nltk.tokenize import word_tokenize\n",
    "import string\n",
    "import keras\n",
    "from keras.preprocessing.text import one_hot,Tokenizer\n",
    "from keras.preprocessing.sequence import pad_sequences\n",
    "from keras.models import Sequential\n",
    "from keras.layers import Dense , Flatten ,Embedding,Input\n",
    "from keras.models import Model\n",
    "import nltk"
   ]
  },
  {
   "cell_type": "code",
   "execution_count": 2,
   "id": "85004448",
   "metadata": {},
   "outputs": [
    {
     "data": {
      "text/html": [
       "<div>\n",
       "<style scoped>\n",
       "    .dataframe tbody tr th:only-of-type {\n",
       "        vertical-align: middle;\n",
       "    }\n",
       "\n",
       "    .dataframe tbody tr th {\n",
       "        vertical-align: top;\n",
       "    }\n",
       "\n",
       "    .dataframe thead th {\n",
       "        text-align: right;\n",
       "    }\n",
       "</style>\n",
       "<table border=\"1\" class=\"dataframe\">\n",
       "  <thead>\n",
       "    <tr style=\"text-align: right;\">\n",
       "      <th></th>\n",
       "      <th>title</th>\n",
       "      <th>overview</th>\n",
       "      <th>genres</th>\n",
       "      <th>vote_average</th>\n",
       "      <th>budget</th>\n",
       "      <th>runtime</th>\n",
       "      <th>adult</th>\n",
       "      <th>movieId</th>\n",
       "      <th>imdbId</th>\n",
       "      <th>tmdbId</th>\n",
       "      <th>cast</th>\n",
       "      <th>keywords</th>\n",
       "      <th>cast_size</th>\n",
       "      <th>crew_size</th>\n",
       "      <th>director</th>\n",
       "    </tr>\n",
       "  </thead>\n",
       "  <tbody>\n",
       "    <tr>\n",
       "      <th>0</th>\n",
       "      <td>Toy Story</td>\n",
       "      <td>Led by Woody, Andy's toys live happily in his ...</td>\n",
       "      <td>16</td>\n",
       "      <td>7.7</td>\n",
       "      <td>30000000</td>\n",
       "      <td>81.0</td>\n",
       "      <td>0</td>\n",
       "      <td>1</td>\n",
       "      <td>114709</td>\n",
       "      <td>862</td>\n",
       "      <td>['Tom Hanks', 'Tim Allen', 'Don Rickles']</td>\n",
       "      <td>['jealousy', 'toy', 'boy', 'friendship', 'frie...</td>\n",
       "      <td>13</td>\n",
       "      <td>106</td>\n",
       "      <td>John Lasseter</td>\n",
       "    </tr>\n",
       "    <tr>\n",
       "      <th>1</th>\n",
       "      <td>Jumanji</td>\n",
       "      <td>When siblings Judy and Peter discover an encha...</td>\n",
       "      <td>12</td>\n",
       "      <td>6.9</td>\n",
       "      <td>65000000</td>\n",
       "      <td>104.0</td>\n",
       "      <td>0</td>\n",
       "      <td>2</td>\n",
       "      <td>113497</td>\n",
       "      <td>8844</td>\n",
       "      <td>['Robin Williams', 'Jonathan Hyde', 'Kirsten D...</td>\n",
       "      <td>['board game', 'disappearance', \"based on chil...</td>\n",
       "      <td>26</td>\n",
       "      <td>16</td>\n",
       "      <td>Joe Johnston</td>\n",
       "    </tr>\n",
       "    <tr>\n",
       "      <th>2</th>\n",
       "      <td>Grumpier Old Men</td>\n",
       "      <td>A family wedding reignites the ancient feud be...</td>\n",
       "      <td>10749</td>\n",
       "      <td>6.5</td>\n",
       "      <td>0</td>\n",
       "      <td>101.0</td>\n",
       "      <td>0</td>\n",
       "      <td>3</td>\n",
       "      <td>113228</td>\n",
       "      <td>15602</td>\n",
       "      <td>['Walter Matthau', 'Jack Lemmon', 'Ann-Margret']</td>\n",
       "      <td>['fishing', 'best friend', 'duringcreditssting...</td>\n",
       "      <td>7</td>\n",
       "      <td>4</td>\n",
       "      <td>Howard Deutch</td>\n",
       "    </tr>\n",
       "  </tbody>\n",
       "</table>\n",
       "</div>"
      ],
      "text/plain": [
       "              title                                           overview  \\\n",
       "0         Toy Story  Led by Woody, Andy's toys live happily in his ...   \n",
       "1           Jumanji  When siblings Judy and Peter discover an encha...   \n",
       "2  Grumpier Old Men  A family wedding reignites the ancient feud be...   \n",
       "\n",
       "   genres  vote_average    budget  runtime  adult  movieId  imdbId  tmdbId  \\\n",
       "0      16           7.7  30000000     81.0      0        1  114709     862   \n",
       "1      12           6.9  65000000    104.0      0        2  113497    8844   \n",
       "2   10749           6.5         0    101.0      0        3  113228   15602   \n",
       "\n",
       "                                                cast  \\\n",
       "0          ['Tom Hanks', 'Tim Allen', 'Don Rickles']   \n",
       "1  ['Robin Williams', 'Jonathan Hyde', 'Kirsten D...   \n",
       "2   ['Walter Matthau', 'Jack Lemmon', 'Ann-Margret']   \n",
       "\n",
       "                                            keywords  cast_size  crew_size  \\\n",
       "0  ['jealousy', 'toy', 'boy', 'friendship', 'frie...         13        106   \n",
       "1  ['board game', 'disappearance', \"based on chil...         26         16   \n",
       "2  ['fishing', 'best friend', 'duringcreditssting...          7          4   \n",
       "\n",
       "        director  \n",
       "0  John Lasseter  \n",
       "1   Joe Johnston  \n",
       "2  Howard Deutch  "
      ]
     },
     "execution_count": 2,
     "metadata": {},
     "output_type": "execute_result"
    }
   ],
   "source": [
    "df = pd.read_csv('Clean_Item_Data')\n",
    "df.drop('Unnamed: 0',inplace = True,axis = 1)\n",
    "df.drop_duplicates(subset = 'title', inplace=True)\n",
    "df.head(3)"
   ]
  },
  {
   "cell_type": "code",
   "execution_count": 3,
   "id": "a7091d1f-cd8b-4156-934b-8801b48f3ac5",
   "metadata": {},
   "outputs": [
    {
     "data": {
      "text/plain": [
       "(38873, 15)"
      ]
     },
     "execution_count": 3,
     "metadata": {},
     "output_type": "execute_result"
    }
   ],
   "source": [
    "df.shape"
   ]
  },
  {
   "cell_type": "code",
   "execution_count": 4,
   "id": "c40dbfac",
   "metadata": {},
   "outputs": [
    {
     "data": {
      "text/html": [
       "<div>\n",
       "<style scoped>\n",
       "    .dataframe tbody tr th:only-of-type {\n",
       "        vertical-align: middle;\n",
       "    }\n",
       "\n",
       "    .dataframe tbody tr th {\n",
       "        vertical-align: top;\n",
       "    }\n",
       "\n",
       "    .dataframe thead th {\n",
       "        text-align: right;\n",
       "    }\n",
       "</style>\n",
       "<table border=\"1\" class=\"dataframe\">\n",
       "  <thead>\n",
       "    <tr style=\"text-align: right;\">\n",
       "      <th></th>\n",
       "      <th>userId</th>\n",
       "      <th>movieId</th>\n",
       "      <th>rating</th>\n",
       "      <th>timestamp</th>\n",
       "    </tr>\n",
       "  </thead>\n",
       "  <tbody>\n",
       "    <tr>\n",
       "      <th>14928935</th>\n",
       "      <td>155220</td>\n",
       "      <td>1625</td>\n",
       "      <td>4.0</td>\n",
       "      <td>938910155</td>\n",
       "    </tr>\n",
       "    <tr>\n",
       "      <th>12021746</th>\n",
       "      <td>124604</td>\n",
       "      <td>745</td>\n",
       "      <td>3.0</td>\n",
       "      <td>848513996</td>\n",
       "    </tr>\n",
       "    <tr>\n",
       "      <th>8352947</th>\n",
       "      <td>86128</td>\n",
       "      <td>3733</td>\n",
       "      <td>3.5</td>\n",
       "      <td>1108585812</td>\n",
       "    </tr>\n",
       "  </tbody>\n",
       "</table>\n",
       "</div>"
      ],
      "text/plain": [
       "          userId  movieId  rating   timestamp\n",
       "14928935  155220     1625     4.0   938910155\n",
       "12021746  124604      745     3.0   848513996\n",
       "8352947    86128     3733     3.5  1108585812"
      ]
     },
     "execution_count": 4,
     "metadata": {},
     "output_type": "execute_result"
    }
   ],
   "source": [
    "rating = pd.read_csv('ratings.csv')\n",
    "rating.sample(3)"
   ]
  },
  {
   "cell_type": "code",
   "execution_count": 5,
   "id": "f3710be1-7246-446c-a679-1bdc02cff814",
   "metadata": {},
   "outputs": [],
   "source": [
    "df = df[df.movieId.isin(rating.movieId.unique())]"
   ]
  },
  {
   "cell_type": "code",
   "execution_count": 6,
   "id": "0a815e5c-0573-493d-acce-872c7ca9c463",
   "metadata": {},
   "outputs": [],
   "source": [
    "rating = rating[rating.movieId.isin(df.movieId.unique())]"
   ]
  },
  {
   "cell_type": "code",
   "execution_count": 7,
   "id": "23a751ab-f338-4696-9507-eebbc63620e2",
   "metadata": {},
   "outputs": [],
   "source": [
    "df = df.reset_index(drop=True)\n",
    "rating = rating.reset_index(drop=True)"
   ]
  },
  {
   "cell_type": "markdown",
   "id": "86315b77",
   "metadata": {},
   "source": [
    "# Simple recommender\n",
    "\n",
    "Simply suggesting the most 'popular' movies"
   ]
  },
  {
   "cell_type": "code",
   "execution_count": 8,
   "id": "b49f7ba9",
   "metadata": {},
   "outputs": [
    {
     "data": {
      "text/html": [
       "<div>\n",
       "<style scoped>\n",
       "    .dataframe tbody tr th:only-of-type {\n",
       "        vertical-align: middle;\n",
       "    }\n",
       "\n",
       "    .dataframe tbody tr th {\n",
       "        vertical-align: top;\n",
       "    }\n",
       "\n",
       "    .dataframe thead th {\n",
       "        text-align: right;\n",
       "    }\n",
       "</style>\n",
       "<table border=\"1\" class=\"dataframe\">\n",
       "  <thead>\n",
       "    <tr style=\"text-align: right;\">\n",
       "      <th></th>\n",
       "      <th>title</th>\n",
       "      <th>overview</th>\n",
       "      <th>genres</th>\n",
       "      <th>vote_average</th>\n",
       "      <th>budget</th>\n",
       "      <th>runtime</th>\n",
       "      <th>adult</th>\n",
       "      <th>movieId</th>\n",
       "      <th>imdbId</th>\n",
       "      <th>tmdbId</th>\n",
       "      <th>cast</th>\n",
       "      <th>keywords</th>\n",
       "      <th>cast_size</th>\n",
       "      <th>crew_size</th>\n",
       "      <th>director</th>\n",
       "    </tr>\n",
       "  </thead>\n",
       "  <tbody>\n",
       "    <tr>\n",
       "      <th>24484</th>\n",
       "      <td>Claymation Comedy of Horrors</td>\n",
       "      <td>Wilshire Pig and Sheldon Snail discover a map ...</td>\n",
       "      <td>16</td>\n",
       "      <td>10.0</td>\n",
       "      <td>0</td>\n",
       "      <td>30.0</td>\n",
       "      <td>0</td>\n",
       "      <td>126094</td>\n",
       "      <td>252993</td>\n",
       "      <td>53543</td>\n",
       "      <td>[]</td>\n",
       "      <td>[]</td>\n",
       "      <td>0</td>\n",
       "      <td>2</td>\n",
       "      <td>Barry Bruce</td>\n",
       "    </tr>\n",
       "    <tr>\n",
       "      <th>25891</th>\n",
       "      <td>Crooks and Coronets</td>\n",
       "      <td>Two crooks are hired to rob an eccentric old l...</td>\n",
       "      <td>35</td>\n",
       "      <td>10.0</td>\n",
       "      <td>0</td>\n",
       "      <td>106.0</td>\n",
       "      <td>0</td>\n",
       "      <td>132052</td>\n",
       "      <td>64192</td>\n",
       "      <td>322460</td>\n",
       "      <td>['Telly Savalas', 'Edith Evans', 'Warren Oates']</td>\n",
       "      <td>['heist']</td>\n",
       "      <td>11</td>\n",
       "      <td>2</td>\n",
       "      <td>Jim O'Connolly</td>\n",
       "    </tr>\n",
       "    <tr>\n",
       "      <th>21398</th>\n",
       "      <td>Tall Story</td>\n",
       "      <td>Love puts a college basketball star into a tai...</td>\n",
       "      <td>35</td>\n",
       "      <td>10.0</td>\n",
       "      <td>0</td>\n",
       "      <td>91.0</td>\n",
       "      <td>0</td>\n",
       "      <td>112301</td>\n",
       "      <td>54367</td>\n",
       "      <td>86297</td>\n",
       "      <td>['Jane Fonda', 'Anthony Perkins', 'Ray Walston']</td>\n",
       "      <td>['college', 'bribe']</td>\n",
       "      <td>8</td>\n",
       "      <td>13</td>\n",
       "      <td>Joshua Logan</td>\n",
       "    </tr>\n",
       "    <tr>\n",
       "      <th>713</th>\n",
       "      <td>Carmen Miranda: Bananas Is My Business</td>\n",
       "      <td>A biography of the Portuguese-Brazilian singer...</td>\n",
       "      <td>99</td>\n",
       "      <td>10.0</td>\n",
       "      <td>0</td>\n",
       "      <td>91.0</td>\n",
       "      <td>0</td>\n",
       "      <td>756</td>\n",
       "      <td>109381</td>\n",
       "      <td>255546</td>\n",
       "      <td>['Carmen Miranda', 'Aurora Miranda', 'Cesar Ro...</td>\n",
       "      <td>['latin', 'profile', 'woman director']</td>\n",
       "      <td>10</td>\n",
       "      <td>3</td>\n",
       "      <td>Helena Solberg</td>\n",
       "    </tr>\n",
       "    <tr>\n",
       "      <th>18579</th>\n",
       "      <td>Road to Redemption</td>\n",
       "      <td>A couple come into contact with stolen mob mon...</td>\n",
       "      <td>28</td>\n",
       "      <td>10.0</td>\n",
       "      <td>0</td>\n",
       "      <td>89.0</td>\n",
       "      <td>0</td>\n",
       "      <td>99735</td>\n",
       "      <td>256341</td>\n",
       "      <td>46016</td>\n",
       "      <td>['Pat Hingle', 'Julie Condra', 'Leo Rossi']</td>\n",
       "      <td>['independent film']</td>\n",
       "      <td>4</td>\n",
       "      <td>1</td>\n",
       "      <td>Robert Vernon</td>\n",
       "    </tr>\n",
       "  </tbody>\n",
       "</table>\n",
       "</div>"
      ],
      "text/plain": [
       "                                        title  \\\n",
       "24484            Claymation Comedy of Horrors   \n",
       "25891                     Crooks and Coronets   \n",
       "21398                              Tall Story   \n",
       "713    Carmen Miranda: Bananas Is My Business   \n",
       "18579                      Road to Redemption   \n",
       "\n",
       "                                                overview  genres  \\\n",
       "24484  Wilshire Pig and Sheldon Snail discover a map ...      16   \n",
       "25891  Two crooks are hired to rob an eccentric old l...      35   \n",
       "21398  Love puts a college basketball star into a tai...      35   \n",
       "713    A biography of the Portuguese-Brazilian singer...      99   \n",
       "18579  A couple come into contact with stolen mob mon...      28   \n",
       "\n",
       "       vote_average  budget  runtime  adult  movieId  imdbId  tmdbId  \\\n",
       "24484          10.0       0     30.0      0   126094  252993   53543   \n",
       "25891          10.0       0    106.0      0   132052   64192  322460   \n",
       "21398          10.0       0     91.0      0   112301   54367   86297   \n",
       "713            10.0       0     91.0      0      756  109381  255546   \n",
       "18579          10.0       0     89.0      0    99735  256341   46016   \n",
       "\n",
       "                                                    cast  \\\n",
       "24484                                                 []   \n",
       "25891   ['Telly Savalas', 'Edith Evans', 'Warren Oates']   \n",
       "21398   ['Jane Fonda', 'Anthony Perkins', 'Ray Walston']   \n",
       "713    ['Carmen Miranda', 'Aurora Miranda', 'Cesar Ro...   \n",
       "18579        ['Pat Hingle', 'Julie Condra', 'Leo Rossi']   \n",
       "\n",
       "                                     keywords  cast_size  crew_size  \\\n",
       "24484                                      []          0          2   \n",
       "25891                               ['heist']         11          2   \n",
       "21398                    ['college', 'bribe']          8         13   \n",
       "713    ['latin', 'profile', 'woman director']         10          3   \n",
       "18579                    ['independent film']          4          1   \n",
       "\n",
       "             director  \n",
       "24484     Barry Bruce  \n",
       "25891  Jim O'Connolly  \n",
       "21398    Joshua Logan  \n",
       "713    Helena Solberg  \n",
       "18579   Robert Vernon  "
      ]
     },
     "execution_count": 8,
     "metadata": {},
     "output_type": "execute_result"
    }
   ],
   "source": [
    "# Very naive approach (also to do this properly I need to take into account of number of votes not just avg vote.)\n",
    "\n",
    "df.sort_values('vote_average', ascending=False).head(5)"
   ]
  },
  {
   "cell_type": "markdown",
   "id": "1a297ccd",
   "metadata": {},
   "source": [
    "## Content Based Filtering \n",
    "\n",
    "Goal: be able to group similar movies together and have a ranking system\n",
    "\n",
    "Many different approaches:\n",
    "\n",
    "- Recommend movies with similar descriptions, crew, cast I.E NLP\n",
    "- Tabular data i.e ratings, cost ect\n",
    "\n"
   ]
  },
  {
   "cell_type": "code",
   "execution_count": 75,
   "id": "1605aaa0-31ae-4e89-9bc2-4eef65c87c22",
   "metadata": {},
   "outputs": [
    {
     "name": "stderr",
     "output_type": "stream",
     "text": [
      "[nltk_data] Downloading package stopwords to\n",
      "[nltk_data]     /home/jupyter/nltk_data...\n",
      "[nltk_data]   Package stopwords is already up-to-date!\n"
     ]
    }
   ],
   "source": [
    "\n",
    "\n",
    "# Importing necessary libraries\n",
    "import pandas as pd\n",
    "import numpy as np\n",
    "import nltk\n",
    "nltk.download('stopwords')\n",
    "from nltk.corpus import stopwords\n",
    "from sklearn.metrics.pairwise import linear_kernel\n",
    "from sklearn.feature_extraction.text import CountVectorizer\n",
    "from sklearn.feature_extraction.text import TfidfVectorizer\n",
    "from nltk.tokenize import RegexpTokenizer\n",
    "import re\n",
    "import string\n",
    "import random\n",
    "from PIL import Image\n",
    "import requests\n",
    "from io import BytesIO\n",
    "import matplotlib.pyplot as plt\n",
    "%matplotlib inline\n",
    "from sklearn.metrics.pairwise import cosine_similarity\n",
    "from gensim.models import Word2Vec\n",
    "from gensim.models.phrases import Phrases, Phraser\n",
    "from matplotlib import pyplot\n",
    "from gensim.models import KeyedVectors\n",
    "\n",
    "\n",
    "def _removeNonAscii(s):\n",
    "    return \"\".join(i for i in s if  ord(i)<128)\n",
    "\n",
    "def make_lower_case(text):\n",
    "    return text.lower()\n",
    "\n",
    "def remove_stop_words(text):\n",
    "    text = text.split()\n",
    "    stops = set(stopwords.words(\"english\"))\n",
    "    text = [w for w in text if not w in stops]\n",
    "    text = \" \".join(text)\n",
    "    return text\n",
    "\n",
    "def remove_html(text):\n",
    "    html_pattern = re.compile('<.*?>')\n",
    "    return html_pattern.sub(r'', text)\n",
    "\n",
    "def remove_punctuation(text):\n",
    "    tokenizer = RegexpTokenizer(r'\\w+')\n",
    "    text = tokenizer.tokenize(text)\n",
    "    text = \" \".join(text)\n",
    "    return text\n",
    "\n",
    "df['cleaned'] = df['overview'].apply(_removeNonAscii)\n",
    "\n",
    "df['cleaned'] = df.cleaned.apply(func = make_lower_case)\n",
    "df['cleaned'] = df.cleaned.apply(func = remove_stop_words)\n",
    "df['cleaned'] = df.cleaned.apply(func=remove_punctuation)\n",
    "df['cleaned'] = df.cleaned.apply(func=remove_html)"
   ]
  },
  {
   "cell_type": "code",
   "execution_count": 76,
   "id": "d448fb4a-0455-4600-8e4c-fc1918454e02",
   "metadata": {},
   "outputs": [
    {
     "data": {
      "text/plain": [
       "0        led woody andy s toys live happily room andy s...\n",
       "1        siblings judy peter discover enchanted board g...\n",
       "2        family wedding reignites ancient feud net door...\n",
       "3        cheated on mistreated stepped on women holding...\n",
       "4        george banks recovered daughter s wedding rece...\n",
       "                               ...                        \n",
       "38277    true crime documentary delve murder spree insp...\n",
       "38278    film archivist revisits story rustin parr herm...\n",
       "38279    year 3000 ad world s dangerous women banished ...\n",
       "38280                             rising falling man woman\n",
       "38281    artist struggles finish work storyline cult pl...\n",
       "Name: cleaned, Length: 38282, dtype: object"
      ]
     },
     "execution_count": 76,
     "metadata": {},
     "output_type": "execute_result"
    }
   ],
   "source": [
    "df['cleaned']"
   ]
  },
  {
   "cell_type": "code",
   "execution_count": 77,
   "id": "076e7114-0b90-4751-b13c-574e82045308",
   "metadata": {},
   "outputs": [],
   "source": [
    "tf = TfidfVectorizer(analyzer='word',ngram_range=(1, 2),min_df=0, stop_words='english')\n",
    "tfidf_matrix = tf.fit_transform(df['cleaned'])"
   ]
  },
  {
   "cell_type": "code",
   "execution_count": 78,
   "id": "e17ad197-f91a-46d3-afe1-a337b984c38f",
   "metadata": {},
   "outputs": [
    {
     "data": {
      "text/plain": [
       "(38282, 915918)"
      ]
     },
     "execution_count": 78,
     "metadata": {},
     "output_type": "execute_result"
    }
   ],
   "source": [
    "tfidf_matrix.shape"
   ]
  },
  {
   "cell_type": "code",
   "execution_count": 80,
   "id": "1022e087-58e2-4b69-85ad-57f682327e19",
   "metadata": {},
   "outputs": [],
   "source": [
    "cosine_sim = linear_kernel(tfidf_matrix, tfidf_matrix)"
   ]
  },
  {
   "cell_type": "code",
   "execution_count": 81,
   "id": "2c445dea-23f3-4e55-9b0e-9e9c1bde5ba1",
   "metadata": {},
   "outputs": [],
   "source": [
    "titles = df['title']"
   ]
  },
  {
   "cell_type": "code",
   "execution_count": 83,
   "id": "5d4c23f1-195c-4f52-9156-d36817bee108",
   "metadata": {},
   "outputs": [],
   "source": [
    "indices = pd.Series(df.index, index=df['title'])"
   ]
  },
  {
   "cell_type": "code",
   "execution_count": 84,
   "id": "84429dae-dc77-41d8-8524-8afd8924bc24",
   "metadata": {},
   "outputs": [],
   "source": [
    "def get_recommendations(title):\n",
    "    idx = indices[title]\n",
    "    sim_scores = list(enumerate(cosine_sim[idx]))\n",
    "    sim_scores = sorted(sim_scores, key=lambda x: x[1], reverse=True)\n",
    "    sim_scores = sim_scores[1:31]\n",
    "    movie_indices = [i[0] for i in sim_scores]\n",
    "    return titles.iloc[movie_indices]"
   ]
  },
  {
   "cell_type": "code",
   "execution_count": 85,
   "id": "5f18a30b-0daf-4aa6-bef5-80f54536d839",
   "metadata": {},
   "outputs": [
    {
     "data": {
      "text/plain": [
       "1124      The Godfather: Part II\n",
       "17001            The Outside Man\n",
       "28011           Honor Thy Father\n",
       "21011                 Blood Ties\n",
       "29                Shanghai Triad\n",
       "15286      New York Confidential\n",
       "7994                        Fury\n",
       "35242              Live by Night\n",
       "12474               I Am the Law\n",
       "1834     The Godfather: Part III\n",
       "Name: title, dtype: object"
      ]
     },
     "execution_count": 85,
     "metadata": {},
     "output_type": "execute_result"
    }
   ],
   "source": [
    "get_recommendations('The Godfather').head(10)"
   ]
  },
  {
   "cell_type": "code",
   "execution_count": 86,
   "id": "7dd7edf7-039e-438a-a700-ab0ae4c08f54",
   "metadata": {},
   "outputs": [
    {
     "data": {
      "text/plain": [
       "16939                                The Dark Knight Rises\n",
       "145                                         Batman Forever\n",
       "1270                                        Batman Returns\n",
       "574                                                 Batman\n",
       "14557                           Batman: Under the Red Hood\n",
       "19401    Batman Unmasked: The Psychology of the Dark Kn...\n",
       "18600              Batman: The Dark Knight Returns, Part 2\n",
       "16755                                     Batman: Year One\n",
       "34828    LEGO DC Comics Super Heroes: Batman: Be-Leaguered\n",
       "35623    Batman Beyond Darwyn Cooke's Batman 75th Anniv...\n",
       "Name: title, dtype: object"
      ]
     },
     "execution_count": 86,
     "metadata": {},
     "output_type": "execute_result"
    }
   ],
   "source": [
    "get_recommendations('The Dark Knight').head(10)"
   ]
  },
  {
   "cell_type": "code",
   "execution_count": null,
   "id": "56a8508b-6161-4206-871c-ed62680df490",
   "metadata": {},
   "outputs": [],
   "source": []
  },
  {
   "cell_type": "code",
   "execution_count": 137,
   "id": "28bf3134-2252-42a1-a673-1d36a9b287b5",
   "metadata": {},
   "outputs": [],
   "source": [
    "from gensim.models.doc2vec import Doc2Vec, TaggedDocument\n",
    "from nltk.tokenize import word_tokenize"
   ]
  },
  {
   "cell_type": "code",
   "execution_count": 138,
   "id": "a9ae73ac-b811-4734-a9c5-42603f61612d",
   "metadata": {},
   "outputs": [],
   "source": [
    "data = df['cleaned']\n",
    "\n",
    "tagged_data = [TaggedDocument(words=word_tokenize(_d.lower()), tags=[str(i)]) for i, _d in enumerate(data)]"
   ]
  },
  {
   "cell_type": "code",
   "execution_count": null,
   "id": "51ab6511-fc92-4e34-8eea-7008418f5d72",
   "metadata": {},
   "outputs": [
    {
     "name": "stdout",
     "output_type": "stream",
     "text": [
      "0\n",
      "1\n",
      "2\n",
      "3\n",
      "4\n",
      "5\n",
      "6\n",
      "7\n",
      "8\n",
      "9\n",
      "10\n",
      "11\n",
      "12\n",
      "13\n",
      "14\n",
      "15\n",
      "16\n",
      "17\n",
      "18\n",
      "19\n",
      "20\n",
      "21\n",
      "22\n",
      "23\n",
      "24\n",
      "25\n",
      "26\n",
      "27\n",
      "28\n",
      "29\n",
      "30\n",
      "31\n",
      "32\n",
      "33\n",
      "34\n",
      "35\n",
      "36\n",
      "37\n",
      "38\n",
      "39\n",
      "40\n",
      "41\n"
     ]
    }
   ],
   "source": [
    "max_epochs = 100\n",
    "vec_size = 15\n",
    "alpha = 0.025\n",
    "\n",
    "model = Doc2Vec(vector_size=vec_size,\n",
    "                alpha=alpha, \n",
    "                min_alpha=0.00025,\n",
    "                min_count=1,\n",
    "                dm =1)\n",
    "  \n",
    "model.build_vocab(tagged_data)\n",
    "\n",
    "for epoch in range(max_epochs):\n",
    "\n",
    "    print(epoch)\n",
    "    model.train(tagged_data,\n",
    "                total_examples=model.corpus_count,\n",
    "                epochs=model.epochs)\n",
    "    # decrease the learning rate\n",
    "    model.alpha -= 0.0002\n",
    "    # fix the learning rate, no decay\n",
    "    model.min_alpha = model.alpha\n",
    "\n",
    "model.save(\"d2v.model\")\n",
    "print(\"Model Saved\")"
   ]
  },
  {
   "cell_type": "code",
   "execution_count": 129,
   "id": "940d228a-8eea-4d77-98c0-bac5f16d17d5",
   "metadata": {},
   "outputs": [],
   "source": [
    "model= Doc2Vec.load(\"d2v.model\")"
   ]
  },
  {
   "cell_type": "code",
   "execution_count": 130,
   "id": "7ee2e9f4-9874-4244-8fe0-56cf1e174d51",
   "metadata": {},
   "outputs": [
    {
     "data": {
      "text/plain": [
       "['I love machine learning. Its awesome.',\n",
       " 'I love coding in python',\n",
       " 'I love building chatbots',\n",
       " 'I love building chatbots!']"
      ]
     },
     "execution_count": 130,
     "metadata": {},
     "output_type": "execute_result"
    }
   ],
   "source": [
    "[\"I love machine learning. Its awesome.\",\n",
    "        \"I love coding in python\",\n",
    "        \"I love building chatbots\",\n",
    "        \"I love building chatbots!\"]"
   ]
  },
  {
   "cell_type": "code",
   "execution_count": 131,
   "id": "4d2fdbb3-b977-4edb-bb88-a83573cb3287",
   "metadata": {},
   "outputs": [
    {
     "data": {
      "text/plain": [
       "{'0': 0, '1': 1, '2': 2, '3': 3}"
      ]
     },
     "execution_count": 131,
     "metadata": {},
     "output_type": "execute_result"
    }
   ],
   "source": [
    "model.dv.key_to_index "
   ]
  },
  {
   "cell_type": "code",
   "execution_count": 132,
   "id": "5d50ed33-c47e-4cf2-afb6-944b50b4cac3",
   "metadata": {},
   "outputs": [
    {
     "name": "stdout",
     "output_type": "stream",
     "text": [
      "[('2', 0.734465479850769), ('1', 0.7178300023078918), ('0', 0.4611991345882416)]\n",
      "[-0.4464615   0.05181082 -0.46369314  0.0706271   0.6003256  -0.6622851\n",
      " -0.6252563  -0.6537112   0.07582504 -0.7323634   0.2951613   0.5026427\n",
      " -0.7469875  -0.7266919  -0.28869343  0.07489646  0.00168609 -0.35149062\n",
      " -0.6598793   0.21526803]\n"
     ]
    },
    {
     "name": "stderr",
     "output_type": "stream",
     "text": [
      "/opt/conda/lib/python3.7/site-packages/ipykernel_launcher.py:9: DeprecationWarning: Call to deprecated `docvecs` (The `docvecs` property has been renamed `dv`.).\n",
      "  if __name__ == '__main__':\n",
      "/opt/conda/lib/python3.7/site-packages/ipykernel_launcher.py:14: DeprecationWarning: Call to deprecated `docvecs` (The `docvecs` property has been renamed `dv`.).\n",
      "  \n"
     ]
    }
   ],
   "source": [
    "from gensim.models.doc2vec import Doc2Vec\n",
    "\n",
    "model= Doc2Vec.load(\"d2v.model\")\n",
    "#to find the vector of a document which is not in training data\n",
    "test_data = word_tokenize(\"I love chatbots\".lower())\n",
    "\n",
    "\n",
    "# to find most similar doc using tags\n",
    "similar_doc = model.docvecs.most_similar('3')\n",
    "print(similar_doc)\n",
    "\n",
    "\n",
    "# to find vector of doc in training data using tags or in other words, printing the vector of document at index 1 in training data\n",
    "print(model.docvecs['1'])\n"
   ]
  },
  {
   "cell_type": "markdown",
   "id": "81124359",
   "metadata": {},
   "source": [
    "### Below is a bit of a trick\n",
    "\n",
    "A better way would be to do similarity rating on keywords, cast and director seperatly and thehn combine all of this to find similar movies\n",
    "\n",
    "Instead (for speed) I just combine all there strings seperatly. "
   ]
  },
  {
   "cell_type": "code",
   "execution_count": null,
   "id": "f6fa15e0-4ccd-4b7a-9af6-6e14c546154a",
   "metadata": {},
   "outputs": [],
   "source": []
  },
  {
   "cell_type": "code",
   "execution_count": null,
   "id": "a3a640dd-c538-4cd8-92c1-f028e5fc6288",
   "metadata": {},
   "outputs": [],
   "source": []
  },
  {
   "cell_type": "code",
   "execution_count": null,
   "id": "8b8a9b50-d82c-4239-b0d3-4b792b0c12d3",
   "metadata": {},
   "outputs": [],
   "source": []
  },
  {
   "cell_type": "code",
   "execution_count": null,
   "id": "6eb92747-9f6f-41f8-9b12-07f5b9af2023",
   "metadata": {},
   "outputs": [],
   "source": []
  },
  {
   "cell_type": "code",
   "execution_count": null,
   "id": "b931a5c3-1509-47ce-ac12-420b410f7a03",
   "metadata": {},
   "outputs": [],
   "source": []
  },
  {
   "cell_type": "code",
   "execution_count": null,
   "id": "3d6c4da5-ff30-4697-98d7-92835c8470a7",
   "metadata": {},
   "outputs": [],
   "source": []
  },
  {
   "cell_type": "code",
   "execution_count": null,
   "id": "ab515953",
   "metadata": {},
   "outputs": [],
   "source": [
    "dff.director"
   ]
  },
  {
   "cell_type": "code",
   "execution_count": null,
   "id": "f7add1c1",
   "metadata": {},
   "outputs": [],
   "source": [
    "def Convert(string):\n",
    "    \n",
    "    x = [string]\n",
    " \n",
    "    return x\n",
    "\n",
    "dff['director'] = dff['director'].apply(Convert)\n",
    "dff['soup'] = dff['keywords'] + dff['cast'] + dff['director']\n",
    "dff['soup'] = dff['soup'].apply(lambda x: ' '.join(x))"
   ]
  },
  {
   "cell_type": "code",
   "execution_count": null,
   "id": "7ab8988c",
   "metadata": {},
   "outputs": [],
   "source": [
    "dff['soup'] = dff['keywords'] + dff['cast'] + dff['director']\n",
    "dff['soup'] = dff['soup'].apply(lambda x: ' '.join(x))"
   ]
  },
  {
   "cell_type": "code",
   "execution_count": null,
   "id": "05a696cf",
   "metadata": {},
   "outputs": [],
   "source": [
    "from sklearn.feature_extraction.text import CountVectorizer\n",
    "from sklearn.metrics.pairwise import cosine_similarity\n",
    "count = CountVectorizer(analyzer='word',ngram_range=(1, 2),min_df=0, stop_words='english')\n",
    "count_matrix = count.fit_transform(dff['overview'])"
   ]
  },
  {
   "cell_type": "code",
   "execution_count": null,
   "id": "0a00cbb2",
   "metadata": {},
   "outputs": [],
   "source": [
    "count_matrix"
   ]
  },
  {
   "cell_type": "code",
   "execution_count": null,
   "id": "980a3224",
   "metadata": {},
   "outputs": [],
   "source": [
    "cosine_sim = cosine_similarity(count_matrix, count_matrix)"
   ]
  },
  {
   "cell_type": "code",
   "execution_count": null,
   "id": "2cf25eee",
   "metadata": {},
   "outputs": [],
   "source": [
    "dff = dff.reset_index()\n",
    "titles = dff['title']\n",
    "indices = pd.Series(dff.index, index=dff['title'])"
   ]
  },
  {
   "cell_type": "code",
   "execution_count": null,
   "id": "045d9a21",
   "metadata": {},
   "outputs": [],
   "source": [
    "def get_recommendations(title):\n",
    "    idx = indices[title]\n",
    "    sim_scores = list(enumerate(cosine_sim[idx]))\n",
    "    sim_scores = sorted(sim_scores, key=lambda x: x[1], reverse=True)\n",
    "    sim_scores = sim_scores[1:21]\n",
    "    movie_indices = [i[0] for i in sim_scores]\n",
    "    return titles.iloc[movie_indices]"
   ]
  },
  {
   "cell_type": "code",
   "execution_count": null,
   "id": "fcd5fcb5",
   "metadata": {},
   "outputs": [],
   "source": [
    "dff.title.sample(10)"
   ]
  },
  {
   "cell_type": "code",
   "execution_count": null,
   "id": "8c208c24",
   "metadata": {},
   "outputs": [],
   "source": [
    "get_recommendations('Toy Story').head(15)"
   ]
  },
  {
   "cell_type": "code",
   "execution_count": null,
   "id": "69e8261f",
   "metadata": {},
   "outputs": [],
   "source": [
    "dff[dff.title == 'Toy Story']"
   ]
  },
  {
   "cell_type": "code",
   "execution_count": null,
   "id": "dc509d6b",
   "metadata": {},
   "outputs": [],
   "source": [
    "dff[dff.title == \"You're Only Young Once\"]"
   ]
  },
  {
   "cell_type": "code",
   "execution_count": null,
   "id": "ad172b8a",
   "metadata": {},
   "outputs": [],
   "source": [
    "# could improve above by ensuring the recommended movie is still somwhat popular and well voted"
   ]
  },
  {
   "cell_type": "markdown",
   "id": "0327891a",
   "metadata": {},
   "source": [
    "## Collaborative Filtering\n",
    "\n",
    "![alt text](1_qFweWAKML-SdpGndGMvLDw.png)"
   ]
  },
  {
   "cell_type": "code",
   "execution_count": null,
   "id": "788a955b",
   "metadata": {},
   "outputs": [],
   "source": [
    "rating"
   ]
  },
  {
   "cell_type": "code",
   "execution_count": null,
   "id": "08b98ce7",
   "metadata": {},
   "outputs": [],
   "source": [
    "data = Dataset.load_from_df(ratings[['userId', 'movieId', 'rating']], reader)\n",
    "svd = SVD()\n",
    "cross_validate(svd, data, measures=['RMSE', 'MAE'],cv=5)"
   ]
  },
  {
   "cell_type": "code",
   "execution_count": null,
   "id": "514f4c75",
   "metadata": {},
   "outputs": [],
   "source": []
  },
  {
   "cell_type": "code",
   "execution_count": null,
   "id": "fd7ece34",
   "metadata": {},
   "outputs": [],
   "source": []
  },
  {
   "cell_type": "code",
   "execution_count": null,
   "id": "dcb1c1ed",
   "metadata": {},
   "outputs": [],
   "source": []
  },
  {
   "cell_type": "code",
   "execution_count": null,
   "id": "7a03323c",
   "metadata": {},
   "outputs": [],
   "source": []
  },
  {
   "cell_type": "code",
   "execution_count": null,
   "id": "0ec628d2",
   "metadata": {},
   "outputs": [],
   "source": []
  },
  {
   "cell_type": "code",
   "execution_count": null,
   "id": "1e3ee315",
   "metadata": {},
   "outputs": [],
   "source": []
  },
  {
   "cell_type": "code",
   "execution_count": null,
   "id": "c541be6d",
   "metadata": {},
   "outputs": [],
   "source": []
  },
  {
   "cell_type": "code",
   "execution_count": null,
   "id": "ea5618d1",
   "metadata": {},
   "outputs": [],
   "source": []
  },
  {
   "cell_type": "code",
   "execution_count": null,
   "id": "7bc3a5c8",
   "metadata": {},
   "outputs": [],
   "source": []
  },
  {
   "cell_type": "code",
   "execution_count": null,
   "id": "08e1911d",
   "metadata": {},
   "outputs": [],
   "source": []
  },
  {
   "cell_type": "code",
   "execution_count": null,
   "id": "b1fc55ce",
   "metadata": {},
   "outputs": [],
   "source": []
  },
  {
   "cell_type": "code",
   "execution_count": null,
   "id": "dae61211",
   "metadata": {},
   "outputs": [],
   "source": []
  }
 ],
 "metadata": {
  "environment": {
   "kernel": "python3",
   "name": "tf2-gpu.2-3.m91",
   "type": "gcloud",
   "uri": "gcr.io/deeplearning-platform-release/tf2-gpu.2-3:m91"
  },
  "kernelspec": {
   "display_name": "Python 3",
   "language": "python",
   "name": "python3"
  },
  "language_info": {
   "codemirror_mode": {
    "name": "ipython",
    "version": 3
   },
   "file_extension": ".py",
   "mimetype": "text/x-python",
   "name": "python",
   "nbconvert_exporter": "python",
   "pygments_lexer": "ipython3",
   "version": "3.7.12"
  }
 },
 "nbformat": 4,
 "nbformat_minor": 5
}
