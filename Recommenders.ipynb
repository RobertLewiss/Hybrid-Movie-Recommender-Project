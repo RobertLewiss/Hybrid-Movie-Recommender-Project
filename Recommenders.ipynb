{
 "cells": [
  {
   "cell_type": "markdown",
   "id": "09c9ae5b",
   "metadata": {},
   "source": [
    "# Recommender Systems Walk Through"
   ]
  },
  {
   "cell_type": "markdown",
   "id": "c96e21c2",
   "metadata": {},
   "source": [
    "### Intro\n",
    "\n",
    "Recommender Systems:\n",
    "\n",
    "- Content Based Filtering\n",
    "\n",
    "    Content-based filtering uses item features to recommend other items similar to what the user likes, based on their previous actions or explicit feedback.\n",
    "    \n",
    "    Our case: Use NLP and cosine similarity on Movie Synopsis, Casts & Directors to find similar movies.\n",
    "    \n",
    "\n",
    "- Collaborative Filtering\n",
    "\n",
    "The aim of CF is to find similar users and recommend products based on a similar user.\n",
    "\n",
    "Finally I will implement a simple hybrid model\n",
    "\n"
   ]
  },
  {
   "cell_type": "markdown",
   "id": "c2b62c54",
   "metadata": {},
   "source": [
    "### Loading data in from cleaning Notebook"
   ]
  },
  {
   "cell_type": "code",
   "execution_count": 1,
   "id": "3fbbc690",
   "metadata": {},
   "outputs": [],
   "source": [
    "import pandas as pd\n",
    "from nltk.stem.snowball import SnowballStemmer\n",
    "from surprise import Reader, Dataset\n",
    "import numpy as np "
   ]
  },
  {
   "cell_type": "code",
   "execution_count": 2,
   "id": "85004448",
   "metadata": {},
   "outputs": [
    {
     "data": {
      "text/html": [
       "<div>\n",
       "<style scoped>\n",
       "    .dataframe tbody tr th:only-of-type {\n",
       "        vertical-align: middle;\n",
       "    }\n",
       "\n",
       "    .dataframe tbody tr th {\n",
       "        vertical-align: top;\n",
       "    }\n",
       "\n",
       "    .dataframe thead th {\n",
       "        text-align: right;\n",
       "    }\n",
       "</style>\n",
       "<table border=\"1\" class=\"dataframe\">\n",
       "  <thead>\n",
       "    <tr style=\"text-align: right;\">\n",
       "      <th></th>\n",
       "      <th>Unnamed: 0</th>\n",
       "      <th>title</th>\n",
       "      <th>overview</th>\n",
       "      <th>genres</th>\n",
       "      <th>vote_average</th>\n",
       "      <th>budget</th>\n",
       "      <th>runtime</th>\n",
       "      <th>adult</th>\n",
       "      <th>movieId</th>\n",
       "      <th>imdbId</th>\n",
       "      <th>tmdbId</th>\n",
       "      <th>cast</th>\n",
       "      <th>keywords</th>\n",
       "      <th>cast_size</th>\n",
       "      <th>crew_size</th>\n",
       "      <th>director</th>\n",
       "    </tr>\n",
       "  </thead>\n",
       "  <tbody>\n",
       "    <tr>\n",
       "      <th>0</th>\n",
       "      <td>0</td>\n",
       "      <td>Toy Story</td>\n",
       "      <td>Led by Woody, Andy's toys live happily in his ...</td>\n",
       "      <td>16</td>\n",
       "      <td>7.7</td>\n",
       "      <td>30000000</td>\n",
       "      <td>81.0</td>\n",
       "      <td>0</td>\n",
       "      <td>1</td>\n",
       "      <td>114709</td>\n",
       "      <td>862</td>\n",
       "      <td>['Tom Hanks', 'Tim Allen', 'Don Rickles']</td>\n",
       "      <td>['jealousy', 'toy', 'boy', 'friendship', 'frie...</td>\n",
       "      <td>13</td>\n",
       "      <td>106</td>\n",
       "      <td>John Lasseter</td>\n",
       "    </tr>\n",
       "    <tr>\n",
       "      <th>1</th>\n",
       "      <td>1</td>\n",
       "      <td>Jumanji</td>\n",
       "      <td>When siblings Judy and Peter discover an encha...</td>\n",
       "      <td>12</td>\n",
       "      <td>6.9</td>\n",
       "      <td>65000000</td>\n",
       "      <td>104.0</td>\n",
       "      <td>0</td>\n",
       "      <td>2</td>\n",
       "      <td>113497</td>\n",
       "      <td>8844</td>\n",
       "      <td>['Robin Williams', 'Jonathan Hyde', 'Kirsten D...</td>\n",
       "      <td>['board game', 'disappearance', \"based on chil...</td>\n",
       "      <td>26</td>\n",
       "      <td>16</td>\n",
       "      <td>Joe Johnston</td>\n",
       "    </tr>\n",
       "    <tr>\n",
       "      <th>2</th>\n",
       "      <td>2</td>\n",
       "      <td>Grumpier Old Men</td>\n",
       "      <td>A family wedding reignites the ancient feud be...</td>\n",
       "      <td>10749</td>\n",
       "      <td>6.5</td>\n",
       "      <td>0</td>\n",
       "      <td>101.0</td>\n",
       "      <td>0</td>\n",
       "      <td>3</td>\n",
       "      <td>113228</td>\n",
       "      <td>15602</td>\n",
       "      <td>['Walter Matthau', 'Jack Lemmon', 'Ann-Margret']</td>\n",
       "      <td>['fishing', 'best friend', 'duringcreditssting...</td>\n",
       "      <td>7</td>\n",
       "      <td>4</td>\n",
       "      <td>Howard Deutch</td>\n",
       "    </tr>\n",
       "  </tbody>\n",
       "</table>\n",
       "</div>"
      ],
      "text/plain": [
       "   Unnamed: 0             title  \\\n",
       "0           0         Toy Story   \n",
       "1           1           Jumanji   \n",
       "2           2  Grumpier Old Men   \n",
       "\n",
       "                                            overview  genres  vote_average  \\\n",
       "0  Led by Woody, Andy's toys live happily in his ...      16           7.7   \n",
       "1  When siblings Judy and Peter discover an encha...      12           6.9   \n",
       "2  A family wedding reignites the ancient feud be...   10749           6.5   \n",
       "\n",
       "     budget  runtime  adult  movieId  imdbId  tmdbId  \\\n",
       "0  30000000     81.0      0        1  114709     862   \n",
       "1  65000000    104.0      0        2  113497    8844   \n",
       "2         0    101.0      0        3  113228   15602   \n",
       "\n",
       "                                                cast  \\\n",
       "0          ['Tom Hanks', 'Tim Allen', 'Don Rickles']   \n",
       "1  ['Robin Williams', 'Jonathan Hyde', 'Kirsten D...   \n",
       "2   ['Walter Matthau', 'Jack Lemmon', 'Ann-Margret']   \n",
       "\n",
       "                                            keywords  cast_size  crew_size  \\\n",
       "0  ['jealousy', 'toy', 'boy', 'friendship', 'frie...         13        106   \n",
       "1  ['board game', 'disappearance', \"based on chil...         26         16   \n",
       "2  ['fishing', 'best friend', 'duringcreditssting...          7          4   \n",
       "\n",
       "        director  \n",
       "0  John Lasseter  \n",
       "1   Joe Johnston  \n",
       "2  Howard Deutch  "
      ]
     },
     "execution_count": 2,
     "metadata": {},
     "output_type": "execute_result"
    }
   ],
   "source": [
    "df = pd.read_csv('Clean_Item_Data')\n",
    "df.head(3)"
   ]
  },
  {
   "cell_type": "code",
   "execution_count": 4,
   "id": "c40dbfac",
   "metadata": {},
   "outputs": [
    {
     "data": {
      "text/html": [
       "<div>\n",
       "<style scoped>\n",
       "    .dataframe tbody tr th:only-of-type {\n",
       "        vertical-align: middle;\n",
       "    }\n",
       "\n",
       "    .dataframe tbody tr th {\n",
       "        vertical-align: top;\n",
       "    }\n",
       "\n",
       "    .dataframe thead th {\n",
       "        text-align: right;\n",
       "    }\n",
       "</style>\n",
       "<table border=\"1\" class=\"dataframe\">\n",
       "  <thead>\n",
       "    <tr style=\"text-align: right;\">\n",
       "      <th></th>\n",
       "      <th>userId</th>\n",
       "      <th>movieId</th>\n",
       "      <th>rating</th>\n",
       "      <th>timestamp</th>\n",
       "    </tr>\n",
       "  </thead>\n",
       "  <tbody>\n",
       "    <tr>\n",
       "      <th>1019067</th>\n",
       "      <td>10363</td>\n",
       "      <td>2141</td>\n",
       "      <td>3.5</td>\n",
       "      <td>1223305921</td>\n",
       "    </tr>\n",
       "    <tr>\n",
       "      <th>21638236</th>\n",
       "      <td>224751</td>\n",
       "      <td>91542</td>\n",
       "      <td>5.0</td>\n",
       "      <td>1445360333</td>\n",
       "    </tr>\n",
       "    <tr>\n",
       "      <th>16251544</th>\n",
       "      <td>168860</td>\n",
       "      <td>14</td>\n",
       "      <td>3.0</td>\n",
       "      <td>1007838247</td>\n",
       "    </tr>\n",
       "  </tbody>\n",
       "</table>\n",
       "</div>"
      ],
      "text/plain": [
       "          userId  movieId  rating   timestamp\n",
       "1019067    10363     2141     3.5  1223305921\n",
       "21638236  224751    91542     5.0  1445360333\n",
       "16251544  168860       14     3.0  1007838247"
      ]
     },
     "execution_count": 4,
     "metadata": {},
     "output_type": "execute_result"
    }
   ],
   "source": [
    "rating = pd.read_csv('ratings.csv')\n",
    "rating.sample(3)"
   ]
  },
  {
   "cell_type": "markdown",
   "id": "86315b77",
   "metadata": {},
   "source": [
    "# Simple recommender\n",
    "\n",
    "Simply suggesting the most 'popular' movies"
   ]
  },
  {
   "cell_type": "code",
   "execution_count": 5,
   "id": "b49f7ba9",
   "metadata": {},
   "outputs": [
    {
     "data": {
      "text/html": [
       "<div>\n",
       "<style scoped>\n",
       "    .dataframe tbody tr th:only-of-type {\n",
       "        vertical-align: middle;\n",
       "    }\n",
       "\n",
       "    .dataframe tbody tr th {\n",
       "        vertical-align: top;\n",
       "    }\n",
       "\n",
       "    .dataframe thead th {\n",
       "        text-align: right;\n",
       "    }\n",
       "</style>\n",
       "<table border=\"1\" class=\"dataframe\">\n",
       "  <thead>\n",
       "    <tr style=\"text-align: right;\">\n",
       "      <th></th>\n",
       "      <th>Unnamed: 0</th>\n",
       "      <th>title</th>\n",
       "      <th>overview</th>\n",
       "      <th>genres</th>\n",
       "      <th>vote_average</th>\n",
       "      <th>budget</th>\n",
       "      <th>runtime</th>\n",
       "      <th>adult</th>\n",
       "      <th>movieId</th>\n",
       "      <th>imdbId</th>\n",
       "      <th>tmdbId</th>\n",
       "      <th>cast</th>\n",
       "      <th>keywords</th>\n",
       "      <th>cast_size</th>\n",
       "      <th>crew_size</th>\n",
       "      <th>director</th>\n",
       "    </tr>\n",
       "  </thead>\n",
       "  <tbody>\n",
       "    <tr>\n",
       "      <th>30521</th>\n",
       "      <td>30779</td>\n",
       "      <td>Canal Zone</td>\n",
       "      <td>CANAL ZONE is about the people who live and wo...</td>\n",
       "      <td>99</td>\n",
       "      <td>10.0</td>\n",
       "      <td>0</td>\n",
       "      <td>174.0</td>\n",
       "      <td>0</td>\n",
       "      <td>139237</td>\n",
       "      <td>75803</td>\n",
       "      <td>114423</td>\n",
       "      <td>[]</td>\n",
       "      <td>[]</td>\n",
       "      <td>0</td>\n",
       "      <td>1</td>\n",
       "      <td>Frederick Wiseman</td>\n",
       "    </tr>\n",
       "    <tr>\n",
       "      <th>28299</th>\n",
       "      <td>28513</td>\n",
       "      <td>One Night Only</td>\n",
       "      <td>A group of female friends get together with so...</td>\n",
       "      <td>35</td>\n",
       "      <td>10.0</td>\n",
       "      <td>0</td>\n",
       "      <td>87.0</td>\n",
       "      <td>0</td>\n",
       "      <td>132000</td>\n",
       "      <td>91682</td>\n",
       "      <td>72178</td>\n",
       "      <td>['Lenore Zann', 'Geoffrey MacKay', 'Helene Udy']</td>\n",
       "      <td>[]</td>\n",
       "      <td>9</td>\n",
       "      <td>1</td>\n",
       "      <td>Timothy Bond</td>\n",
       "    </tr>\n",
       "    <tr>\n",
       "      <th>38161</th>\n",
       "      <td>38584</td>\n",
       "      <td>Sunnyside Up</td>\n",
       "      <td>Molly and Bee, sweet young 'working girls,' li...</td>\n",
       "      <td>35</td>\n",
       "      <td>10.0</td>\n",
       "      <td>0</td>\n",
       "      <td>121.0</td>\n",
       "      <td>0</td>\n",
       "      <td>161876</td>\n",
       "      <td>20466</td>\n",
       "      <td>86360</td>\n",
       "      <td>['Janet Gaynor', 'Charles Farrell', 'Marjorie ...</td>\n",
       "      <td>[]</td>\n",
       "      <td>12</td>\n",
       "      <td>4</td>\n",
       "      <td>David Butler</td>\n",
       "    </tr>\n",
       "    <tr>\n",
       "      <th>40269</th>\n",
       "      <td>40736</td>\n",
       "      <td>Patient Zero</td>\n",
       "      <td>After an unprecedented global pandemic has tur...</td>\n",
       "      <td>28</td>\n",
       "      <td>10.0</td>\n",
       "      <td>0</td>\n",
       "      <td>0.0</td>\n",
       "      <td>0</td>\n",
       "      <td>168274</td>\n",
       "      <td>3458254</td>\n",
       "      <td>295011</td>\n",
       "      <td>['Natalie Dormer', 'Stanley Tucci', 'Matt Smith']</td>\n",
       "      <td>['survivor', 'language', 'end of the world', '...</td>\n",
       "      <td>16</td>\n",
       "      <td>6</td>\n",
       "      <td>Stefan Ruzowitzky</td>\n",
       "    </tr>\n",
       "    <tr>\n",
       "      <th>181</th>\n",
       "      <td>181</td>\n",
       "      <td>Reckless</td>\n",
       "      <td>On Christmas eve, a relentlessly cheerful woma...</td>\n",
       "      <td>14</td>\n",
       "      <td>10.0</td>\n",
       "      <td>0</td>\n",
       "      <td>91.0</td>\n",
       "      <td>0</td>\n",
       "      <td>189</td>\n",
       "      <td>114241</td>\n",
       "      <td>58372</td>\n",
       "      <td>['Mia Farrow', 'Tony Goldwyn', 'Scott Glenn']</td>\n",
       "      <td>['trauma', 'game show', 'female protagonist', ...</td>\n",
       "      <td>4</td>\n",
       "      <td>17</td>\n",
       "      <td>Norman René</td>\n",
       "    </tr>\n",
       "  </tbody>\n",
       "</table>\n",
       "</div>"
      ],
      "text/plain": [
       "       Unnamed: 0           title  \\\n",
       "30521       30779      Canal Zone   \n",
       "28299       28513  One Night Only   \n",
       "38161       38584    Sunnyside Up   \n",
       "40269       40736    Patient Zero   \n",
       "181           181        Reckless   \n",
       "\n",
       "                                                overview  genres  \\\n",
       "30521  CANAL ZONE is about the people who live and wo...      99   \n",
       "28299  A group of female friends get together with so...      35   \n",
       "38161  Molly and Bee, sweet young 'working girls,' li...      35   \n",
       "40269  After an unprecedented global pandemic has tur...      28   \n",
       "181    On Christmas eve, a relentlessly cheerful woma...      14   \n",
       "\n",
       "       vote_average  budget  runtime  adult  movieId   imdbId  tmdbId  \\\n",
       "30521          10.0       0    174.0      0   139237    75803  114423   \n",
       "28299          10.0       0     87.0      0   132000    91682   72178   \n",
       "38161          10.0       0    121.0      0   161876    20466   86360   \n",
       "40269          10.0       0      0.0      0   168274  3458254  295011   \n",
       "181            10.0       0     91.0      0      189   114241   58372   \n",
       "\n",
       "                                                    cast  \\\n",
       "30521                                                 []   \n",
       "28299   ['Lenore Zann', 'Geoffrey MacKay', 'Helene Udy']   \n",
       "38161  ['Janet Gaynor', 'Charles Farrell', 'Marjorie ...   \n",
       "40269  ['Natalie Dormer', 'Stanley Tucci', 'Matt Smith']   \n",
       "181        ['Mia Farrow', 'Tony Goldwyn', 'Scott Glenn']   \n",
       "\n",
       "                                                keywords  cast_size  \\\n",
       "30521                                                 []          0   \n",
       "28299                                                 []          9   \n",
       "38161                                                 []         12   \n",
       "40269  ['survivor', 'language', 'end of the world', '...         16   \n",
       "181    ['trauma', 'game show', 'female protagonist', ...          4   \n",
       "\n",
       "       crew_size           director  \n",
       "30521          1  Frederick Wiseman  \n",
       "28299          1       Timothy Bond  \n",
       "38161          4       David Butler  \n",
       "40269          6  Stefan Ruzowitzky  \n",
       "181           17        Norman René  "
      ]
     },
     "execution_count": 5,
     "metadata": {},
     "output_type": "execute_result"
    }
   ],
   "source": [
    "# Very naive approach (also to do this properly I need to take into account of number of votes not just avg vote.)\n",
    "\n",
    "df.sort_values('vote_average', ascending=False).head(5)"
   ]
  },
  {
   "cell_type": "markdown",
   "id": "1a297ccd",
   "metadata": {},
   "source": [
    "## Content Based Filtering \n",
    "\n",
    "Goal: be able to group similar movies together and have a ranking system\n",
    "\n",
    "Many different approaches:\n",
    "\n",
    "- Recommend movies with similar descriptions, crew, cast I.E NLP\n",
    "- Tabular data i.e ratings, cost ect\n",
    "\n"
   ]
  },
  {
   "cell_type": "code",
   "execution_count": null,
   "id": "b8a67f82",
   "metadata": {},
   "outputs": [],
   "source": [
    "dff = df.sample(10000)"
   ]
  },
  {
   "cell_type": "code",
   "execution_count": null,
   "id": "7d5a5649",
   "metadata": {},
   "outputs": [],
   "source": [
    "dff.dropna(inplace = True)"
   ]
  },
  {
   "cell_type": "code",
   "execution_count": null,
   "id": "e4b21a57",
   "metadata": {},
   "outputs": [],
   "source": [
    "dff.head(5)"
   ]
  },
  {
   "cell_type": "code",
   "execution_count": null,
   "id": "4e1239d1",
   "metadata": {},
   "outputs": [],
   "source": [
    "dff.keywords"
   ]
  },
  {
   "cell_type": "code",
   "execution_count": null,
   "id": "7186ad6c",
   "metadata": {},
   "outputs": [],
   "source": [
    "s = dff.apply(lambda x: pd.Series(x['keywords']),axis=1).stack().reset_index(level=1, drop=True)\n",
    "s.name = 'keyword'\n",
    "\n",
    "\n"
   ]
  },
  {
   "cell_type": "code",
   "execution_count": null,
   "id": "d095fe41",
   "metadata": {},
   "outputs": [],
   "source": [
    "s = s.value_counts()\n",
    "s[:10]"
   ]
  },
  {
   "cell_type": "code",
   "execution_count": null,
   "id": "d7bc155b",
   "metadata": {},
   "outputs": [],
   "source": [
    "s = s[s > 1]\n",
    "s"
   ]
  },
  {
   "cell_type": "code",
   "execution_count": null,
   "id": "863bb18a",
   "metadata": {},
   "outputs": [],
   "source": [
    "\n",
    "stemmer = SnowballStemmer('english')"
   ]
  },
  {
   "cell_type": "code",
   "execution_count": null,
   "id": "c58e34b8",
   "metadata": {},
   "outputs": [],
   "source": [
    "def filter_keywords(x):\n",
    "    words = []\n",
    "    for i in x:\n",
    "        if i in s:\n",
    "            words.append(i)\n",
    "    return words"
   ]
  },
  {
   "cell_type": "code",
   "execution_count": null,
   "id": "dc6f2bd1",
   "metadata": {},
   "outputs": [],
   "source": [
    "dff['keywords'] = dff['keywords'].apply(filter_keywords)\n",
    "dff['keywords'] = dff['keywords'].apply(lambda x: [stemmer.stem(i) for i in x])\n",
    "dff['keywords'] = dff['keywords'].apply(lambda x: [str.lower(i.replace(\" \", \"\")) for i in x])"
   ]
  },
  {
   "cell_type": "markdown",
   "id": "81124359",
   "metadata": {},
   "source": [
    "### Below is a bit of a trick\n",
    "\n",
    "A better way would be to do similarity rating on keywords, cast and director seperatly and thehn combine all of this to find similar movies\n",
    "\n",
    "Instead (for speed) I just combine all there strings seperatly. "
   ]
  },
  {
   "cell_type": "code",
   "execution_count": null,
   "id": "ab515953",
   "metadata": {},
   "outputs": [],
   "source": [
    "dff.director"
   ]
  },
  {
   "cell_type": "code",
   "execution_count": null,
   "id": "f7add1c1",
   "metadata": {},
   "outputs": [],
   "source": [
    "def Convert(string):\n",
    "    \n",
    "    x = [string]\n",
    " \n",
    "    return x\n",
    "\n",
    "dff['director'] = dff['director'].apply(Convert)\n"
   ]
  },
  {
   "cell_type": "code",
   "execution_count": null,
   "id": "7ab8988c",
   "metadata": {},
   "outputs": [],
   "source": [
    "dff['soup'] = dff['keywords'] + dff['cast'] + dff['director']\n",
    "dff['soup'] = dff['soup'].apply(lambda x: ' '.join(x))"
   ]
  },
  {
   "cell_type": "code",
   "execution_count": null,
   "id": "05a696cf",
   "metadata": {},
   "outputs": [],
   "source": [
    "from sklearn.feature_extraction.text import CountVectorizer\n",
    "from sklearn.metrics.pairwise import cosine_similarity\n",
    "count = CountVectorizer(analyzer='word',ngram_range=(1, 2),min_df=0, stop_words='english')\n",
    "count_matrix = count.fit_transform(dff['overview'])"
   ]
  },
  {
   "cell_type": "code",
   "execution_count": null,
   "id": "0a00cbb2",
   "metadata": {},
   "outputs": [],
   "source": [
    "count_matrix"
   ]
  },
  {
   "cell_type": "code",
   "execution_count": null,
   "id": "980a3224",
   "metadata": {},
   "outputs": [],
   "source": [
    "cosine_sim = cosine_similarity(count_matrix, count_matrix)"
   ]
  },
  {
   "cell_type": "code",
   "execution_count": null,
   "id": "2cf25eee",
   "metadata": {},
   "outputs": [],
   "source": [
    "dff = dff.reset_index()\n",
    "titles = dff['title']\n",
    "indices = pd.Series(dff.index, index=dff['title'])"
   ]
  },
  {
   "cell_type": "code",
   "execution_count": null,
   "id": "045d9a21",
   "metadata": {},
   "outputs": [],
   "source": [
    "def get_recommendations(title):\n",
    "    idx = indices[title]\n",
    "    sim_scores = list(enumerate(cosine_sim[idx]))\n",
    "    sim_scores = sorted(sim_scores, key=lambda x: x[1], reverse=True)\n",
    "    sim_scores = sim_scores[1:21]\n",
    "    movie_indices = [i[0] for i in sim_scores]\n",
    "    return titles.iloc[movie_indices]"
   ]
  },
  {
   "cell_type": "code",
   "execution_count": null,
   "id": "fcd5fcb5",
   "metadata": {},
   "outputs": [],
   "source": [
    "dff.title.sample(10)"
   ]
  },
  {
   "cell_type": "code",
   "execution_count": null,
   "id": "8c208c24",
   "metadata": {},
   "outputs": [],
   "source": [
    "get_recommendations('Toy Story').head(15)"
   ]
  },
  {
   "cell_type": "code",
   "execution_count": null,
   "id": "69e8261f",
   "metadata": {},
   "outputs": [],
   "source": [
    "dff[dff.title == 'Toy Story']"
   ]
  },
  {
   "cell_type": "code",
   "execution_count": null,
   "id": "dc509d6b",
   "metadata": {},
   "outputs": [],
   "source": [
    "dff[dff.title == \"You're Only Young Once\"]"
   ]
  },
  {
   "cell_type": "code",
   "execution_count": null,
   "id": "ad172b8a",
   "metadata": {},
   "outputs": [],
   "source": [
    "# could improve above by ensuring the recommended movie is still somwhat popular and well voted"
   ]
  },
  {
   "cell_type": "markdown",
   "id": "0327891a",
   "metadata": {},
   "source": [
    "## Collaborative Filtering\n",
    "\n",
    "![alt text](1_qFweWAKML-SdpGndGMvLDw.png)"
   ]
  },
  {
   "cell_type": "code",
   "execution_count": null,
   "id": "788a955b",
   "metadata": {},
   "outputs": [],
   "source": [
    "rating"
   ]
  },
  {
   "cell_type": "code",
   "execution_count": null,
   "id": "08b98ce7",
   "metadata": {},
   "outputs": [],
   "source": [
    "data = Dataset.load_from_df(ratings[['userId', 'movieId', 'rating']], reader)\n",
    "svd = SVD()\n",
    "cross_validate(svd, data, measures=['RMSE', 'MAE'],cv=5)"
   ]
  },
  {
   "cell_type": "code",
   "execution_count": null,
   "id": "514f4c75",
   "metadata": {},
   "outputs": [],
   "source": []
  },
  {
   "cell_type": "code",
   "execution_count": null,
   "id": "fd7ece34",
   "metadata": {},
   "outputs": [],
   "source": []
  },
  {
   "cell_type": "code",
   "execution_count": null,
   "id": "dcb1c1ed",
   "metadata": {},
   "outputs": [],
   "source": []
  },
  {
   "cell_type": "code",
   "execution_count": null,
   "id": "7a03323c",
   "metadata": {},
   "outputs": [],
   "source": []
  },
  {
   "cell_type": "code",
   "execution_count": null,
   "id": "0ec628d2",
   "metadata": {},
   "outputs": [],
   "source": []
  },
  {
   "cell_type": "code",
   "execution_count": null,
   "id": "1e3ee315",
   "metadata": {},
   "outputs": [],
   "source": []
  },
  {
   "cell_type": "code",
   "execution_count": null,
   "id": "c541be6d",
   "metadata": {},
   "outputs": [],
   "source": []
  },
  {
   "cell_type": "code",
   "execution_count": null,
   "id": "ea5618d1",
   "metadata": {},
   "outputs": [],
   "source": []
  },
  {
   "cell_type": "code",
   "execution_count": null,
   "id": "7bc3a5c8",
   "metadata": {},
   "outputs": [],
   "source": []
  },
  {
   "cell_type": "code",
   "execution_count": null,
   "id": "08e1911d",
   "metadata": {},
   "outputs": [],
   "source": []
  },
  {
   "cell_type": "code",
   "execution_count": null,
   "id": "b1fc55ce",
   "metadata": {},
   "outputs": [],
   "source": []
  },
  {
   "cell_type": "code",
   "execution_count": null,
   "id": "dae61211",
   "metadata": {},
   "outputs": [],
   "source": []
  }
 ],
 "metadata": {
  "kernelspec": {
   "display_name": "Python 3 (ipykernel)",
   "language": "python",
   "name": "python3"
  },
  "language_info": {
   "codemirror_mode": {
    "name": "ipython",
    "version": 3
   },
   "file_extension": ".py",
   "mimetype": "text/x-python",
   "name": "python",
   "nbconvert_exporter": "python",
   "pygments_lexer": "ipython3",
   "version": "3.9.7"
  }
 },
 "nbformat": 4,
 "nbformat_minor": 5
}
