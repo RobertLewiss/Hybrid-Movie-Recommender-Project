{
 "cells": [
  {
   "cell_type": "markdown",
   "id": "09c9ae5b",
   "metadata": {},
   "source": [
    "# Recommender Systems Walk Through"
   ]
  },
  {
   "cell_type": "markdown",
   "id": "c96e21c2",
   "metadata": {},
   "source": [
    "### Intro\n",
    "\n",
    "Recommender Systems:\n",
    "\n",
    "- Content Based Filtering\n",
    "\n",
    "    Content-based filtering uses item features to recommend other items similar to what the user likes, based on their previous actions or explicit feedback.\n",
    "    \n",
    "    Our case: Use NLP and cosine similarity on Movie Synopsis, Casts & Directors to find similar movies.\n",
    "    \n",
    "\n",
    "- Collaborative Filtering\n",
    "\n",
    "The aim of CF is to find similar users and recommend products based on a similar user.\n",
    "\n",
    "Finally I will implement a simple hybrid model\n",
    "\n"
   ]
  },
  {
   "cell_type": "markdown",
   "id": "c2b62c54",
   "metadata": {},
   "source": [
    "### Loading data in from cleaning Notebook"
   ]
  },
  {
   "cell_type": "code",
   "execution_count": 1,
   "id": "3fbbc690",
   "metadata": {},
   "outputs": [
    {
     "name": "stderr",
     "output_type": "stream",
     "text": [
      "Using TensorFlow backend.\n"
     ]
    }
   ],
   "source": [
    "import pandas as pd\n",
    "from nltk.stem.snowball import SnowballStemmer\n",
    "#from surprise import Reader, Dataset\n",
    "import numpy as np \n",
    "from nltk.corpus import stopwords\n",
    "from nltk.stem import PorterStemmer\n",
    "from nltk.tokenize import word_tokenize\n",
    "import string\n",
    "import keras\n",
    "from keras.preprocessing.text import one_hot,Tokenizer\n",
    "from keras.preprocessing.sequence import pad_sequences\n",
    "from keras.models import Sequential\n",
    "from keras.layers import Dense , Flatten ,Embedding,Input\n",
    "from keras.models import Model\n",
    "import nltk"
   ]
  },
  {
   "cell_type": "code",
   "execution_count": 2,
   "id": "85004448",
   "metadata": {},
   "outputs": [
    {
     "data": {
      "text/html": [
       "<div>\n",
       "<style scoped>\n",
       "    .dataframe tbody tr th:only-of-type {\n",
       "        vertical-align: middle;\n",
       "    }\n",
       "\n",
       "    .dataframe tbody tr th {\n",
       "        vertical-align: top;\n",
       "    }\n",
       "\n",
       "    .dataframe thead th {\n",
       "        text-align: right;\n",
       "    }\n",
       "</style>\n",
       "<table border=\"1\" class=\"dataframe\">\n",
       "  <thead>\n",
       "    <tr style=\"text-align: right;\">\n",
       "      <th></th>\n",
       "      <th>title</th>\n",
       "      <th>overview</th>\n",
       "      <th>genres</th>\n",
       "      <th>vote_average</th>\n",
       "      <th>budget</th>\n",
       "      <th>runtime</th>\n",
       "      <th>adult</th>\n",
       "      <th>movieId</th>\n",
       "      <th>imdbId</th>\n",
       "      <th>tmdbId</th>\n",
       "      <th>cast</th>\n",
       "      <th>keywords</th>\n",
       "      <th>cast_size</th>\n",
       "      <th>crew_size</th>\n",
       "      <th>director</th>\n",
       "    </tr>\n",
       "  </thead>\n",
       "  <tbody>\n",
       "    <tr>\n",
       "      <th>0</th>\n",
       "      <td>Toy Story</td>\n",
       "      <td>Led by Woody, Andy's toys live happily in his ...</td>\n",
       "      <td>16</td>\n",
       "      <td>7.7</td>\n",
       "      <td>30000000</td>\n",
       "      <td>81.0</td>\n",
       "      <td>0</td>\n",
       "      <td>1</td>\n",
       "      <td>114709</td>\n",
       "      <td>862</td>\n",
       "      <td>['Tom Hanks', 'Tim Allen', 'Don Rickles']</td>\n",
       "      <td>['jealousy', 'toy', 'boy', 'friendship', 'frie...</td>\n",
       "      <td>13</td>\n",
       "      <td>106</td>\n",
       "      <td>John Lasseter</td>\n",
       "    </tr>\n",
       "    <tr>\n",
       "      <th>1</th>\n",
       "      <td>Jumanji</td>\n",
       "      <td>When siblings Judy and Peter discover an encha...</td>\n",
       "      <td>12</td>\n",
       "      <td>6.9</td>\n",
       "      <td>65000000</td>\n",
       "      <td>104.0</td>\n",
       "      <td>0</td>\n",
       "      <td>2</td>\n",
       "      <td>113497</td>\n",
       "      <td>8844</td>\n",
       "      <td>['Robin Williams', 'Jonathan Hyde', 'Kirsten D...</td>\n",
       "      <td>['board game', 'disappearance', \"based on chil...</td>\n",
       "      <td>26</td>\n",
       "      <td>16</td>\n",
       "      <td>Joe Johnston</td>\n",
       "    </tr>\n",
       "    <tr>\n",
       "      <th>2</th>\n",
       "      <td>Grumpier Old Men</td>\n",
       "      <td>A family wedding reignites the ancient feud be...</td>\n",
       "      <td>10749</td>\n",
       "      <td>6.5</td>\n",
       "      <td>0</td>\n",
       "      <td>101.0</td>\n",
       "      <td>0</td>\n",
       "      <td>3</td>\n",
       "      <td>113228</td>\n",
       "      <td>15602</td>\n",
       "      <td>['Walter Matthau', 'Jack Lemmon', 'Ann-Margret']</td>\n",
       "      <td>['fishing', 'best friend', 'duringcreditssting...</td>\n",
       "      <td>7</td>\n",
       "      <td>4</td>\n",
       "      <td>Howard Deutch</td>\n",
       "    </tr>\n",
       "  </tbody>\n",
       "</table>\n",
       "</div>"
      ],
      "text/plain": [
       "              title                                           overview  \\\n",
       "0         Toy Story  Led by Woody, Andy's toys live happily in his ...   \n",
       "1           Jumanji  When siblings Judy and Peter discover an encha...   \n",
       "2  Grumpier Old Men  A family wedding reignites the ancient feud be...   \n",
       "\n",
       "   genres  vote_average    budget  runtime  adult  movieId  imdbId  tmdbId  \\\n",
       "0      16           7.7  30000000     81.0      0        1  114709     862   \n",
       "1      12           6.9  65000000    104.0      0        2  113497    8844   \n",
       "2   10749           6.5         0    101.0      0        3  113228   15602   \n",
       "\n",
       "                                                cast  \\\n",
       "0          ['Tom Hanks', 'Tim Allen', 'Don Rickles']   \n",
       "1  ['Robin Williams', 'Jonathan Hyde', 'Kirsten D...   \n",
       "2   ['Walter Matthau', 'Jack Lemmon', 'Ann-Margret']   \n",
       "\n",
       "                                            keywords  cast_size  crew_size  \\\n",
       "0  ['jealousy', 'toy', 'boy', 'friendship', 'frie...         13        106   \n",
       "1  ['board game', 'disappearance', \"based on chil...         26         16   \n",
       "2  ['fishing', 'best friend', 'duringcreditssting...          7          4   \n",
       "\n",
       "        director  \n",
       "0  John Lasseter  \n",
       "1   Joe Johnston  \n",
       "2  Howard Deutch  "
      ]
     },
     "execution_count": 2,
     "metadata": {},
     "output_type": "execute_result"
    }
   ],
   "source": [
    "df = pd.read_csv('Clean_Item_Data')\n",
    "df.drop('Unnamed: 0',inplace = True,axis = 1)\n",
    "df.drop_duplicates(subset = 'title', inplace=True)\n",
    "df.head(3)"
   ]
  },
  {
   "cell_type": "code",
   "execution_count": 3,
   "id": "a7091d1f-cd8b-4156-934b-8801b48f3ac5",
   "metadata": {},
   "outputs": [
    {
     "data": {
      "text/plain": [
       "(38873, 15)"
      ]
     },
     "execution_count": 3,
     "metadata": {},
     "output_type": "execute_result"
    }
   ],
   "source": [
    "df.shape"
   ]
  },
  {
   "cell_type": "code",
   "execution_count": 4,
   "id": "c40dbfac",
   "metadata": {},
   "outputs": [
    {
     "data": {
      "text/html": [
       "<div>\n",
       "<style scoped>\n",
       "    .dataframe tbody tr th:only-of-type {\n",
       "        vertical-align: middle;\n",
       "    }\n",
       "\n",
       "    .dataframe tbody tr th {\n",
       "        vertical-align: top;\n",
       "    }\n",
       "\n",
       "    .dataframe thead th {\n",
       "        text-align: right;\n",
       "    }\n",
       "</style>\n",
       "<table border=\"1\" class=\"dataframe\">\n",
       "  <thead>\n",
       "    <tr style=\"text-align: right;\">\n",
       "      <th></th>\n",
       "      <th>userId</th>\n",
       "      <th>movieId</th>\n",
       "      <th>rating</th>\n",
       "      <th>timestamp</th>\n",
       "    </tr>\n",
       "  </thead>\n",
       "  <tbody>\n",
       "    <tr>\n",
       "      <th>14928935</th>\n",
       "      <td>155220</td>\n",
       "      <td>1625</td>\n",
       "      <td>4.0</td>\n",
       "      <td>938910155</td>\n",
       "    </tr>\n",
       "    <tr>\n",
       "      <th>12021746</th>\n",
       "      <td>124604</td>\n",
       "      <td>745</td>\n",
       "      <td>3.0</td>\n",
       "      <td>848513996</td>\n",
       "    </tr>\n",
       "    <tr>\n",
       "      <th>8352947</th>\n",
       "      <td>86128</td>\n",
       "      <td>3733</td>\n",
       "      <td>3.5</td>\n",
       "      <td>1108585812</td>\n",
       "    </tr>\n",
       "  </tbody>\n",
       "</table>\n",
       "</div>"
      ],
      "text/plain": [
       "          userId  movieId  rating   timestamp\n",
       "14928935  155220     1625     4.0   938910155\n",
       "12021746  124604      745     3.0   848513996\n",
       "8352947    86128     3733     3.5  1108585812"
      ]
     },
     "execution_count": 4,
     "metadata": {},
     "output_type": "execute_result"
    }
   ],
   "source": [
    "rating = pd.read_csv('ratings.csv')\n",
    "rating.sample(3)"
   ]
  },
  {
   "cell_type": "code",
   "execution_count": 5,
   "id": "f3710be1-7246-446c-a679-1bdc02cff814",
   "metadata": {},
   "outputs": [],
   "source": [
    "df = df[df.movieId.isin(rating.movieId.unique())]"
   ]
  },
  {
   "cell_type": "code",
   "execution_count": 6,
   "id": "0a815e5c-0573-493d-acce-872c7ca9c463",
   "metadata": {},
   "outputs": [],
   "source": [
    "rating = rating[rating.movieId.isin(df.movieId.unique())]"
   ]
  },
  {
   "cell_type": "code",
   "execution_count": 7,
   "id": "23a751ab-f338-4696-9507-eebbc63620e2",
   "metadata": {},
   "outputs": [],
   "source": [
    "df = df.reset_index(drop=True)\n",
    "rating = rating.reset_index(drop=True)"
   ]
  },
  {
   "cell_type": "markdown",
   "id": "86315b77",
   "metadata": {},
   "source": [
    "# Simple recommender\n",
    "\n",
    "Simply suggesting the most 'popular' movies"
   ]
  },
  {
   "cell_type": "code",
   "execution_count": 8,
   "id": "b49f7ba9",
   "metadata": {},
   "outputs": [
    {
     "data": {
      "text/html": [
       "<div>\n",
       "<style scoped>\n",
       "    .dataframe tbody tr th:only-of-type {\n",
       "        vertical-align: middle;\n",
       "    }\n",
       "\n",
       "    .dataframe tbody tr th {\n",
       "        vertical-align: top;\n",
       "    }\n",
       "\n",
       "    .dataframe thead th {\n",
       "        text-align: right;\n",
       "    }\n",
       "</style>\n",
       "<table border=\"1\" class=\"dataframe\">\n",
       "  <thead>\n",
       "    <tr style=\"text-align: right;\">\n",
       "      <th></th>\n",
       "      <th>title</th>\n",
       "      <th>overview</th>\n",
       "      <th>genres</th>\n",
       "      <th>vote_average</th>\n",
       "      <th>budget</th>\n",
       "      <th>runtime</th>\n",
       "      <th>adult</th>\n",
       "      <th>movieId</th>\n",
       "      <th>imdbId</th>\n",
       "      <th>tmdbId</th>\n",
       "      <th>cast</th>\n",
       "      <th>keywords</th>\n",
       "      <th>cast_size</th>\n",
       "      <th>crew_size</th>\n",
       "      <th>director</th>\n",
       "    </tr>\n",
       "  </thead>\n",
       "  <tbody>\n",
       "    <tr>\n",
       "      <th>24484</th>\n",
       "      <td>Claymation Comedy of Horrors</td>\n",
       "      <td>Wilshire Pig and Sheldon Snail discover a map ...</td>\n",
       "      <td>16</td>\n",
       "      <td>10.0</td>\n",
       "      <td>0</td>\n",
       "      <td>30.0</td>\n",
       "      <td>0</td>\n",
       "      <td>126094</td>\n",
       "      <td>252993</td>\n",
       "      <td>53543</td>\n",
       "      <td>[]</td>\n",
       "      <td>[]</td>\n",
       "      <td>0</td>\n",
       "      <td>2</td>\n",
       "      <td>Barry Bruce</td>\n",
       "    </tr>\n",
       "    <tr>\n",
       "      <th>25891</th>\n",
       "      <td>Crooks and Coronets</td>\n",
       "      <td>Two crooks are hired to rob an eccentric old l...</td>\n",
       "      <td>35</td>\n",
       "      <td>10.0</td>\n",
       "      <td>0</td>\n",
       "      <td>106.0</td>\n",
       "      <td>0</td>\n",
       "      <td>132052</td>\n",
       "      <td>64192</td>\n",
       "      <td>322460</td>\n",
       "      <td>['Telly Savalas', 'Edith Evans', 'Warren Oates']</td>\n",
       "      <td>['heist']</td>\n",
       "      <td>11</td>\n",
       "      <td>2</td>\n",
       "      <td>Jim O'Connolly</td>\n",
       "    </tr>\n",
       "    <tr>\n",
       "      <th>21398</th>\n",
       "      <td>Tall Story</td>\n",
       "      <td>Love puts a college basketball star into a tai...</td>\n",
       "      <td>35</td>\n",
       "      <td>10.0</td>\n",
       "      <td>0</td>\n",
       "      <td>91.0</td>\n",
       "      <td>0</td>\n",
       "      <td>112301</td>\n",
       "      <td>54367</td>\n",
       "      <td>86297</td>\n",
       "      <td>['Jane Fonda', 'Anthony Perkins', 'Ray Walston']</td>\n",
       "      <td>['college', 'bribe']</td>\n",
       "      <td>8</td>\n",
       "      <td>13</td>\n",
       "      <td>Joshua Logan</td>\n",
       "    </tr>\n",
       "    <tr>\n",
       "      <th>713</th>\n",
       "      <td>Carmen Miranda: Bananas Is My Business</td>\n",
       "      <td>A biography of the Portuguese-Brazilian singer...</td>\n",
       "      <td>99</td>\n",
       "      <td>10.0</td>\n",
       "      <td>0</td>\n",
       "      <td>91.0</td>\n",
       "      <td>0</td>\n",
       "      <td>756</td>\n",
       "      <td>109381</td>\n",
       "      <td>255546</td>\n",
       "      <td>['Carmen Miranda', 'Aurora Miranda', 'Cesar Ro...</td>\n",
       "      <td>['latin', 'profile', 'woman director']</td>\n",
       "      <td>10</td>\n",
       "      <td>3</td>\n",
       "      <td>Helena Solberg</td>\n",
       "    </tr>\n",
       "    <tr>\n",
       "      <th>18579</th>\n",
       "      <td>Road to Redemption</td>\n",
       "      <td>A couple come into contact with stolen mob mon...</td>\n",
       "      <td>28</td>\n",
       "      <td>10.0</td>\n",
       "      <td>0</td>\n",
       "      <td>89.0</td>\n",
       "      <td>0</td>\n",
       "      <td>99735</td>\n",
       "      <td>256341</td>\n",
       "      <td>46016</td>\n",
       "      <td>['Pat Hingle', 'Julie Condra', 'Leo Rossi']</td>\n",
       "      <td>['independent film']</td>\n",
       "      <td>4</td>\n",
       "      <td>1</td>\n",
       "      <td>Robert Vernon</td>\n",
       "    </tr>\n",
       "  </tbody>\n",
       "</table>\n",
       "</div>"
      ],
      "text/plain": [
       "                                        title  \\\n",
       "24484            Claymation Comedy of Horrors   \n",
       "25891                     Crooks and Coronets   \n",
       "21398                              Tall Story   \n",
       "713    Carmen Miranda: Bananas Is My Business   \n",
       "18579                      Road to Redemption   \n",
       "\n",
       "                                                overview  genres  \\\n",
       "24484  Wilshire Pig and Sheldon Snail discover a map ...      16   \n",
       "25891  Two crooks are hired to rob an eccentric old l...      35   \n",
       "21398  Love puts a college basketball star into a tai...      35   \n",
       "713    A biography of the Portuguese-Brazilian singer...      99   \n",
       "18579  A couple come into contact with stolen mob mon...      28   \n",
       "\n",
       "       vote_average  budget  runtime  adult  movieId  imdbId  tmdbId  \\\n",
       "24484          10.0       0     30.0      0   126094  252993   53543   \n",
       "25891          10.0       0    106.0      0   132052   64192  322460   \n",
       "21398          10.0       0     91.0      0   112301   54367   86297   \n",
       "713            10.0       0     91.0      0      756  109381  255546   \n",
       "18579          10.0       0     89.0      0    99735  256341   46016   \n",
       "\n",
       "                                                    cast  \\\n",
       "24484                                                 []   \n",
       "25891   ['Telly Savalas', 'Edith Evans', 'Warren Oates']   \n",
       "21398   ['Jane Fonda', 'Anthony Perkins', 'Ray Walston']   \n",
       "713    ['Carmen Miranda', 'Aurora Miranda', 'Cesar Ro...   \n",
       "18579        ['Pat Hingle', 'Julie Condra', 'Leo Rossi']   \n",
       "\n",
       "                                     keywords  cast_size  crew_size  \\\n",
       "24484                                      []          0          2   \n",
       "25891                               ['heist']         11          2   \n",
       "21398                    ['college', 'bribe']          8         13   \n",
       "713    ['latin', 'profile', 'woman director']         10          3   \n",
       "18579                    ['independent film']          4          1   \n",
       "\n",
       "             director  \n",
       "24484     Barry Bruce  \n",
       "25891  Jim O'Connolly  \n",
       "21398    Joshua Logan  \n",
       "713    Helena Solberg  \n",
       "18579   Robert Vernon  "
      ]
     },
     "execution_count": 8,
     "metadata": {},
     "output_type": "execute_result"
    }
   ],
   "source": [
    "# Very naive approach (also to do this properly I need to take into account of number of votes not just avg vote.)\n",
    "\n",
    "df.sort_values('vote_average', ascending=False).head(5)"
   ]
  },
  {
   "cell_type": "markdown",
   "id": "1a297ccd",
   "metadata": {},
   "source": [
    "## Content Based Filtering \n",
    "\n",
    "Goal: be able to group similar movies together and have a ranking system\n",
    "\n",
    "Many different approaches:\n",
    "\n",
    "- Recommend movies with similar descriptions, crew, cast I.E NLP\n",
    "- Tabular data i.e ratings, cost ect\n",
    "\n"
   ]
  },
  {
   "cell_type": "code",
   "execution_count": 75,
   "id": "1605aaa0-31ae-4e89-9bc2-4eef65c87c22",
   "metadata": {},
   "outputs": [
    {
     "name": "stderr",
     "output_type": "stream",
     "text": [
      "[nltk_data] Downloading package stopwords to\n",
      "[nltk_data]     /home/jupyter/nltk_data...\n",
      "[nltk_data]   Package stopwords is already up-to-date!\n"
     ]
    }
   ],
   "source": [
    "\n",
    "\n",
    "# Importing necessary libraries\n",
    "import pandas as pd\n",
    "import numpy as np\n",
    "import nltk\n",
    "nltk.download('stopwords')\n",
    "from nltk.corpus import stopwords\n",
    "from sklearn.metrics.pairwise import linear_kernel\n",
    "from sklearn.feature_extraction.text import CountVectorizer\n",
    "from sklearn.feature_extraction.text import TfidfVectorizer\n",
    "from nltk.tokenize import RegexpTokenizer\n",
    "import re\n",
    "import string\n",
    "import random\n",
    "from PIL import Image\n",
    "import requests\n",
    "from io import BytesIO\n",
    "import matplotlib.pyplot as plt\n",
    "%matplotlib inline\n",
    "from sklearn.metrics.pairwise import cosine_similarity\n",
    "from gensim.models import Word2Vec\n",
    "from gensim.models.phrases import Phrases, Phraser\n",
    "from matplotlib import pyplot\n",
    "from gensim.models import KeyedVectors\n",
    "\n",
    "\n",
    "def _removeNonAscii(s):\n",
    "    return \"\".join(i for i in s if  ord(i)<128)\n",
    "\n",
    "def make_lower_case(text):\n",
    "    return text.lower()\n",
    "\n",
    "def remove_stop_words(text):\n",
    "    text = text.split()\n",
    "    stops = set(stopwords.words(\"english\"))\n",
    "    text = [w for w in text if not w in stops]\n",
    "    text = \" \".join(text)\n",
    "    return text\n",
    "\n",
    "def remove_html(text):\n",
    "    html_pattern = re.compile('<.*?>')\n",
    "    return html_pattern.sub(r'', text)\n",
    "\n",
    "def remove_punctuation(text):\n",
    "    tokenizer = RegexpTokenizer(r'\\w+')\n",
    "    text = tokenizer.tokenize(text)\n",
    "    text = \" \".join(text)\n",
    "    return text\n",
    "\n",
    "df['cleaned'] = df['overview'].apply(_removeNonAscii)\n",
    "\n",
    "df['cleaned'] = df.cleaned.apply(func = make_lower_case)\n",
    "df['cleaned'] = df.cleaned.apply(func = remove_stop_words)\n",
    "df['cleaned'] = df.cleaned.apply(func=remove_punctuation)\n",
    "df['cleaned'] = df.cleaned.apply(func=remove_html)"
   ]
  },
  {
   "cell_type": "code",
   "execution_count": 76,
   "id": "d448fb4a-0455-4600-8e4c-fc1918454e02",
   "metadata": {},
   "outputs": [
    {
     "data": {
      "text/plain": [
       "0        led woody andy s toys live happily room andy s...\n",
       "1        siblings judy peter discover enchanted board g...\n",
       "2        family wedding reignites ancient feud net door...\n",
       "3        cheated on mistreated stepped on women holding...\n",
       "4        george banks recovered daughter s wedding rece...\n",
       "                               ...                        \n",
       "38277    true crime documentary delve murder spree insp...\n",
       "38278    film archivist revisits story rustin parr herm...\n",
       "38279    year 3000 ad world s dangerous women banished ...\n",
       "38280                             rising falling man woman\n",
       "38281    artist struggles finish work storyline cult pl...\n",
       "Name: cleaned, Length: 38282, dtype: object"
      ]
     },
     "execution_count": 76,
     "metadata": {},
     "output_type": "execute_result"
    }
   ],
   "source": [
    "df['cleaned']"
   ]
  },
  {
   "cell_type": "code",
   "execution_count": 77,
   "id": "076e7114-0b90-4751-b13c-574e82045308",
   "metadata": {},
   "outputs": [],
   "source": [
    "tf = TfidfVectorizer(analyzer='word',ngram_range=(1, 2),min_df=0, stop_words='english')\n",
    "tfidf_matrix = tf.fit_transform(df['cleaned'])"
   ]
  },
  {
   "cell_type": "code",
   "execution_count": 78,
   "id": "e17ad197-f91a-46d3-afe1-a337b984c38f",
   "metadata": {},
   "outputs": [
    {
     "data": {
      "text/plain": [
       "(38282, 915918)"
      ]
     },
     "execution_count": 78,
     "metadata": {},
     "output_type": "execute_result"
    }
   ],
   "source": [
    "tfidf_matrix.shape"
   ]
  },
  {
   "cell_type": "code",
   "execution_count": 80,
   "id": "1022e087-58e2-4b69-85ad-57f682327e19",
   "metadata": {},
   "outputs": [],
   "source": [
    "cosine_sim = linear_kernel(tfidf_matrix, tfidf_matrix)"
   ]
  },
  {
   "cell_type": "code",
   "execution_count": 81,
   "id": "2c445dea-23f3-4e55-9b0e-9e9c1bde5ba1",
   "metadata": {},
   "outputs": [],
   "source": [
    "titles = df['title']"
   ]
  },
  {
   "cell_type": "code",
   "execution_count": 83,
   "id": "5d4c23f1-195c-4f52-9156-d36817bee108",
   "metadata": {},
   "outputs": [],
   "source": [
    "indices = pd.Series(df.index, index=df['title'])"
   ]
  },
  {
   "cell_type": "code",
   "execution_count": 84,
   "id": "84429dae-dc77-41d8-8524-8afd8924bc24",
   "metadata": {},
   "outputs": [],
   "source": [
    "def get_recommendations(title):\n",
    "    idx = indices[title]\n",
    "    sim_scores = list(enumerate(cosine_sim[idx]))\n",
    "    sim_scores = sorted(sim_scores, key=lambda x: x[1], reverse=True)\n",
    "    sim_scores = sim_scores[1:31]\n",
    "    movie_indices = [i[0] for i in sim_scores]\n",
    "    return titles.iloc[movie_indices]"
   ]
  },
  {
   "cell_type": "code",
   "execution_count": 85,
   "id": "5f18a30b-0daf-4aa6-bef5-80f54536d839",
   "metadata": {},
   "outputs": [
    {
     "data": {
      "text/plain": [
       "1124      The Godfather: Part II\n",
       "17001            The Outside Man\n",
       "28011           Honor Thy Father\n",
       "21011                 Blood Ties\n",
       "29                Shanghai Triad\n",
       "15286      New York Confidential\n",
       "7994                        Fury\n",
       "35242              Live by Night\n",
       "12474               I Am the Law\n",
       "1834     The Godfather: Part III\n",
       "Name: title, dtype: object"
      ]
     },
     "execution_count": 85,
     "metadata": {},
     "output_type": "execute_result"
    }
   ],
   "source": [
    "get_recommendations('The Godfather').head(10)"
   ]
  },
  {
   "cell_type": "code",
   "execution_count": 86,
   "id": "7dd7edf7-039e-438a-a700-ab0ae4c08f54",
   "metadata": {},
   "outputs": [
    {
     "data": {
      "text/plain": [
       "16939                                The Dark Knight Rises\n",
       "145                                         Batman Forever\n",
       "1270                                        Batman Returns\n",
       "574                                                 Batman\n",
       "14557                           Batman: Under the Red Hood\n",
       "19401    Batman Unmasked: The Psychology of the Dark Kn...\n",
       "18600              Batman: The Dark Knight Returns, Part 2\n",
       "16755                                     Batman: Year One\n",
       "34828    LEGO DC Comics Super Heroes: Batman: Be-Leaguered\n",
       "35623    Batman Beyond Darwyn Cooke's Batman 75th Anniv...\n",
       "Name: title, dtype: object"
      ]
     },
     "execution_count": 86,
     "metadata": {},
     "output_type": "execute_result"
    }
   ],
   "source": [
    "get_recommendations('The Dark Knight').head(10)"
   ]
  },
  {
   "cell_type": "code",
   "execution_count": null,
   "id": "56a8508b-6161-4206-871c-ed62680df490",
   "metadata": {},
   "outputs": [],
   "source": []
  },
  {
   "cell_type": "code",
   "execution_count": 137,
   "id": "28bf3134-2252-42a1-a673-1d36a9b287b5",
   "metadata": {},
   "outputs": [],
   "source": [
    "from gensim.models.doc2vec import Doc2Vec, TaggedDocument\n",
    "from nltk.tokenize import word_tokenize"
   ]
  },
  {
   "cell_type": "code",
   "execution_count": 138,
   "id": "a9ae73ac-b811-4734-a9c5-42603f61612d",
   "metadata": {},
   "outputs": [],
   "source": [
    "data = df['cleaned']\n",
    "\n",
    "tagged_data = [TaggedDocument(words=word_tokenize(_d.lower()), tags=[str(i)]) for i, _d in enumerate(data)]"
   ]
  },
  {
   "cell_type": "code",
   "execution_count": null,
   "id": "51ab6511-fc92-4e34-8eea-7008418f5d72",
   "metadata": {},
   "outputs": [
    {
     "name": "stdout",
     "output_type": "stream",
     "text": [
      "0\n",
      "1\n",
      "2\n",
      "3\n",
      "4\n",
      "5\n",
      "6\n",
      "7\n",
      "8\n",
      "9\n",
      "10\n",
      "11\n",
      "12\n",
      "13\n",
      "14\n",
      "15\n",
      "16\n",
      "17\n",
      "18\n",
      "19\n",
      "20\n",
      "21\n",
      "22\n",
      "23\n",
      "24\n",
      "25\n",
      "26\n",
      "27\n",
      "28\n",
      "29\n",
      "30\n",
      "31\n",
      "32\n",
      "33\n",
      "34\n",
      "35\n",
      "36\n",
      "37\n",
      "38\n",
      "39\n",
      "40\n",
      "41\n"
     ]
    }
   ],
   "source": [
    "max_epochs = 100\n",
    "vec_size = 15\n",
    "alpha = 0.025\n",
    "\n",
    "model = Doc2Vec(vector_size=vec_size,\n",
    "                alpha=alpha, \n",
    "                min_alpha=0.00025,\n",
    "                min_count=1,\n",
    "                dm =1)\n",
    "  \n",
    "model.build_vocab(tagged_data)\n",
    "\n",
    "for epoch in range(max_epochs):\n",
    "\n",
    "    print(epoch)\n",
    "    model.train(tagged_data,\n",
    "                total_examples=model.corpus_count,\n",
    "                epochs=model.epochs)\n",
    "    # decrease the learning rate\n",
    "    model.alpha -= 0.0002\n",
    "    # fix the learning rate, no decay\n",
    "    model.min_alpha = model.alpha\n",
    "\n",
    "model.save(\"d2v.model\")\n",
    "print(\"Model Saved\")"
   ]
  },
  {
   "cell_type": "code",
   "execution_count": 129,
   "id": "940d228a-8eea-4d77-98c0-bac5f16d17d5",
   "metadata": {},
   "outputs": [],
   "source": [
    "model= Doc2Vec.load(\"d2v.model\")"
   ]
  },
  {
   "cell_type": "code",
   "execution_count": 130,
   "id": "7ee2e9f4-9874-4244-8fe0-56cf1e174d51",
   "metadata": {},
   "outputs": [
    {
     "data": {
      "text/plain": [
       "['I love machine learning. Its awesome.',\n",
       " 'I love coding in python',\n",
       " 'I love building chatbots',\n",
       " 'I love building chatbots!']"
      ]
     },
     "execution_count": 130,
     "metadata": {},
     "output_type": "execute_result"
    }
   ],
   "source": [
    "[\"I love machine learning. Its awesome.\",\n",
    "        \"I love coding in python\",\n",
    "        \"I love building chatbots\",\n",
    "        \"I love building chatbots!\"]"
   ]
  },
  {
   "cell_type": "code",
   "execution_count": 131,
   "id": "4d2fdbb3-b977-4edb-bb88-a83573cb3287",
   "metadata": {},
   "outputs": [
    {
     "data": {
      "text/plain": [
       "{'0': 0, '1': 1, '2': 2, '3': 3}"
      ]
     },
     "execution_count": 131,
     "metadata": {},
     "output_type": "execute_result"
    }
   ],
   "source": [
    "model.dv.key_to_index "
   ]
  },
  {
   "cell_type": "code",
   "execution_count": 132,
   "id": "5d50ed33-c47e-4cf2-afb6-944b50b4cac3",
   "metadata": {},
   "outputs": [
    {
     "name": "stdout",
     "output_type": "stream",
     "text": [
      "[('2', 0.734465479850769), ('1', 0.7178300023078918), ('0', 0.4611991345882416)]\n",
      "[-0.4464615   0.05181082 -0.46369314  0.0706271   0.6003256  -0.6622851\n",
      " -0.6252563  -0.6537112   0.07582504 -0.7323634   0.2951613   0.5026427\n",
      " -0.7469875  -0.7266919  -0.28869343  0.07489646  0.00168609 -0.35149062\n",
      " -0.6598793   0.21526803]\n"
     ]
    },
    {
     "name": "stderr",
     "output_type": "stream",
     "text": [
      "/opt/conda/lib/python3.7/site-packages/ipykernel_launcher.py:9: DeprecationWarning: Call to deprecated `docvecs` (The `docvecs` property has been renamed `dv`.).\n",
      "  if __name__ == '__main__':\n",
      "/opt/conda/lib/python3.7/site-packages/ipykernel_launcher.py:14: DeprecationWarning: Call to deprecated `docvecs` (The `docvecs` property has been renamed `dv`.).\n",
      "  \n"
     ]
    }
   ],
   "source": [
    "from gensim.models.doc2vec import Doc2Vec\n",
    "\n",
    "model= Doc2Vec.load(\"d2v.model\")\n",
    "#to find the vector of a document which is not in training data\n",
    "test_data = word_tokenize(\"I love chatbots\".lower())\n",
    "\n",
    "\n",
    "# to find most similar doc using tags\n",
    "similar_doc = model.docvecs.most_similar('3')\n",
    "print(similar_doc)\n",
    "\n",
    "\n",
    "# to find vector of doc in training data using tags or in other words, printing the vector of document at index 1 in training data\n",
    "print(model.docvecs['1'])\n"
   ]
  },
  {
   "cell_type": "markdown",
   "id": "81124359",
   "metadata": {},
   "source": [
    "### Below is a bit of a trick\n",
    "\n",
    "A better way would be to do similarity rating on keywords, cast and director seperatly and thehn combine all of this to find similar movies\n",
    "\n",
    "Instead (for speed) I just combine all there strings seperatly. "
   ]
  },
  {
   "cell_type": "code",
   "execution_count": null,
   "id": "f6fa15e0-4ccd-4b7a-9af6-6e14c546154a",
   "metadata": {},
   "outputs": [],
   "source": []
  },
  {
   "cell_type": "code",
   "execution_count": null,
   "id": "a3a640dd-c538-4cd8-92c1-f028e5fc6288",
   "metadata": {},
   "outputs": [],
   "source": []
  },
  {
   "cell_type": "code",
   "execution_count": null,
   "id": "8b8a9b50-d82c-4239-b0d3-4b792b0c12d3",
   "metadata": {},
   "outputs": [],
   "source": []
  },
  {
   "cell_type": "code",
   "execution_count": null,
   "id": "6eb92747-9f6f-41f8-9b12-07f5b9af2023",
   "metadata": {},
   "outputs": [],
   "source": []
  },
  {
   "cell_type": "code",
   "execution_count": null,
   "id": "b931a5c3-1509-47ce-ac12-420b410f7a03",
   "metadata": {},
   "outputs": [],
   "source": []
  },
  {
   "cell_type": "code",
   "execution_count": null,
   "id": "3d6c4da5-ff30-4697-98d7-92835c8470a7",
   "metadata": {},
   "outputs": [],
   "source": []
  },
  {
   "cell_type": "code",
   "execution_count": null,
   "id": "ab515953",
   "metadata": {},
   "outputs": [],
   "source": [
    "dff.director"
   ]
  },
  {
   "cell_type": "code",
   "execution_count": null,
   "id": "f7add1c1",
   "metadata": {},
   "outputs": [],
   "source": [
    "def Convert(string):\n",
    "    \n",
    "    x = [string]\n",
    " \n",
    "    return x\n",
    "\n",
    "dff['director'] = dff['director'].apply(Convert)\n",
    "dff['soup'] = dff['keywords'] + dff['cast'] + dff['director']\n",
    "dff['soup'] = dff['soup'].apply(lambda x: ' '.join(x))"
   ]
  },
  {
   "cell_type": "code",
   "execution_count": null,
   "id": "7ab8988c",
   "metadata": {},
   "outputs": [],
   "source": [
    "dff['soup'] = dff['keywords'] + dff['cast'] + dff['director']\n",
    "dff['soup'] = dff['soup'].apply(lambda x: ' '.join(x))"
   ]
  },
  {
   "cell_type": "code",
   "execution_count": null,
   "id": "05a696cf",
   "metadata": {},
   "outputs": [],
   "source": [
    "from sklearn.feature_extraction.text import CountVectorizer\n",
    "from sklearn.metrics.pairwise import cosine_similarity\n",
    "count = CountVectorizer(analyzer='word',ngram_range=(1, 2),min_df=0, stop_words='english')\n",
    "count_matrix = count.fit_transform(dff['overview'])"
   ]
  },
  {
   "cell_type": "code",
   "execution_count": null,
   "id": "0a00cbb2",
   "metadata": {},
   "outputs": [],
   "source": [
    "count_matrix"
   ]
  },
  {
   "cell_type": "code",
   "execution_count": null,
   "id": "980a3224",
   "metadata": {},
   "outputs": [],
   "source": [
    "cosine_sim = cosine_similarity(count_matrix, count_matrix)"
   ]
  },
  {
   "cell_type": "code",
   "execution_count": null,
   "id": "2cf25eee",
   "metadata": {},
   "outputs": [],
   "source": [
    "dff = dff.reset_index()\n",
    "titles = dff['title']\n",
    "indices = pd.Series(dff.index, index=dff['title'])"
   ]
  },
  {
   "cell_type": "code",
   "execution_count": null,
   "id": "045d9a21",
   "metadata": {},
   "outputs": [],
   "source": [
    "def get_recommendations(title):\n",
    "    idx = indices[title]\n",
    "    sim_scores = list(enumerate(cosine_sim[idx]))\n",
    "    sim_scores = sorted(sim_scores, key=lambda x: x[1], reverse=True)\n",
    "    sim_scores = sim_scores[1:21]\n",
    "    movie_indices = [i[0] for i in sim_scores]\n",
    "    return titles.iloc[movie_indices]"
   ]
  },
  {
   "cell_type": "code",
   "execution_count": null,
   "id": "fcd5fcb5",
   "metadata": {},
   "outputs": [],
   "source": [
    "dff.title.sample(10)"
   ]
  },
  {
   "cell_type": "code",
   "execution_count": null,
   "id": "8c208c24",
   "metadata": {},
   "outputs": [],
   "source": [
    "get_recommendations('Toy Story').head(15)"
   ]
  },
  {
   "cell_type": "code",
   "execution_count": null,
   "id": "69e8261f",
   "metadata": {},
   "outputs": [],
   "source": [
    "dff[dff.title == 'Toy Story']"
   ]
  },
  {
   "cell_type": "code",
   "execution_count": null,
   "id": "dc509d6b",
   "metadata": {},
   "outputs": [],
   "source": [
    "dff[dff.title == \"You're Only Young Once\"]"
   ]
  },
  {
   "cell_type": "code",
   "execution_count": null,
   "id": "ad172b8a",
   "metadata": {},
   "outputs": [],
   "source": [
    "# could improve above by ensuring the recommended movie is still somwhat popular and well voted"
   ]
  },
  {
   "cell_type": "markdown",
   "id": "0327891a",
   "metadata": {},
   "source": [
    "## Collaborative Filtering\n",
    "\n",
    "![alt text](1_qFweWAKML-SdpGndGMvLDw.png)"
   ]
  },
  {
   "cell_type": "code",
   "execution_count": null,
   "id": "788a955b",
   "metadata": {},
   "outputs": [],
   "source": [
    "rating"
   ]
  },
  {
   "cell_type": "code",
   "execution_count": null,
   "id": "08b98ce7",
   "metadata": {},
   "outputs": [],
   "source": [
    "data = Dataset.load_from_df(ratings[['userId', 'movieId', 'rating']], reader)\n",
    "svd = SVD()\n",
    "cross_validate(svd, data, measures=['RMSE', 'MAE'],cv=5)"
   ]
  },
  {
   "cell_type": "code",
   "execution_count": null,
   "id": "514f4c75",
   "metadata": {},
   "outputs": [],
   "source": []
  },
  {
   "cell_type": "code",
   "execution_count": null,
   "id": "fd7ece34",
   "metadata": {},
   "outputs": [],
   "source": []
  },
  {
   "cell_type": "code",
   "execution_count": null,
   "id": "dcb1c1ed",
   "metadata": {},
   "outputs": [],
   "source": []
  },
  {
   "cell_type": "code",
   "execution_count": null,
   "id": "7a03323c",
   "metadata": {},
   "outputs": [],
   "source": []
  },
  {
   "cell_type": "code",
   "execution_count": null,
   "id": "0ec628d2",
   "metadata": {},
   "outputs": [],
   "source": []
  },
  {
   "cell_type": "code",
   "execution_count": null,
   "id": "1e3ee315",
   "metadata": {},
   "outputs": [],
   "source": []
  },
  {
   "cell_type": "code",
   "execution_count": null,
   "id": "c541be6d",
   "metadata": {},
   "outputs": [],
   "source": []
  },
  {
   "cell_type": "code",
   "execution_count": null,
   "id": "ea5618d1",
   "metadata": {},
   "outputs": [],
   "source": []
  },
  {
   "cell_type": "code",
   "execution_count": null,
   "id": "7bc3a5c8",
   "metadata": {},
   "outputs": [],
   "source": []
  },
  {
   "cell_type": "code",
   "execution_count": null,
   "id": "08e1911d",
   "metadata": {},
   "outputs": [],
   "source": []
  },
  {
   "cell_type": "code",
   "execution_count": null,
   "id": "b1fc55ce",
   "metadata": {},
   "outputs": [],
   "source": []
  },
  {
   "cell_type": "code",
   "execution_count": null,
   "id": "dae61211",
   "metadata": {},
   "outputs": [],
   "source": []
  }
 ],
 "metadata": {
  "environment": {
   "kernel": "python3",
   "name": "tf2-gpu.2-3.m91",
   "type": "gcloud",
   "uri": "gcr.io/deeplearning-platform-release/tf2-gpu.2-3:m91"
  },
  "kernelspec": {
   "display_name": "Python 3",
   "language": "python",
   "name": "python3"
  },
  "language_info": {
   "codemirror_mode": {
    "name": "ipython",
    "version": 3
   },
   "file_extension": ".py",
   "mimetype": "text/x-python",
   "name": "python",
   "nbconvert_exporter": "python",
   "pygments_lexer": "ipython3",
   "version": "3.7.12"
  }
 },
 "nbformat": 4,
 "nbformat_minor": 5
}
