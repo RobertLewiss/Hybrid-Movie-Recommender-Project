{
 "cells": [
  {
   "cell_type": "markdown",
   "id": "09c9ae5b",
   "metadata": {},
   "source": [
    "# Recommender Systems Walk Through"
   ]
  },
  {
   "cell_type": "code",
   "execution_count": 1,
   "id": "3fbbc690",
   "metadata": {},
   "outputs": [
    {
     "name": "stderr",
     "output_type": "stream",
     "text": [
      "Using TensorFlow backend.\n"
     ]
    }
   ],
   "source": [
    "import pandas as pd\n",
    "import numpy as np \n",
    "import Utils as ut"
   ]
  },
  {
   "cell_type": "code",
   "execution_count": 2,
   "id": "85004448",
   "metadata": {},
   "outputs": [
    {
     "data": {
      "text/html": [
       "<div>\n",
       "<style scoped>\n",
       "    .dataframe tbody tr th:only-of-type {\n",
       "        vertical-align: middle;\n",
       "    }\n",
       "\n",
       "    .dataframe tbody tr th {\n",
       "        vertical-align: top;\n",
       "    }\n",
       "\n",
       "    .dataframe thead th {\n",
       "        text-align: right;\n",
       "    }\n",
       "</style>\n",
       "<table border=\"1\" class=\"dataframe\">\n",
       "  <thead>\n",
       "    <tr style=\"text-align: right;\">\n",
       "      <th></th>\n",
       "      <th>title</th>\n",
       "      <th>overview</th>\n",
       "      <th>genres</th>\n",
       "      <th>vote_average</th>\n",
       "      <th>budget</th>\n",
       "      <th>runtime</th>\n",
       "      <th>adult</th>\n",
       "      <th>vote_count</th>\n",
       "      <th>movieId</th>\n",
       "      <th>imdbId</th>\n",
       "      <th>tmdbId</th>\n",
       "      <th>cast</th>\n",
       "      <th>keywords</th>\n",
       "      <th>cast_size</th>\n",
       "      <th>crew_size</th>\n",
       "      <th>director</th>\n",
       "      <th>score</th>\n",
       "    </tr>\n",
       "  </thead>\n",
       "  <tbody>\n",
       "    <tr>\n",
       "      <th>136</th>\n",
       "      <td>The Shawshank Redemption</td>\n",
       "      <td>Framed in the 1940s for the double murder of h...</td>\n",
       "      <td>18</td>\n",
       "      <td>8.5</td>\n",
       "      <td>25000000</td>\n",
       "      <td>142.0</td>\n",
       "      <td>0</td>\n",
       "      <td>8358.0</td>\n",
       "      <td>318</td>\n",
       "      <td>111161</td>\n",
       "      <td>278</td>\n",
       "      <td>['Tim Robbins', 'Morgan Freeman', 'Bob Gunton']</td>\n",
       "      <td>['prison', 'corruption', 'police brutality', '...</td>\n",
       "      <td>42</td>\n",
       "      <td>90</td>\n",
       "      <td>Frank Darabont</td>\n",
       "      <td>8.372739</td>\n",
       "    </tr>\n",
       "    <tr>\n",
       "      <th>307</th>\n",
       "      <td>The Godfather</td>\n",
       "      <td>Spanning the years 1945 to 1955, a chronicle o...</td>\n",
       "      <td>18</td>\n",
       "      <td>8.5</td>\n",
       "      <td>6000000</td>\n",
       "      <td>175.0</td>\n",
       "      <td>0</td>\n",
       "      <td>6024.0</td>\n",
       "      <td>858</td>\n",
       "      <td>68646</td>\n",
       "      <td>238</td>\n",
       "      <td>['Marlon Brando', 'Al Pacino', 'James Caan']</td>\n",
       "      <td>['italy', 'love at first sight', 'loss of fath...</td>\n",
       "      <td>58</td>\n",
       "      <td>42</td>\n",
       "      <td>Francis Ford Coppola</td>\n",
       "      <td>8.327148</td>\n",
       "    </tr>\n",
       "    <tr>\n",
       "      <th>5002</th>\n",
       "      <td>The Dark Knight</td>\n",
       "      <td>Batman raises the stakes in his war on crime. ...</td>\n",
       "      <td>18</td>\n",
       "      <td>8.3</td>\n",
       "      <td>185000000</td>\n",
       "      <td>152.0</td>\n",
       "      <td>0</td>\n",
       "      <td>12269.0</td>\n",
       "      <td>58559</td>\n",
       "      <td>468569</td>\n",
       "      <td>155</td>\n",
       "      <td>['Christian Bale', 'Michael Caine', 'Heath Led...</td>\n",
       "      <td>['dc comics', 'crime fighter', 'secret identit...</td>\n",
       "      <td>134</td>\n",
       "      <td>81</td>\n",
       "      <td>Christopher Nolan</td>\n",
       "      <td>8.219441</td>\n",
       "    </tr>\n",
       "    <tr>\n",
       "      <th>1238</th>\n",
       "      <td>Fight Club</td>\n",
       "      <td>A ticking-time-bomb insomniac and a slippery s...</td>\n",
       "      <td>18</td>\n",
       "      <td>8.3</td>\n",
       "      <td>63000000</td>\n",
       "      <td>139.0</td>\n",
       "      <td>0</td>\n",
       "      <td>9678.0</td>\n",
       "      <td>2959</td>\n",
       "      <td>137523</td>\n",
       "      <td>550</td>\n",
       "      <td>['Edward Norton', 'Brad Pitt', 'Meat Loaf']</td>\n",
       "      <td>['support group', 'dual identity', 'nihilism',...</td>\n",
       "      <td>77</td>\n",
       "      <td>107</td>\n",
       "      <td>David Fincher</td>\n",
       "      <td>8.198915</td>\n",
       "    </tr>\n",
       "    <tr>\n",
       "      <th>126</th>\n",
       "      <td>Pulp Fiction</td>\n",
       "      <td>A burger-loving hit man, his philosophical par...</td>\n",
       "      <td>53</td>\n",
       "      <td>8.3</td>\n",
       "      <td>8000000</td>\n",
       "      <td>154.0</td>\n",
       "      <td>0</td>\n",
       "      <td>8670.0</td>\n",
       "      <td>296</td>\n",
       "      <td>110912</td>\n",
       "      <td>680</td>\n",
       "      <td>['John Travolta', 'Samuel L. Jackson', 'Uma Th...</td>\n",
       "      <td>['transporter', 'brothel', 'drug dealer', 'box...</td>\n",
       "      <td>54</td>\n",
       "      <td>87</td>\n",
       "      <td>Quentin Tarantino</td>\n",
       "      <td>8.187793</td>\n",
       "    </tr>\n",
       "  </tbody>\n",
       "</table>\n",
       "</div>"
      ],
      "text/plain": [
       "                         title  \\\n",
       "136   The Shawshank Redemption   \n",
       "307              The Godfather   \n",
       "5002           The Dark Knight   \n",
       "1238                Fight Club   \n",
       "126               Pulp Fiction   \n",
       "\n",
       "                                               overview  genres  vote_average  \\\n",
       "136   Framed in the 1940s for the double murder of h...      18           8.5   \n",
       "307   Spanning the years 1945 to 1955, a chronicle o...      18           8.5   \n",
       "5002  Batman raises the stakes in his war on crime. ...      18           8.3   \n",
       "1238  A ticking-time-bomb insomniac and a slippery s...      18           8.3   \n",
       "126   A burger-loving hit man, his philosophical par...      53           8.3   \n",
       "\n",
       "         budget  runtime  adult  vote_count  movieId  imdbId  tmdbId  \\\n",
       "136    25000000    142.0      0      8358.0      318  111161     278   \n",
       "307     6000000    175.0      0      6024.0      858   68646     238   \n",
       "5002  185000000    152.0      0     12269.0    58559  468569     155   \n",
       "1238   63000000    139.0      0      9678.0     2959  137523     550   \n",
       "126     8000000    154.0      0      8670.0      296  110912     680   \n",
       "\n",
       "                                                   cast  \\\n",
       "136     ['Tim Robbins', 'Morgan Freeman', 'Bob Gunton']   \n",
       "307        ['Marlon Brando', 'Al Pacino', 'James Caan']   \n",
       "5002  ['Christian Bale', 'Michael Caine', 'Heath Led...   \n",
       "1238        ['Edward Norton', 'Brad Pitt', 'Meat Loaf']   \n",
       "126   ['John Travolta', 'Samuel L. Jackson', 'Uma Th...   \n",
       "\n",
       "                                               keywords  cast_size  crew_size  \\\n",
       "136   ['prison', 'corruption', 'police brutality', '...         42         90   \n",
       "307   ['italy', 'love at first sight', 'loss of fath...         58         42   \n",
       "5002  ['dc comics', 'crime fighter', 'secret identit...        134         81   \n",
       "1238  ['support group', 'dual identity', 'nihilism',...         77        107   \n",
       "126   ['transporter', 'brothel', 'drug dealer', 'box...         54         87   \n",
       "\n",
       "                  director     score  \n",
       "136         Frank Darabont  8.372739  \n",
       "307   Francis Ford Coppola  8.327148  \n",
       "5002     Christopher Nolan  8.219441  \n",
       "1238         David Fincher  8.198915  \n",
       "126      Quentin Tarantino  8.187793  "
      ]
     },
     "execution_count": 2,
     "metadata": {},
     "output_type": "execute_result"
    }
   ],
   "source": [
    "df = pd.read_csv('Clean_Item_Data')\n",
    "df.drop('Unnamed: 0',inplace = True,axis = 1)\n",
    "df=df.sort_values('score', ascending=False).iloc[0:5000]\n",
    "df.head(5)"
   ]
  },
  {
   "cell_type": "code",
   "execution_count": 3,
   "id": "c40dbfac",
   "metadata": {},
   "outputs": [],
   "source": [
    "rating = pd.read_csv('ratings.csv')"
   ]
  },
  {
   "cell_type": "code",
   "execution_count": 4,
   "id": "7ef72ff6-f204-4585-b4af-20f4768426ae",
   "metadata": {},
   "outputs": [],
   "source": [
    "rating = rating[rating.userId.isin(ut.random_sample(rating.userId.unique()))]"
   ]
  },
  {
   "cell_type": "code",
   "execution_count": 5,
   "id": "0a815e5c-0573-493d-acce-872c7ca9c463",
   "metadata": {},
   "outputs": [],
   "source": [
    "rating = rating[rating.movieId.isin(df.movieId.unique())]\n",
    "df = df[df.movieId.isin(rating.movieId.unique())]"
   ]
  },
  {
   "cell_type": "code",
   "execution_count": 6,
   "id": "23a751ab-f338-4696-9507-eebbc63620e2",
   "metadata": {},
   "outputs": [],
   "source": [
    "df = df.reset_index(drop=True)\n",
    "rating = rating.reset_index(drop=True)"
   ]
  },
  {
   "cell_type": "code",
   "execution_count": 7,
   "id": "77ecffbf-b9c8-4e08-9b40-82523534f439",
   "metadata": {},
   "outputs": [
    {
     "data": {
      "text/plain": [
       "(4575, 17)"
      ]
     },
     "execution_count": 7,
     "metadata": {},
     "output_type": "execute_result"
    }
   ],
   "source": [
    "df.shape"
   ]
  },
  {
   "cell_type": "code",
   "execution_count": 8,
   "id": "b49f7ba9",
   "metadata": {},
   "outputs": [
    {
     "data": {
      "text/html": [
       "<div>\n",
       "<style scoped>\n",
       "    .dataframe tbody tr th:only-of-type {\n",
       "        vertical-align: middle;\n",
       "    }\n",
       "\n",
       "    .dataframe tbody tr th {\n",
       "        vertical-align: top;\n",
       "    }\n",
       "\n",
       "    .dataframe thead th {\n",
       "        text-align: right;\n",
       "    }\n",
       "</style>\n",
       "<table border=\"1\" class=\"dataframe\">\n",
       "  <thead>\n",
       "    <tr style=\"text-align: right;\">\n",
       "      <th></th>\n",
       "      <th>title</th>\n",
       "      <th>overview</th>\n",
       "      <th>genres</th>\n",
       "      <th>vote_average</th>\n",
       "      <th>budget</th>\n",
       "      <th>runtime</th>\n",
       "      <th>adult</th>\n",
       "      <th>vote_count</th>\n",
       "      <th>movieId</th>\n",
       "      <th>imdbId</th>\n",
       "      <th>tmdbId</th>\n",
       "      <th>cast</th>\n",
       "      <th>keywords</th>\n",
       "      <th>cast_size</th>\n",
       "      <th>crew_size</th>\n",
       "      <th>director</th>\n",
       "      <th>score</th>\n",
       "    </tr>\n",
       "  </thead>\n",
       "  <tbody>\n",
       "    <tr>\n",
       "      <th>0</th>\n",
       "      <td>The Shawshank Redemption</td>\n",
       "      <td>Framed in the 1940s for the double murder of h...</td>\n",
       "      <td>18</td>\n",
       "      <td>8.5</td>\n",
       "      <td>25000000</td>\n",
       "      <td>142.0</td>\n",
       "      <td>0</td>\n",
       "      <td>8358.0</td>\n",
       "      <td>318</td>\n",
       "      <td>111161</td>\n",
       "      <td>278</td>\n",
       "      <td>['Tim Robbins', 'Morgan Freeman', 'Bob Gunton']</td>\n",
       "      <td>['prison', 'corruption', 'police brutality', '...</td>\n",
       "      <td>42</td>\n",
       "      <td>90</td>\n",
       "      <td>Frank Darabont</td>\n",
       "      <td>8.372739</td>\n",
       "    </tr>\n",
       "    <tr>\n",
       "      <th>1</th>\n",
       "      <td>The Godfather</td>\n",
       "      <td>Spanning the years 1945 to 1955, a chronicle o...</td>\n",
       "      <td>18</td>\n",
       "      <td>8.5</td>\n",
       "      <td>6000000</td>\n",
       "      <td>175.0</td>\n",
       "      <td>0</td>\n",
       "      <td>6024.0</td>\n",
       "      <td>858</td>\n",
       "      <td>68646</td>\n",
       "      <td>238</td>\n",
       "      <td>['Marlon Brando', 'Al Pacino', 'James Caan']</td>\n",
       "      <td>['italy', 'love at first sight', 'loss of fath...</td>\n",
       "      <td>58</td>\n",
       "      <td>42</td>\n",
       "      <td>Francis Ford Coppola</td>\n",
       "      <td>8.327148</td>\n",
       "    </tr>\n",
       "    <tr>\n",
       "      <th>2</th>\n",
       "      <td>The Dark Knight</td>\n",
       "      <td>Batman raises the stakes in his war on crime. ...</td>\n",
       "      <td>18</td>\n",
       "      <td>8.3</td>\n",
       "      <td>185000000</td>\n",
       "      <td>152.0</td>\n",
       "      <td>0</td>\n",
       "      <td>12269.0</td>\n",
       "      <td>58559</td>\n",
       "      <td>468569</td>\n",
       "      <td>155</td>\n",
       "      <td>['Christian Bale', 'Michael Caine', 'Heath Led...</td>\n",
       "      <td>['dc comics', 'crime fighter', 'secret identit...</td>\n",
       "      <td>134</td>\n",
       "      <td>81</td>\n",
       "      <td>Christopher Nolan</td>\n",
       "      <td>8.219441</td>\n",
       "    </tr>\n",
       "    <tr>\n",
       "      <th>3</th>\n",
       "      <td>Fight Club</td>\n",
       "      <td>A ticking-time-bomb insomniac and a slippery s...</td>\n",
       "      <td>18</td>\n",
       "      <td>8.3</td>\n",
       "      <td>63000000</td>\n",
       "      <td>139.0</td>\n",
       "      <td>0</td>\n",
       "      <td>9678.0</td>\n",
       "      <td>2959</td>\n",
       "      <td>137523</td>\n",
       "      <td>550</td>\n",
       "      <td>['Edward Norton', 'Brad Pitt', 'Meat Loaf']</td>\n",
       "      <td>['support group', 'dual identity', 'nihilism',...</td>\n",
       "      <td>77</td>\n",
       "      <td>107</td>\n",
       "      <td>David Fincher</td>\n",
       "      <td>8.198915</td>\n",
       "    </tr>\n",
       "    <tr>\n",
       "      <th>4</th>\n",
       "      <td>Pulp Fiction</td>\n",
       "      <td>A burger-loving hit man, his philosophical par...</td>\n",
       "      <td>53</td>\n",
       "      <td>8.3</td>\n",
       "      <td>8000000</td>\n",
       "      <td>154.0</td>\n",
       "      <td>0</td>\n",
       "      <td>8670.0</td>\n",
       "      <td>296</td>\n",
       "      <td>110912</td>\n",
       "      <td>680</td>\n",
       "      <td>['John Travolta', 'Samuel L. Jackson', 'Uma Th...</td>\n",
       "      <td>['transporter', 'brothel', 'drug dealer', 'box...</td>\n",
       "      <td>54</td>\n",
       "      <td>87</td>\n",
       "      <td>Quentin Tarantino</td>\n",
       "      <td>8.187793</td>\n",
       "    </tr>\n",
       "  </tbody>\n",
       "</table>\n",
       "</div>"
      ],
      "text/plain": [
       "                      title  \\\n",
       "0  The Shawshank Redemption   \n",
       "1             The Godfather   \n",
       "2           The Dark Knight   \n",
       "3                Fight Club   \n",
       "4              Pulp Fiction   \n",
       "\n",
       "                                            overview  genres  vote_average  \\\n",
       "0  Framed in the 1940s for the double murder of h...      18           8.5   \n",
       "1  Spanning the years 1945 to 1955, a chronicle o...      18           8.5   \n",
       "2  Batman raises the stakes in his war on crime. ...      18           8.3   \n",
       "3  A ticking-time-bomb insomniac and a slippery s...      18           8.3   \n",
       "4  A burger-loving hit man, his philosophical par...      53           8.3   \n",
       "\n",
       "      budget  runtime  adult  vote_count  movieId  imdbId  tmdbId  \\\n",
       "0   25000000    142.0      0      8358.0      318  111161     278   \n",
       "1    6000000    175.0      0      6024.0      858   68646     238   \n",
       "2  185000000    152.0      0     12269.0    58559  468569     155   \n",
       "3   63000000    139.0      0      9678.0     2959  137523     550   \n",
       "4    8000000    154.0      0      8670.0      296  110912     680   \n",
       "\n",
       "                                                cast  \\\n",
       "0    ['Tim Robbins', 'Morgan Freeman', 'Bob Gunton']   \n",
       "1       ['Marlon Brando', 'Al Pacino', 'James Caan']   \n",
       "2  ['Christian Bale', 'Michael Caine', 'Heath Led...   \n",
       "3        ['Edward Norton', 'Brad Pitt', 'Meat Loaf']   \n",
       "4  ['John Travolta', 'Samuel L. Jackson', 'Uma Th...   \n",
       "\n",
       "                                            keywords  cast_size  crew_size  \\\n",
       "0  ['prison', 'corruption', 'police brutality', '...         42         90   \n",
       "1  ['italy', 'love at first sight', 'loss of fath...         58         42   \n",
       "2  ['dc comics', 'crime fighter', 'secret identit...        134         81   \n",
       "3  ['support group', 'dual identity', 'nihilism',...         77        107   \n",
       "4  ['transporter', 'brothel', 'drug dealer', 'box...         54         87   \n",
       "\n",
       "               director     score  \n",
       "0        Frank Darabont  8.372739  \n",
       "1  Francis Ford Coppola  8.327148  \n",
       "2     Christopher Nolan  8.219441  \n",
       "3         David Fincher  8.198915  \n",
       "4     Quentin Tarantino  8.187793  "
      ]
     },
     "execution_count": 8,
     "metadata": {},
     "output_type": "execute_result"
    }
   ],
   "source": [
    "# Very naive approach (also to do this properly I need to take into account of number of votes not just avg vote.)\n",
    "\n",
    "df.sort_values('score', ascending=False).head(5)"
   ]
  },
  {
   "cell_type": "markdown",
   "id": "1a297ccd",
   "metadata": {},
   "source": [
    "## Content Based Filtering "
   ]
  },
  {
   "cell_type": "code",
   "execution_count": 9,
   "id": "a5455f28-7694-413c-81f7-40aeefdd6979",
   "metadata": {},
   "outputs": [],
   "source": [
    "df['overview_toke'] = df['overview'].apply(ut.clean_text, toke = True)\n",
    "                                                                          \n",
    "df['overview_clean'] = df['overview'].apply(ut.clean_text)"
   ]
  },
  {
   "cell_type": "code",
   "execution_count": 10,
   "id": "50b32634-485f-4ff1-92ef-1490c5ffe48f",
   "metadata": {},
   "outputs": [
    {
     "data": {
      "text/html": [
       "<div>\n",
       "<style scoped>\n",
       "    .dataframe tbody tr th:only-of-type {\n",
       "        vertical-align: middle;\n",
       "    }\n",
       "\n",
       "    .dataframe tbody tr th {\n",
       "        vertical-align: top;\n",
       "    }\n",
       "\n",
       "    .dataframe thead th {\n",
       "        text-align: right;\n",
       "    }\n",
       "</style>\n",
       "<table border=\"1\" class=\"dataframe\">\n",
       "  <thead>\n",
       "    <tr style=\"text-align: right;\">\n",
       "      <th></th>\n",
       "      <th>title</th>\n",
       "      <th>overview</th>\n",
       "      <th>genres</th>\n",
       "      <th>vote_average</th>\n",
       "      <th>budget</th>\n",
       "      <th>runtime</th>\n",
       "      <th>adult</th>\n",
       "      <th>vote_count</th>\n",
       "      <th>movieId</th>\n",
       "      <th>imdbId</th>\n",
       "      <th>tmdbId</th>\n",
       "      <th>cast</th>\n",
       "      <th>keywords</th>\n",
       "      <th>cast_size</th>\n",
       "      <th>crew_size</th>\n",
       "      <th>director</th>\n",
       "      <th>score</th>\n",
       "      <th>overview_toke</th>\n",
       "      <th>overview_clean</th>\n",
       "    </tr>\n",
       "  </thead>\n",
       "  <tbody>\n",
       "    <tr>\n",
       "      <th>0</th>\n",
       "      <td>The Shawshank Redemption</td>\n",
       "      <td>Framed in the 1940s for the double murder of h...</td>\n",
       "      <td>18</td>\n",
       "      <td>8.5</td>\n",
       "      <td>25000000</td>\n",
       "      <td>142.0</td>\n",
       "      <td>0</td>\n",
       "      <td>8358.0</td>\n",
       "      <td>318</td>\n",
       "      <td>111161</td>\n",
       "      <td>278</td>\n",
       "      <td>['Tim Robbins', 'Morgan Freeman', 'Bob Gunton']</td>\n",
       "      <td>['prison', 'corruption', 'police brutality', '...</td>\n",
       "      <td>42</td>\n",
       "      <td>90</td>\n",
       "      <td>Frank Darabont</td>\n",
       "      <td>8.372739</td>\n",
       "      <td>[frame, 1940, doubl, murder, hi, wife, lover, ...</td>\n",
       "      <td>frame 1940 doubl murder hi wife lover upstand ...</td>\n",
       "    </tr>\n",
       "    <tr>\n",
       "      <th>1</th>\n",
       "      <td>The Godfather</td>\n",
       "      <td>Spanning the years 1945 to 1955, a chronicle o...</td>\n",
       "      <td>18</td>\n",
       "      <td>8.5</td>\n",
       "      <td>6000000</td>\n",
       "      <td>175.0</td>\n",
       "      <td>0</td>\n",
       "      <td>6024.0</td>\n",
       "      <td>858</td>\n",
       "      <td>68646</td>\n",
       "      <td>238</td>\n",
       "      <td>['Marlon Brando', 'Al Pacino', 'James Caan']</td>\n",
       "      <td>['italy', 'love at first sight', 'loss of fath...</td>\n",
       "      <td>58</td>\n",
       "      <td>42</td>\n",
       "      <td>Francis Ford Coppola</td>\n",
       "      <td>8.327148</td>\n",
       "      <td>[span, year, 1945, 1955, chronicl, fiction, it...</td>\n",
       "      <td>span year 1945 1955 chronicl fiction italian-a...</td>\n",
       "    </tr>\n",
       "    <tr>\n",
       "      <th>2</th>\n",
       "      <td>The Dark Knight</td>\n",
       "      <td>Batman raises the stakes in his war on crime. ...</td>\n",
       "      <td>18</td>\n",
       "      <td>8.3</td>\n",
       "      <td>185000000</td>\n",
       "      <td>152.0</td>\n",
       "      <td>0</td>\n",
       "      <td>12269.0</td>\n",
       "      <td>58559</td>\n",
       "      <td>468569</td>\n",
       "      <td>155</td>\n",
       "      <td>['Christian Bale', 'Michael Caine', 'Heath Led...</td>\n",
       "      <td>['dc comics', 'crime fighter', 'secret identit...</td>\n",
       "      <td>134</td>\n",
       "      <td>81</td>\n",
       "      <td>Christopher Nolan</td>\n",
       "      <td>8.219441</td>\n",
       "      <td>[batman, rais, stake, hi, war, crime, help, lt...</td>\n",
       "      <td>batman rais stake hi war crime help lt jim gor...</td>\n",
       "    </tr>\n",
       "  </tbody>\n",
       "</table>\n",
       "</div>"
      ],
      "text/plain": [
       "                      title  \\\n",
       "0  The Shawshank Redemption   \n",
       "1             The Godfather   \n",
       "2           The Dark Knight   \n",
       "\n",
       "                                            overview  genres  vote_average  \\\n",
       "0  Framed in the 1940s for the double murder of h...      18           8.5   \n",
       "1  Spanning the years 1945 to 1955, a chronicle o...      18           8.5   \n",
       "2  Batman raises the stakes in his war on crime. ...      18           8.3   \n",
       "\n",
       "      budget  runtime  adult  vote_count  movieId  imdbId  tmdbId  \\\n",
       "0   25000000    142.0      0      8358.0      318  111161     278   \n",
       "1    6000000    175.0      0      6024.0      858   68646     238   \n",
       "2  185000000    152.0      0     12269.0    58559  468569     155   \n",
       "\n",
       "                                                cast  \\\n",
       "0    ['Tim Robbins', 'Morgan Freeman', 'Bob Gunton']   \n",
       "1       ['Marlon Brando', 'Al Pacino', 'James Caan']   \n",
       "2  ['Christian Bale', 'Michael Caine', 'Heath Led...   \n",
       "\n",
       "                                            keywords  cast_size  crew_size  \\\n",
       "0  ['prison', 'corruption', 'police brutality', '...         42         90   \n",
       "1  ['italy', 'love at first sight', 'loss of fath...         58         42   \n",
       "2  ['dc comics', 'crime fighter', 'secret identit...        134         81   \n",
       "\n",
       "               director     score  \\\n",
       "0        Frank Darabont  8.372739   \n",
       "1  Francis Ford Coppola  8.327148   \n",
       "2     Christopher Nolan  8.219441   \n",
       "\n",
       "                                       overview_toke  \\\n",
       "0  [frame, 1940, doubl, murder, hi, wife, lover, ...   \n",
       "1  [span, year, 1945, 1955, chronicl, fiction, it...   \n",
       "2  [batman, rais, stake, hi, war, crime, help, lt...   \n",
       "\n",
       "                                      overview_clean  \n",
       "0  frame 1940 doubl murder hi wife lover upstand ...  \n",
       "1  span year 1945 1955 chronicl fiction italian-a...  \n",
       "2  batman rais stake hi war crime help lt jim gor...  "
      ]
     },
     "execution_count": 10,
     "metadata": {},
     "output_type": "execute_result"
    }
   ],
   "source": [
    "df.head(3)"
   ]
  },
  {
   "cell_type": "markdown",
   "id": "bcca9f42-bceb-4ea4-b665-8a235263625c",
   "metadata": {},
   "source": [
    "## TF-IDF"
   ]
  },
  {
   "cell_type": "code",
   "execution_count": 11,
   "id": "b77b6272-9ca9-4ad8-b2dc-d6c007eb8365",
   "metadata": {},
   "outputs": [],
   "source": [
    "tfidf_cosine_sim = ut.TF_IDF(df['overview_clean'], ngram = 5)"
   ]
  },
  {
   "cell_type": "code",
   "execution_count": 12,
   "id": "43639b8c-436a-4589-806d-fb8579c8e8e2",
   "metadata": {},
   "outputs": [
    {
     "data": {
      "text/plain": [
       "104                       The Dark Knight Rises\n",
       "611                                      Batman\n",
       "2304                  In Order of Disappearance\n",
       "1513                             Batman Returns\n",
       "580                                         JFK\n",
       "564                  Batman: Under the Red Hood\n",
       "1514                           Batman: Year One\n",
       "421     Batman: The Dark Knight Returns, Part 2\n",
       "146                               Batman Begins\n",
       "525          Sherlock Holmes: A Game of Shadows\n",
       "Name: title, dtype: object"
      ]
     },
     "execution_count": 12,
     "metadata": {},
     "output_type": "execute_result"
    }
   ],
   "source": [
    "ut.top_rec(\"The Dark Knight\",\n",
    "           tfidf_cosine_sim, \n",
    "           pd.Series(df.index, index=df['title']), \n",
    "           df)"
   ]
  },
  {
   "cell_type": "markdown",
   "id": "15392f11-32b0-491e-8f61-cad496d1d5ec",
   "metadata": {},
   "source": [
    "## Word2Vec"
   ]
  },
  {
   "cell_type": "code",
   "execution_count": 13,
   "id": "40704731-3cc3-4132-8577-32f3f9d4ef69",
   "metadata": {},
   "outputs": [
    {
     "name": "stderr",
     "output_type": "stream",
     "text": [
      "100%|██████████| 17423/17423 [00:11<00:00, 1468.02it/s] \n"
     ]
    }
   ],
   "source": [
    "word2vec_cosine_sim = ut.Word2Vec_Hybrid(\n",
    "                                      df['overview_toke'], \n",
    "                                      vector_size = 300,\n",
    "                                      window = 7, \n",
    "                                      epochs = 100)"
   ]
  },
  {
   "cell_type": "code",
   "execution_count": 14,
   "id": "29035c04-48ee-46bd-b9c7-38e15b75e50d",
   "metadata": {},
   "outputs": [
    {
     "data": {
      "text/plain": [
       "104                         The Dark Knight Rises\n",
       "1513                               Batman Returns\n",
       "564                    Batman: Under the Red Hood\n",
       "611                                        Batman\n",
       "1514                             Batman: Year One\n",
       "146                                 Batman Begins\n",
       "3452                 Batman & Mr. Freeze: SubZero\n",
       "3627    The Batman Superman Movie: World's Finest\n",
       "421       Batman: The Dark Knight Returns, Part 2\n",
       "1239                 Batman: Mask of the Phantasm\n",
       "Name: title, dtype: object"
      ]
     },
     "execution_count": 14,
     "metadata": {},
     "output_type": "execute_result"
    }
   ],
   "source": [
    "ut.top_rec(\"The Dark Knight\",\n",
    "           word2vec_cosine_sim, \n",
    "           pd.Series(df.index, index=df['title']), \n",
    "           df)"
   ]
  },
  {
   "cell_type": "code",
   "execution_count": 15,
   "id": "805a8d91-40b9-46b5-b5f4-42b3570bae77",
   "metadata": {},
   "outputs": [
    {
     "name": "stderr",
     "output_type": "stream",
     "text": [
      "100%|██████████| 17423/17423 [00:11<00:00, 1494.99it/s] \n"
     ]
    }
   ],
   "source": [
    "word2vec_cosine_sim = ut.Word2Vec_Hybrid(\n",
    "                                      df['overview_toke'], \n",
    "                                      vector_size = 300,\n",
    "                                      window = 7, \n",
    "                                      epochs = 100)"
   ]
  },
  {
   "cell_type": "code",
   "execution_count": 16,
   "id": "9921455e-c741-43f3-8cde-e8cc696986d3",
   "metadata": {},
   "outputs": [
    {
     "data": {
      "text/plain": [
       "104                         The Dark Knight Rises\n",
       "1513                               Batman Returns\n",
       "611                                        Batman\n",
       "564                    Batman: Under the Red Hood\n",
       "3627    The Batman Superman Movie: World's Finest\n",
       "1514                             Batman: Year One\n",
       "146                                 Batman Begins\n",
       "3452                 Batman & Mr. Freeze: SubZero\n",
       "2057         Justice League: Crisis on Two Earths\n",
       "3011              Superman/Batman: Public Enemies\n",
       "Name: title, dtype: object"
      ]
     },
     "execution_count": 16,
     "metadata": {},
     "output_type": "execute_result"
    }
   ],
   "source": [
    "ut.top_rec(\"The Dark Knight\",\n",
    "           word2vec_cosine_sim, \n",
    "           pd.Series(df.index, index=df['title']), \n",
    "           df)"
   ]
  },
  {
   "cell_type": "markdown",
   "id": "bfcf4247-1bb5-4be2-8fbb-1cc992b54d0c",
   "metadata": {},
   "source": [
    "### Word embedding"
   ]
  },
  {
   "cell_type": "code",
   "execution_count": 17,
   "id": "bbf62554-a5b0-46d0-a535-0e40f31edfbe",
   "metadata": {},
   "outputs": [
    {
     "name": "stderr",
     "output_type": "stream",
     "text": [
      "/opt/conda/lib/python3.7/site-packages/numpy/core/fromnumeric.py:86: VisibleDeprecationWarning: Creating an ndarray from ragged nested sequences (which is a list-or-tuple of lists-or-tuples-or ndarrays with different lengths or shapes) is deprecated. If you meant to do this, you must specify 'dtype=object' when creating the ndarray.\n",
      "  return ufunc.reduce(obj, axis, dtype, out, **passkwargs)\n"
     ]
    }
   ],
   "source": [
    "doc2vec_cosine_sim = ut.Doc2Word_embed(df['overview_clean'], \n",
    "                                    df['overview_toke'], \n",
    "                                    vector_size = 300,\n",
    "                                    window = 15,\n",
    "                                    epochs = 100)"
   ]
  },
  {
   "cell_type": "code",
   "execution_count": 18,
   "id": "87f3d0e4-33ab-4146-8e70-de77531ecd0a",
   "metadata": {},
   "outputs": [
    {
     "data": {
      "text/plain": [
       "104                         The Dark Knight Rises\n",
       "611                                        Batman\n",
       "2057         Justice League: Crisis on Two Earths\n",
       "564                    Batman: Under the Red Hood\n",
       "146                                 Batman Begins\n",
       "3011              Superman/Batman: Public Enemies\n",
       "1513                               Batman Returns\n",
       "3627    The Batman Superman Movie: World's Finest\n",
       "3870                          Running Out of Time\n",
       "1511           Batman Beyond: Return of the Joker\n",
       "Name: title, dtype: object"
      ]
     },
     "execution_count": 18,
     "metadata": {},
     "output_type": "execute_result"
    }
   ],
   "source": [
    "ut.top_rec(\"The Dark Knight\",\n",
    "           doc2vec_cosine_sim, \n",
    "           pd.Series(df.index, index=df['title']), \n",
    "           df)"
   ]
  },
  {
   "cell_type": "markdown",
   "id": "af62979b-c0d7-48ee-bbdb-cd71129932f1",
   "metadata": {},
   "source": [
    "## Hybrid Content based model\n",
    "\n",
    "We want to combine the NLP models (i.e TF_IDF, Word2Vec_Hybrid and Doc2Word_embed)\n"
   ]
  },
  {
   "cell_type": "code",
   "execution_count": 51,
   "id": "11e093e1-5d57-4e94-9f87-bf1b8cb086a3",
   "metadata": {},
   "outputs": [
    {
     "data": {
      "text/plain": [
       "104                         The Dark Knight Rises\n",
       "611                                        Batman\n",
       "564                    Batman: Under the Red Hood\n",
       "1513                               Batman Returns\n",
       "146                                 Batman Begins\n",
       "2057         Justice League: Crisis on Two Earths\n",
       "3627    The Batman Superman Movie: World's Finest\n",
       "3011              Superman/Batman: Public Enemies\n",
       "1514                             Batman: Year One\n",
       "1511           Batman Beyond: Return of the Joker\n",
       "Name: title, dtype: object"
      ]
     },
     "execution_count": 51,
     "metadata": {},
     "output_type": "execute_result"
    }
   ],
   "source": [
    "# assuming the NLP model cosine similarities are comparable we will avg\n",
    "\n",
    "avg_nlp_sim = (doc2vec_cosine_sim+word2vec_cosine_sim+tfidf_cosine_sim)/3\n",
    "\n",
    "\n",
    "ut.top_rec(\"The Dark Knight\",\n",
    "           avg_nlp_sim, \n",
    "           pd.Series(df.index, index=df['title']), \n",
    "           df)"
   ]
  },
  {
   "cell_type": "markdown",
   "id": "06571051-7d53-4259-83fa-aaf53d2418b5",
   "metadata": {},
   "source": [
    "## Collaborative Filtering"
   ]
  },
  {
   "cell_type": "markdown",
   "id": "9aefe3ee-58cf-4059-bd4b-3570913a0c9f",
   "metadata": {},
   "source": [
    "### Item based\n",
    "\n",
    "This is  collaborative filtering although we dont actually map users here. We just find the cosine similarity between movie rating vectors.\n",
    "\n",
    "i.e If a lot of people who are highly rating to MasterChef are also highly rating Bake Off, these 2 shows will have a high similarity score."
   ]
  },
  {
   "cell_type": "code",
   "execution_count": 60,
   "id": "0a872e22-d421-43d3-bf3e-ccc1af8536aa",
   "metadata": {},
   "outputs": [
    {
     "data": {
      "text/html": [
       "<div>\n",
       "<style scoped>\n",
       "    .dataframe tbody tr th:only-of-type {\n",
       "        vertical-align: middle;\n",
       "    }\n",
       "\n",
       "    .dataframe tbody tr th {\n",
       "        vertical-align: top;\n",
       "    }\n",
       "\n",
       "    .dataframe thead th {\n",
       "        text-align: right;\n",
       "    }\n",
       "</style>\n",
       "<table border=\"1\" class=\"dataframe\">\n",
       "  <thead>\n",
       "    <tr style=\"text-align: right;\">\n",
       "      <th></th>\n",
       "      <th>userId</th>\n",
       "      <th>index1</th>\n",
       "      <th>rating</th>\n",
       "    </tr>\n",
       "  </thead>\n",
       "  <tbody>\n",
       "    <tr>\n",
       "      <th>0</th>\n",
       "      <td>12</td>\n",
       "      <td>90</td>\n",
       "      <td>4.0</td>\n",
       "    </tr>\n",
       "    <tr>\n",
       "      <th>1</th>\n",
       "      <td>400</td>\n",
       "      <td>90</td>\n",
       "      <td>3.0</td>\n",
       "    </tr>\n",
       "  </tbody>\n",
       "</table>\n",
       "</div>"
      ],
      "text/plain": [
       "   userId  index1  rating\n",
       "0      12      90     4.0\n",
       "1     400      90     3.0"
      ]
     },
     "execution_count": 60,
     "metadata": {},
     "output_type": "execute_result"
    }
   ],
   "source": [
    "df['index1'] = df.index\n",
    "new = pd.merge(rating,\n",
    "               df[[\"title\", 'index1', \"movieId\"]], \n",
    "               how='inner',\n",
    "               left_on=\"movieId\",\n",
    "               right_on=\"movieId\")\n",
    "\n",
    "new = new[[\"userId\",\"index1\",\"rating\"]]\n",
    "x = pd.pivot_table(new, values='rating', index=['index1'], columns=['userId'], aggfunc=np.max, fill_value=0) \n",
    "new.head(2)"
   ]
  },
  {
   "cell_type": "code",
   "execution_count": 61,
   "id": "9d8ab787-1c62-45b4-8c1a-c48316e30e73",
   "metadata": {},
   "outputs": [],
   "source": [
    "item_cosine_sim = ut.Rating2Vec(x)"
   ]
  },
  {
   "cell_type": "code",
   "execution_count": 62,
   "id": "36365878-99bd-4b0f-954b-92109ca3fc65",
   "metadata": {},
   "outputs": [
    {
     "data": {
      "text/plain": [
       "12                                         Inception\n",
       "176                                         Iron Man\n",
       "146                                    Batman Begins\n",
       "104                            The Dark Knight Rises\n",
       "70                                            WALL·E\n",
       "17     The Lord of the Rings: The Return of the King\n",
       "3                                         Fight Club\n",
       "46                              Inglourious Basterds\n",
       "37                                      The Prestige\n",
       "59                                      The Departed\n",
       "Name: title, dtype: object"
      ]
     },
     "execution_count": 62,
     "metadata": {},
     "output_type": "execute_result"
    }
   ],
   "source": [
    "ut.top_rec(\"The Dark Knight\",\n",
    "           item_cosine_sim, \n",
    "           pd.Series(df.index, index=df['title']), \n",
    "           df)"
   ]
  },
  {
   "cell_type": "code",
   "execution_count": 65,
   "id": "fab2d1ef-99f2-427b-b72e-7779370c12a9",
   "metadata": {},
   "outputs": [
    {
     "data": {
      "text/plain": [
       "(4575, 4575)"
      ]
     },
     "execution_count": 65,
     "metadata": {},
     "output_type": "execute_result"
    }
   ],
   "source": [
    "item_cosine_sim.shape"
   ]
  },
  {
   "cell_type": "markdown",
   "id": "97a19a87-a68d-4b05-90e3-50f6ab579e24",
   "metadata": {},
   "source": [
    "### User based"
   ]
  },
  {
   "cell_type": "code",
   "execution_count": 63,
   "id": "dcb1c1ed",
   "metadata": {},
   "outputs": [],
   "source": [
    "user_cosine_sim = ut.Rating2Vec(x.T)"
   ]
  },
  {
   "cell_type": "code",
   "execution_count": 64,
   "id": "7a03323c",
   "metadata": {},
   "outputs": [
    {
     "data": {
      "text/plain": [
       "(9935, 9935)"
      ]
     },
     "execution_count": 64,
     "metadata": {},
     "output_type": "execute_result"
    }
   ],
   "source": [
    "user_cosine_sim.shape"
   ]
  },
  {
   "cell_type": "code",
   "execution_count": null,
   "id": "62893fb3-6d71-4ae6-8b7a-da25c6d23880",
   "metadata": {},
   "outputs": [],
   "source": [
    "def top_rec(title, sim, indices = pd.Series(df.index, index=df['title'])):\n",
    "    idx = indices[title]\n",
    "    sim_scores = list(enumerate(sim[idx]))\n",
    "    sim_scores = sorted(sim_scores, key=lambda x: x[1], reverse=True)\n",
    "    sim_scores = sim_scores[1:11]\n",
    "    movie_indices = [i[0] for i in sim_scores]\n",
    "    return df['title'].iloc[movie_indices]"
   ]
  },
  {
   "cell_type": "code",
   "execution_count": null,
   "id": "b1fc55ce",
   "metadata": {},
   "outputs": [],
   "source": [
    "movie_indices = [i[0] for i in sorted(list(enumerate(similarity_matrix[indices[title_of_movie]])), key=lambda x: x[1], reverse=True)[1:11]]"
   ]
  },
  {
   "cell_type": "markdown",
   "id": "82162860-45ce-4b34-b818-914cb60ae514",
   "metadata": {},
   "source": [
    "to do:\n",
    "- Evaluation method\n",
    "- Finish simple memory based collab\n",
    "- do a model based one\n",
    "\n",
    "look into how a neural network could combine evrything."
   ]
  },
  {
   "cell_type": "code",
   "execution_count": null,
   "id": "34ed9fd3-2799-4a9e-b7ce-881ee737344f",
   "metadata": {},
   "outputs": [],
   "source": []
  },
  {
   "cell_type": "code",
   "execution_count": null,
   "id": "ba94ff62-74d7-45e7-b5cf-0b320dc562bb",
   "metadata": {},
   "outputs": [],
   "source": []
  },
  {
   "cell_type": "markdown",
   "id": "6a7331d9-13ad-4436-96c7-ff3b22e38862",
   "metadata": {},
   "source": [
    "Hybrid\n",
    "\n",
    "Factorisation machines?\n"
   ]
  },
  {
   "cell_type": "code",
   "execution_count": null,
   "id": "cebfe472-004f-4691-9b42-b5cc7cb3d5c0",
   "metadata": {},
   "outputs": [],
   "source": []
  }
 ],
 "metadata": {
  "environment": {
   "kernel": "python3",
   "name": "tf2-gpu.2-3.m91",
   "type": "gcloud",
   "uri": "gcr.io/deeplearning-platform-release/tf2-gpu.2-3:m91"
  },
  "kernelspec": {
   "display_name": "Python 3",
   "language": "python",
   "name": "python3"
  },
  "language_info": {
   "codemirror_mode": {
    "name": "ipython",
    "version": 3
   },
   "file_extension": ".py",
   "mimetype": "text/x-python",
   "name": "python",
   "nbconvert_exporter": "python",
   "pygments_lexer": "ipython3",
   "version": "3.7.12"
  }
 },
 "nbformat": 4,
 "nbformat_minor": 5
}
