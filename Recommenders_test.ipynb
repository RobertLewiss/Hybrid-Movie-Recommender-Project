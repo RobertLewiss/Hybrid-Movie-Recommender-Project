{
 "cells": [
  {
   "cell_type": "markdown",
   "id": "09c9ae5b",
   "metadata": {},
   "source": [
    "# Recommender Systems Walk Through"
   ]
  },
  {
   "cell_type": "markdown",
   "id": "be4c601b-8f0b-4df0-b7b8-c849b3ad92eb",
   "metadata": {},
   "source": [
    "Assumptions:\n",
    "\n",
    "- I assume we are not recommending any brand new shows (I.e shows with no ratings)\n",
    "    If this were the case we would just have to utilise CB models to deal with that.\n",
    "    i.e recommend shows based on meta data of movies\n",
    "    \n",
    "- No brand new users. If this were the case again we would have to use meta data of movies for recommendations. \n",
    "\n",
    "- We use th entire customers history of movie ratings for Collab filtering. As per say the past months/week. (Simply due to not having loads of data)\n",
    "\n",
    "Notes:\n",
    "\n",
    "- Very difficult to evaluate these models. The best method is A/B testing but not possible for this exercise, instead we use a naive hit rate metric. \n",
    "\n",
    "- Eng goal is to understand Hybrid models, and to see if they perform the best.\n",
    "\n",
    "- Each model must recommend given a users ID."
   ]
  },
  {
   "cell_type": "markdown",
   "id": "75a6db91-78ae-4060-8b3f-9a32a07507c9",
   "metadata": {},
   "source": [
    "To do:\n",
    "\n",
    "- Model based CF\n",
    "\n",
    "- Use Directors and cost andkey words too."
   ]
  },
  {
   "cell_type": "code",
   "execution_count": 1,
   "id": "3fbbc690",
   "metadata": {},
   "outputs": [
    {
     "name": "stderr",
     "output_type": "stream",
     "text": [
      "Using TensorFlow backend.\n"
     ]
    }
   ],
   "source": [
    "import pandas as pd\n",
    "import numpy as np \n",
    "import Utils as ut\n",
    "from sklearn.model_selection import train_test_split"
   ]
  },
  {
   "cell_type": "code",
   "execution_count": 2,
   "id": "85004448",
   "metadata": {},
   "outputs": [],
   "source": [
    "df = pd.read_csv('Clean_Item_Data')\n",
    "df.drop('Unnamed: 0',inplace = True,axis = 1)"
   ]
  },
  {
   "cell_type": "code",
   "execution_count": 3,
   "id": "c40dbfac",
   "metadata": {},
   "outputs": [],
   "source": [
    "rating = pd.read_csv('ratings.csv')"
   ]
  },
  {
   "cell_type": "code",
   "execution_count": 4,
   "id": "2662d44e-3243-4a7f-9f3d-396270007aae",
   "metadata": {},
   "outputs": [],
   "source": [
    "rating = rating[rating.userId.isin(ut.random_sample(rating.userId.unique(),9000))]"
   ]
  },
  {
   "cell_type": "code",
   "execution_count": 5,
   "id": "d31ff7ec-74fe-4123-850e-c7fade5ca8c9",
   "metadata": {},
   "outputs": [],
   "source": [
    "rating = rating[rating.userId.map(rating.userId.value_counts())>4]"
   ]
  },
  {
   "cell_type": "code",
   "execution_count": 6,
   "id": "9bb06cfc-5918-4a8e-aece-dbc35a6927d9",
   "metadata": {},
   "outputs": [],
   "source": [
    "rating, rating_test = train_test_split(rating,\n",
    "                                   stratify=rating['userId'], \n",
    "                                   test_size=0.20,\n",
    "                                   random_state=432)"
   ]
  },
  {
   "cell_type": "code",
   "execution_count": 7,
   "id": "73a70a02-390c-4ea7-a6b9-f88ddaf680a4",
   "metadata": {},
   "outputs": [],
   "source": [
    "movieId_set = set.intersection(set(rating_test.movieId), \n",
    "                               set(rating.movieId), \n",
    "                               set(df.movieId))\n",
    "\n",
    "rating_test = rating_test[rating_test.movieId.isin(movieId_set)]\n",
    "rating = rating[rating.movieId.isin(movieId_set)]\n",
    "df = df[df.movieId.isin(movieId_set)]"
   ]
  },
  {
   "cell_type": "code",
   "execution_count": 8,
   "id": "48079c6f-9a7c-463c-a37c-9c44a8b83f50",
   "metadata": {},
   "outputs": [
    {
     "data": {
      "text/plain": [
       "(128019, 4)"
      ]
     },
     "execution_count": 8,
     "metadata": {},
     "output_type": "execute_result"
    }
   ],
   "source": [
    "rating_test.shape"
   ]
  },
  {
   "cell_type": "code",
   "execution_count": 9,
   "id": "deda4b1b-0ac1-47f3-ba8f-40371342a878",
   "metadata": {},
   "outputs": [
    {
     "data": {
      "text/plain": [
       "(507711, 4)"
      ]
     },
     "execution_count": 9,
     "metadata": {},
     "output_type": "execute_result"
    }
   ],
   "source": [
    "rating.shape"
   ]
  },
  {
   "cell_type": "code",
   "execution_count": 10,
   "id": "87315c11-c464-4908-8a40-bde3d18d2f56",
   "metadata": {},
   "outputs": [
    {
     "data": {
      "text/plain": [
       "(5158, 17)"
      ]
     },
     "execution_count": 10,
     "metadata": {},
     "output_type": "execute_result"
    }
   ],
   "source": [
    "df.shape"
   ]
  },
  {
   "cell_type": "code",
   "execution_count": 11,
   "id": "84f98e03-33d2-499e-a920-05cd00acb24b",
   "metadata": {},
   "outputs": [],
   "source": [
    "df = df.reset_index(drop=True)\n",
    "rating = rating.reset_index(drop=True)"
   ]
  },
  {
   "cell_type": "code",
   "execution_count": 12,
   "id": "b49f7ba9",
   "metadata": {},
   "outputs": [
    {
     "data": {
      "text/html": [
       "<div>\n",
       "<style scoped>\n",
       "    .dataframe tbody tr th:only-of-type {\n",
       "        vertical-align: middle;\n",
       "    }\n",
       "\n",
       "    .dataframe tbody tr th {\n",
       "        vertical-align: top;\n",
       "    }\n",
       "\n",
       "    .dataframe thead th {\n",
       "        text-align: right;\n",
       "    }\n",
       "</style>\n",
       "<table border=\"1\" class=\"dataframe\">\n",
       "  <thead>\n",
       "    <tr style=\"text-align: right;\">\n",
       "      <th></th>\n",
       "      <th>title</th>\n",
       "      <th>overview</th>\n",
       "      <th>genres</th>\n",
       "      <th>vote_average</th>\n",
       "      <th>budget</th>\n",
       "      <th>runtime</th>\n",
       "      <th>adult</th>\n",
       "      <th>vote_count</th>\n",
       "      <th>movieId</th>\n",
       "      <th>imdbId</th>\n",
       "      <th>tmdbId</th>\n",
       "      <th>cast</th>\n",
       "      <th>keywords</th>\n",
       "      <th>cast_size</th>\n",
       "      <th>crew_size</th>\n",
       "      <th>director</th>\n",
       "      <th>score</th>\n",
       "    </tr>\n",
       "  </thead>\n",
       "  <tbody>\n",
       "    <tr>\n",
       "      <th>124</th>\n",
       "      <td>Pulp Fiction</td>\n",
       "      <td>A burger-loving hit man, his philosophical par...</td>\n",
       "      <td>53</td>\n",
       "      <td>8.3</td>\n",
       "      <td>8000000</td>\n",
       "      <td>154.0</td>\n",
       "      <td>0</td>\n",
       "      <td>8670.0</td>\n",
       "      <td>296</td>\n",
       "      <td>110912</td>\n",
       "      <td>680</td>\n",
       "      <td>['John Travolta', 'Samuel L. Jackson', 'Uma Th...</td>\n",
       "      <td>['transport', 'brothel', 'drug deal', 'boxer',...</td>\n",
       "      <td>54</td>\n",
       "      <td>87</td>\n",
       "      <td>Quentin Tarantino</td>\n",
       "      <td>8.187793</td>\n",
       "    </tr>\n",
       "    <tr>\n",
       "      <th>215</th>\n",
       "      <td>Schindler's List</td>\n",
       "      <td>The true story of how businessman Oskar Schind...</td>\n",
       "      <td>18</td>\n",
       "      <td>8.3</td>\n",
       "      <td>22000000</td>\n",
       "      <td>195.0</td>\n",
       "      <td>0</td>\n",
       "      <td>4436.0</td>\n",
       "      <td>527</td>\n",
       "      <td>108052</td>\n",
       "      <td>424</td>\n",
       "      <td>['Liam Neeson', 'Ben Kingsley', 'Ralph Fiennes']</td>\n",
       "      <td>['factori', 'concentration camp', 'hero', 'hol...</td>\n",
       "      <td>30</td>\n",
       "      <td>36</td>\n",
       "      <td>Steven Spielberg</td>\n",
       "      <td>8.091368</td>\n",
       "    </tr>\n",
       "    <tr>\n",
       "      <th>502</th>\n",
       "      <td>The Godfather: Part II</td>\n",
       "      <td>In the continuing saga of the Corleone crime f...</td>\n",
       "      <td>18</td>\n",
       "      <td>8.3</td>\n",
       "      <td>13000000</td>\n",
       "      <td>200.0</td>\n",
       "      <td>0</td>\n",
       "      <td>3418.0</td>\n",
       "      <td>1221</td>\n",
       "      <td>71562</td>\n",
       "      <td>240</td>\n",
       "      <td>['Al Pacino', 'Robert Duvall', 'Diane Keaton']</td>\n",
       "      <td>['italo-american', 'cuba', 'vorort', 'melancho...</td>\n",
       "      <td>84</td>\n",
       "      <td>53</td>\n",
       "      <td>Francis Ford Coppola</td>\n",
       "      <td>8.037035</td>\n",
       "    </tr>\n",
       "    <tr>\n",
       "      <th>4403</th>\n",
       "      <td>The Intouchables</td>\n",
       "      <td>A true story of two men who should never have ...</td>\n",
       "      <td>18</td>\n",
       "      <td>8.2</td>\n",
       "      <td>13000000</td>\n",
       "      <td>112.0</td>\n",
       "      <td>0</td>\n",
       "      <td>5410.0</td>\n",
       "      <td>92259</td>\n",
       "      <td>1675434</td>\n",
       "      <td>77338</td>\n",
       "      <td>['François Cluzet', 'Omar Sy', 'Audrey Fleurot']</td>\n",
       "      <td>['male friendship', 'masseus', 'friendship', '...</td>\n",
       "      <td>32</td>\n",
       "      <td>34</td>\n",
       "      <td>Eric Toledano</td>\n",
       "      <td>8.034125</td>\n",
       "    </tr>\n",
       "    <tr>\n",
       "      <th>500</th>\n",
       "      <td>Psycho</td>\n",
       "      <td>When larcenous real estate clerk Marion Crane ...</td>\n",
       "      <td>18</td>\n",
       "      <td>8.3</td>\n",
       "      <td>806948</td>\n",
       "      <td>109.0</td>\n",
       "      <td>0</td>\n",
       "      <td>2405.0</td>\n",
       "      <td>1219</td>\n",
       "      <td>54215</td>\n",
       "      <td>539</td>\n",
       "      <td>['Anthony Perkins', 'Vera Miles', 'John Gavin']</td>\n",
       "      <td>['hotel', 'clerk', 'arizona', 'shower', 'rain'...</td>\n",
       "      <td>30</td>\n",
       "      <td>22</td>\n",
       "      <td>Alfred Hitchcock</td>\n",
       "      <td>7.945052</td>\n",
       "    </tr>\n",
       "  </tbody>\n",
       "</table>\n",
       "</div>"
      ],
      "text/plain": [
       "                       title  \\\n",
       "124             Pulp Fiction   \n",
       "215         Schindler's List   \n",
       "502   The Godfather: Part II   \n",
       "4403        The Intouchables   \n",
       "500                   Psycho   \n",
       "\n",
       "                                               overview  genres  vote_average  \\\n",
       "124   A burger-loving hit man, his philosophical par...      53           8.3   \n",
       "215   The true story of how businessman Oskar Schind...      18           8.3   \n",
       "502   In the continuing saga of the Corleone crime f...      18           8.3   \n",
       "4403  A true story of two men who should never have ...      18           8.2   \n",
       "500   When larcenous real estate clerk Marion Crane ...      18           8.3   \n",
       "\n",
       "        budget  runtime  adult  vote_count  movieId   imdbId  tmdbId  \\\n",
       "124    8000000    154.0      0      8670.0      296   110912     680   \n",
       "215   22000000    195.0      0      4436.0      527   108052     424   \n",
       "502   13000000    200.0      0      3418.0     1221    71562     240   \n",
       "4403  13000000    112.0      0      5410.0    92259  1675434   77338   \n",
       "500     806948    109.0      0      2405.0     1219    54215     539   \n",
       "\n",
       "                                                   cast  \\\n",
       "124   ['John Travolta', 'Samuel L. Jackson', 'Uma Th...   \n",
       "215    ['Liam Neeson', 'Ben Kingsley', 'Ralph Fiennes']   \n",
       "502      ['Al Pacino', 'Robert Duvall', 'Diane Keaton']   \n",
       "4403   ['François Cluzet', 'Omar Sy', 'Audrey Fleurot']   \n",
       "500     ['Anthony Perkins', 'Vera Miles', 'John Gavin']   \n",
       "\n",
       "                                               keywords  cast_size  crew_size  \\\n",
       "124   ['transport', 'brothel', 'drug deal', 'boxer',...         54         87   \n",
       "215   ['factori', 'concentration camp', 'hero', 'hol...         30         36   \n",
       "502   ['italo-american', 'cuba', 'vorort', 'melancho...         84         53   \n",
       "4403  ['male friendship', 'masseus', 'friendship', '...         32         34   \n",
       "500   ['hotel', 'clerk', 'arizona', 'shower', 'rain'...         30         22   \n",
       "\n",
       "                  director     score  \n",
       "124      Quentin Tarantino  8.187793  \n",
       "215       Steven Spielberg  8.091368  \n",
       "502   Francis Ford Coppola  8.037035  \n",
       "4403         Eric Toledano  8.034125  \n",
       "500       Alfred Hitchcock  7.945052  "
      ]
     },
     "execution_count": 12,
     "metadata": {},
     "output_type": "execute_result"
    }
   ],
   "source": [
    "# Very naive approach (also to do this properly I need to take into account of number of votes not just avg vote.)\n",
    "user = rating.userId.sample(1).iloc[0]\n",
    "ut.simple(user,df,rating,5)"
   ]
  },
  {
   "cell_type": "code",
   "execution_count": 13,
   "id": "47e0eec6-5a05-41cd-9b6c-14c5cc8a0928",
   "metadata": {},
   "outputs": [
    {
     "data": {
      "text/plain": [
       "0.31"
      ]
     },
     "execution_count": 13,
     "metadata": {},
     "output_type": "execute_result"
    }
   ],
   "source": [
    "ut.evaluate(rating_test, 5, 'simple', df, sample_size = 200,  rating = rating)"
   ]
  },
  {
   "cell_type": "markdown",
   "id": "1a297ccd",
   "metadata": {},
   "source": [
    "## Content Based Filtering "
   ]
  },
  {
   "cell_type": "code",
   "execution_count": 14,
   "id": "ccb5d271-cb45-4722-ad1b-8b2f600229e4",
   "metadata": {},
   "outputs": [],
   "source": [
    "df['overview_toke'] = df['overview'].apply(ut.clean_text, toke = True)"
   ]
  },
  {
   "cell_type": "code",
   "execution_count": 15,
   "id": "a5455f28-7694-413c-81f7-40aeefdd6979",
   "metadata": {},
   "outputs": [],
   "source": [
    "df['overview_clean'] = df['overview'].apply(ut.clean_text)"
   ]
  },
  {
   "cell_type": "code",
   "execution_count": 16,
   "id": "50b32634-485f-4ff1-92ef-1490c5ffe48f",
   "metadata": {},
   "outputs": [
    {
     "data": {
      "text/html": [
       "<div>\n",
       "<style scoped>\n",
       "    .dataframe tbody tr th:only-of-type {\n",
       "        vertical-align: middle;\n",
       "    }\n",
       "\n",
       "    .dataframe tbody tr th {\n",
       "        vertical-align: top;\n",
       "    }\n",
       "\n",
       "    .dataframe thead th {\n",
       "        text-align: right;\n",
       "    }\n",
       "</style>\n",
       "<table border=\"1\" class=\"dataframe\">\n",
       "  <thead>\n",
       "    <tr style=\"text-align: right;\">\n",
       "      <th></th>\n",
       "      <th>title</th>\n",
       "      <th>overview</th>\n",
       "      <th>genres</th>\n",
       "      <th>vote_average</th>\n",
       "      <th>budget</th>\n",
       "      <th>runtime</th>\n",
       "      <th>adult</th>\n",
       "      <th>vote_count</th>\n",
       "      <th>movieId</th>\n",
       "      <th>imdbId</th>\n",
       "      <th>tmdbId</th>\n",
       "      <th>cast</th>\n",
       "      <th>keywords</th>\n",
       "      <th>cast_size</th>\n",
       "      <th>crew_size</th>\n",
       "      <th>director</th>\n",
       "      <th>score</th>\n",
       "      <th>overview_toke</th>\n",
       "      <th>overview_clean</th>\n",
       "    </tr>\n",
       "  </thead>\n",
       "  <tbody>\n",
       "    <tr>\n",
       "      <th>0</th>\n",
       "      <td>Toy Story</td>\n",
       "      <td>Led by Woody, Andy's toys live happily in his ...</td>\n",
       "      <td>16</td>\n",
       "      <td>7.7</td>\n",
       "      <td>30000000</td>\n",
       "      <td>81.0</td>\n",
       "      <td>0</td>\n",
       "      <td>5415.0</td>\n",
       "      <td>1</td>\n",
       "      <td>114709</td>\n",
       "      <td>862</td>\n",
       "      <td>['Tom Hanks', 'Tim Allen', 'Don Rickles']</td>\n",
       "      <td>['jealousi', 'toy', 'boy', 'friendship', 'frie...</td>\n",
       "      <td>13</td>\n",
       "      <td>106</td>\n",
       "      <td>John Lasseter</td>\n",
       "      <td>7.575833</td>\n",
       "      <td>[led, woodi, andi, toy, live, happili, hi, roo...</td>\n",
       "      <td>led woodi andi toy live happili hi room andi b...</td>\n",
       "    </tr>\n",
       "    <tr>\n",
       "      <th>1</th>\n",
       "      <td>Jumanji</td>\n",
       "      <td>When siblings Judy and Peter discover an encha...</td>\n",
       "      <td>12</td>\n",
       "      <td>6.9</td>\n",
       "      <td>65000000</td>\n",
       "      <td>104.0</td>\n",
       "      <td>0</td>\n",
       "      <td>2413.0</td>\n",
       "      <td>2</td>\n",
       "      <td>113497</td>\n",
       "      <td>8844</td>\n",
       "      <td>['Robin Williams', 'Jonathan Hyde', 'Kirsten D...</td>\n",
       "      <td>['board gam', 'disappear', \"based on children'...</td>\n",
       "      <td>26</td>\n",
       "      <td>16</td>\n",
       "      <td>Joe Johnston</td>\n",
       "      <td>6.782738</td>\n",
       "      <td>[sibl, judi, peter, discov, enchant, board, ga...</td>\n",
       "      <td>sibl judi peter discov enchant board game open...</td>\n",
       "    </tr>\n",
       "    <tr>\n",
       "      <th>2</th>\n",
       "      <td>Grumpier Old Men</td>\n",
       "      <td>A family wedding reignites the ancient feud be...</td>\n",
       "      <td>10749</td>\n",
       "      <td>6.5</td>\n",
       "      <td>0</td>\n",
       "      <td>101.0</td>\n",
       "      <td>0</td>\n",
       "      <td>92.0</td>\n",
       "      <td>3</td>\n",
       "      <td>113228</td>\n",
       "      <td>15602</td>\n",
       "      <td>['Walter Matthau', 'Jack Lemmon', 'Ann-Margret']</td>\n",
       "      <td>['fish', 'best friend', 'duringcreditssting', ...</td>\n",
       "      <td>7</td>\n",
       "      <td>4</td>\n",
       "      <td>Howard Deutch</td>\n",
       "      <td>6.252781</td>\n",
       "      <td>[famili, wed, reignit, ancient, feud, next-doo...</td>\n",
       "      <td>famili wed reignit ancient feud next-door neig...</td>\n",
       "    </tr>\n",
       "  </tbody>\n",
       "</table>\n",
       "</div>"
      ],
      "text/plain": [
       "              title                                           overview  \\\n",
       "0         Toy Story  Led by Woody, Andy's toys live happily in his ...   \n",
       "1           Jumanji  When siblings Judy and Peter discover an encha...   \n",
       "2  Grumpier Old Men  A family wedding reignites the ancient feud be...   \n",
       "\n",
       "   genres  vote_average    budget  runtime  adult  vote_count  movieId  \\\n",
       "0      16           7.7  30000000     81.0      0      5415.0        1   \n",
       "1      12           6.9  65000000    104.0      0      2413.0        2   \n",
       "2   10749           6.5         0    101.0      0        92.0        3   \n",
       "\n",
       "   imdbId  tmdbId                                               cast  \\\n",
       "0  114709     862          ['Tom Hanks', 'Tim Allen', 'Don Rickles']   \n",
       "1  113497    8844  ['Robin Williams', 'Jonathan Hyde', 'Kirsten D...   \n",
       "2  113228   15602   ['Walter Matthau', 'Jack Lemmon', 'Ann-Margret']   \n",
       "\n",
       "                                            keywords  cast_size  crew_size  \\\n",
       "0  ['jealousi', 'toy', 'boy', 'friendship', 'frie...         13        106   \n",
       "1  ['board gam', 'disappear', \"based on children'...         26         16   \n",
       "2  ['fish', 'best friend', 'duringcreditssting', ...          7          4   \n",
       "\n",
       "        director     score                                      overview_toke  \\\n",
       "0  John Lasseter  7.575833  [led, woodi, andi, toy, live, happili, hi, roo...   \n",
       "1   Joe Johnston  6.782738  [sibl, judi, peter, discov, enchant, board, ga...   \n",
       "2  Howard Deutch  6.252781  [famili, wed, reignit, ancient, feud, next-doo...   \n",
       "\n",
       "                                      overview_clean  \n",
       "0  led woodi andi toy live happili hi room andi b...  \n",
       "1  sibl judi peter discov enchant board game open...  \n",
       "2  famili wed reignit ancient feud next-door neig...  "
      ]
     },
     "execution_count": 16,
     "metadata": {},
     "output_type": "execute_result"
    }
   ],
   "source": [
    "df.head(3)"
   ]
  },
  {
   "cell_type": "markdown",
   "id": "bcca9f42-bceb-4ea4-b665-8a235263625c",
   "metadata": {},
   "source": [
    "## TF-IDF"
   ]
  },
  {
   "cell_type": "code",
   "execution_count": 17,
   "id": "b77b6272-9ca9-4ad8-b2dc-d6c007eb8365",
   "metadata": {},
   "outputs": [],
   "source": [
    "tfidf_cosine_sim = ut.TF_IDF(df['overview_clean'], ngram = 5)"
   ]
  },
  {
   "cell_type": "code",
   "execution_count": null,
   "id": "9dfac71d-6999-4ab8-a177-09beff86c885",
   "metadata": {},
   "outputs": [],
   "source": []
  },
  {
   "cell_type": "code",
   "execution_count": 18,
   "id": "43639b8c-436a-4589-806d-fb8579c8e8e2",
   "metadata": {},
   "outputs": [
    {
     "data": {
      "text/plain": [
       "4388         The Dark Knight Rises\n",
       "242                         Batman\n",
       "611                 Batman Returns\n",
       "4186    Batman: Under the Red Hood\n",
       "Name: title, dtype: object"
      ]
     },
     "execution_count": 18,
     "metadata": {},
     "output_type": "execute_result"
    }
   ],
   "source": [
    "ut.top_rec(\"The Dark Knight\",\n",
    "           tfidf_cosine_sim, \n",
    "           pd.Series(df.index, index=df['title']), \n",
    "           df, 5)"
   ]
  },
  {
   "cell_type": "code",
   "execution_count": 19,
   "id": "7c25d406-c2e9-4479-a3ac-5b0604347522",
   "metadata": {},
   "outputs": [
    {
     "data": {
      "text/plain": [
       "0.015"
      ]
     },
     "execution_count": 19,
     "metadata": {},
     "output_type": "execute_result"
    }
   ],
   "source": [
    "ut.evaluate(rating_test, 5, 'CB', df, sample_size = 200, sim = tfidf_cosine_sim)"
   ]
  },
  {
   "cell_type": "markdown",
   "id": "15392f11-32b0-491e-8f61-cad496d1d5ec",
   "metadata": {},
   "source": [
    "## Word2Vec"
   ]
  },
  {
   "cell_type": "code",
   "execution_count": 20,
   "id": "40704731-3cc3-4132-8577-32f3f9d4ef69",
   "metadata": {},
   "outputs": [
    {
     "name": "stderr",
     "output_type": "stream",
     "text": [
      "100%|██████████| 18444/18444 [00:11<00:00, 1615.10it/s] \n"
     ]
    }
   ],
   "source": [
    "word2vec_cosine_sim = ut.Word2Vec_Hybrid(\n",
    "                                      df['overview_toke'], \n",
    "                                      vector_size = 300,\n",
    "                                      window = 7, \n",
    "                                      epochs = 100)"
   ]
  },
  {
   "cell_type": "code",
   "execution_count": 21,
   "id": "29035c04-48ee-46bd-b9c7-38e15b75e50d",
   "metadata": {},
   "outputs": [
    {
     "data": {
      "text/plain": [
       "4388         The Dark Knight Rises\n",
       "242                         Batman\n",
       "611                 Batman Returns\n",
       "4186    Batman: Under the Red Hood\n",
       "Name: title, dtype: object"
      ]
     },
     "execution_count": 21,
     "metadata": {},
     "output_type": "execute_result"
    }
   ],
   "source": [
    "ut.top_rec(\"The Dark Knight\",\n",
    "           word2vec_cosine_sim, \n",
    "           pd.Series(df.index, index=df['title']), \n",
    "           df,5)"
   ]
  },
  {
   "cell_type": "code",
   "execution_count": 22,
   "id": "669d3085-6904-4c63-a875-e4e345511a56",
   "metadata": {},
   "outputs": [
    {
     "data": {
      "text/plain": [
       "(5158, 5158)"
      ]
     },
     "execution_count": 22,
     "metadata": {},
     "output_type": "execute_result"
    }
   ],
   "source": [
    "word2vec_cosine_sim.shape"
   ]
  },
  {
   "cell_type": "code",
   "execution_count": 23,
   "id": "1d2ce6c3-f0c9-4c23-b289-c902696fe84f",
   "metadata": {},
   "outputs": [
    {
     "data": {
      "text/plain": [
       "0.01"
      ]
     },
     "execution_count": 23,
     "metadata": {},
     "output_type": "execute_result"
    }
   ],
   "source": [
    "ut.evaluate(rating_test, 5, 'CB', df, sample_size = 200, sim = word2vec_cosine_sim)"
   ]
  },
  {
   "cell_type": "markdown",
   "id": "bfcf4247-1bb5-4be2-8fbb-1cc992b54d0c",
   "metadata": {},
   "source": [
    "### Word embedding"
   ]
  },
  {
   "cell_type": "code",
   "execution_count": 24,
   "id": "bbf62554-a5b0-46d0-a535-0e40f31edfbe",
   "metadata": {},
   "outputs": [
    {
     "name": "stderr",
     "output_type": "stream",
     "text": [
      "/opt/conda/lib/python3.7/site-packages/numpy/core/fromnumeric.py:86: VisibleDeprecationWarning: Creating an ndarray from ragged nested sequences (which is a list-or-tuple of lists-or-tuples-or ndarrays with different lengths or shapes) is deprecated. If you meant to do this, you must specify 'dtype=object' when creating the ndarray.\n",
      "  return ufunc.reduce(obj, axis, dtype, out, **passkwargs)\n"
     ]
    }
   ],
   "source": [
    "doc2vec_cosine_sim = ut.Doc2Word_embed(df['overview_clean'], \n",
    "                                    df['overview_toke'], \n",
    "                                    vector_size = 300,\n",
    "                                    window = 15,\n",
    "                                    epochs = 100)"
   ]
  },
  {
   "cell_type": "code",
   "execution_count": 25,
   "id": "87f3d0e4-33ab-4146-8e70-de77531ecd0a",
   "metadata": {},
   "outputs": [
    {
     "data": {
      "text/plain": [
       "4388                     The Dark Knight Rises\n",
       "242                                     Batman\n",
       "4369                          Batman: Year One\n",
       "2406    Remo Williams: The Adventure Begins...\n",
       "Name: title, dtype: object"
      ]
     },
     "execution_count": 25,
     "metadata": {},
     "output_type": "execute_result"
    }
   ],
   "source": [
    "ut.top_rec(\"The Dark Knight\",\n",
    "           doc2vec_cosine_sim, \n",
    "           pd.Series(df.index, index=df['title']), \n",
    "           df,5)"
   ]
  },
  {
   "cell_type": "code",
   "execution_count": 26,
   "id": "82d50db1-b938-4b36-be28-00b774cb0c0a",
   "metadata": {},
   "outputs": [
    {
     "data": {
      "text/plain": [
       "0.03"
      ]
     },
     "execution_count": 26,
     "metadata": {},
     "output_type": "execute_result"
    }
   ],
   "source": [
    "ut.evaluate(rating_test, 5, 'CB', df, sample_size = 200, sim = doc2vec_cosine_sim)"
   ]
  },
  {
   "cell_type": "markdown",
   "id": "af62979b-c0d7-48ee-bbdb-cd71129932f1",
   "metadata": {},
   "source": [
    "## Hybrid Content based model\n",
    "\n",
    "We want to combine the NLP models (i.e TF_IDF, Word2Vec_Hybrid and Doc2Word_embed)\n"
   ]
  },
  {
   "cell_type": "code",
   "execution_count": 27,
   "id": "11e093e1-5d57-4e94-9f87-bf1b8cb086a3",
   "metadata": {},
   "outputs": [
    {
     "data": {
      "text/plain": [
       "4388         The Dark Knight Rises\n",
       "242                         Batman\n",
       "611                 Batman Returns\n",
       "4186    Batman: Under the Red Hood\n",
       "Name: title, dtype: object"
      ]
     },
     "execution_count": 27,
     "metadata": {},
     "output_type": "execute_result"
    }
   ],
   "source": [
    "# assuming the NLP model cosine similarities are comparable we will avg\n",
    "\n",
    "avg_nlp_sim = (word2vec_cosine_sim+tfidf_cosine_sim)/2\n",
    "\n",
    "\n",
    "ut.top_rec(\"The Dark Knight\",\n",
    "           avg_nlp_sim, \n",
    "           pd.Series(df.index, index=df['title']), \n",
    "           df,5)"
   ]
  },
  {
   "cell_type": "code",
   "execution_count": 28,
   "id": "d842c5a0-b348-4a92-943d-a200ffdbce7f",
   "metadata": {},
   "outputs": [
    {
     "data": {
      "text/plain": [
       "0.05"
      ]
     },
     "execution_count": 28,
     "metadata": {},
     "output_type": "execute_result"
    }
   ],
   "source": [
    "ut.evaluate(rating_test, 5, 'CB', df, sample_size = 200, sim = avg_nlp_sim)"
   ]
  },
  {
   "cell_type": "code",
   "execution_count": 29,
   "id": "d707ce10-5d3a-45d2-bfa6-0e1b8c22352d",
   "metadata": {},
   "outputs": [],
   "source": [
    "matrix = avg_nlp_sim\n",
    "for i in range(matrix.shape[0]):\n",
    "    for j in range(matrix.shape[1]):\n",
    "        if matrix[i,j] <0:\n",
    "            print(\"Negative\")\n",
    "            break"
   ]
  },
  {
   "cell_type": "markdown",
   "id": "06571051-7d53-4259-83fa-aaf53d2418b5",
   "metadata": {},
   "source": [
    "## Collaborative Filtering"
   ]
  },
  {
   "cell_type": "markdown",
   "id": "9aefe3ee-58cf-4059-bd4b-3570913a0c9f",
   "metadata": {},
   "source": [
    "### Item based\n",
    "\n",
    "This is  collaborative filtering although we dont actually map users here. We just find the cosine similarity between movie rating vectors.\n",
    "\n",
    "i.e If a lot of people who are highly rating to MasterChef are also highly rating Bake Off, these 2 shows will have a high similarity score."
   ]
  },
  {
   "cell_type": "code",
   "execution_count": 30,
   "id": "0a872e22-d421-43d3-bf3e-ccc1af8536aa",
   "metadata": {},
   "outputs": [
    {
     "data": {
      "text/html": [
       "<div>\n",
       "<style scoped>\n",
       "    .dataframe tbody tr th:only-of-type {\n",
       "        vertical-align: middle;\n",
       "    }\n",
       "\n",
       "    .dataframe tbody tr th {\n",
       "        vertical-align: top;\n",
       "    }\n",
       "\n",
       "    .dataframe thead th {\n",
       "        text-align: right;\n",
       "    }\n",
       "</style>\n",
       "<table border=\"1\" class=\"dataframe\">\n",
       "  <thead>\n",
       "    <tr style=\"text-align: right;\">\n",
       "      <th></th>\n",
       "      <th>userId</th>\n",
       "      <th>index1</th>\n",
       "      <th>rating</th>\n",
       "    </tr>\n",
       "  </thead>\n",
       "  <tbody>\n",
       "    <tr>\n",
       "      <th>0</th>\n",
       "      <td>60395</td>\n",
       "      <td>816</td>\n",
       "      <td>2.5</td>\n",
       "    </tr>\n",
       "    <tr>\n",
       "      <th>1</th>\n",
       "      <td>214377</td>\n",
       "      <td>816</td>\n",
       "      <td>2.0</td>\n",
       "    </tr>\n",
       "  </tbody>\n",
       "</table>\n",
       "</div>"
      ],
      "text/plain": [
       "   userId  index1  rating\n",
       "0   60395     816     2.5\n",
       "1  214377     816     2.0"
      ]
     },
     "execution_count": 30,
     "metadata": {},
     "output_type": "execute_result"
    }
   ],
   "source": [
    "df['index1'] = df.index\n",
    "new = pd.merge(rating,\n",
    "               df[[\"title\", 'index1', \"movieId\"]], \n",
    "               how='inner',\n",
    "               left_on=\"movieId\",\n",
    "               right_on=\"movieId\")\n",
    "\n",
    "new = new[[\"userId\",\"index1\",\"rating\"]]\n",
    "x = pd.pivot_table(new, values='rating', index=['index1'], columns=['userId'], aggfunc=np.max, fill_value=0) \n",
    "new.head(2)"
   ]
  },
  {
   "cell_type": "code",
   "execution_count": 31,
   "id": "9d8ab787-1c62-45b4-8c1a-c48316e30e73",
   "metadata": {},
   "outputs": [],
   "source": [
    "item_cosine_sim = ut.Rating2Vec(x)"
   ]
  },
  {
   "cell_type": "code",
   "execution_count": 32,
   "id": "36365878-99bd-4b0f-954b-92109ca3fc65",
   "metadata": {},
   "outputs": [
    {
     "data": {
      "text/plain": [
       "195     Jurassic Park\n",
       "519    The Terminator\n",
       "165             Speed\n",
       "187      The Fugitive\n",
       "Name: title, dtype: object"
      ]
     },
     "execution_count": 32,
     "metadata": {},
     "output_type": "execute_result"
    }
   ],
   "source": [
    "ut.top_rec(\"Terminator 2: Judgment Day\",\n",
    "           item_cosine_sim, \n",
    "           pd.Series(df.index, index=df['title']), \n",
    "           df,5)"
   ]
  },
  {
   "cell_type": "code",
   "execution_count": 33,
   "id": "96da7d56-d04f-4030-93b6-76609f610e67",
   "metadata": {},
   "outputs": [
    {
     "data": {
      "text/plain": [
       "0.26"
      ]
     },
     "execution_count": 33,
     "metadata": {},
     "output_type": "execute_result"
    }
   ],
   "source": [
    "ut.evaluate(rating_test, 5, 'CB', df, sample_size = 200, sim = item_cosine_sim)"
   ]
  },
  {
   "cell_type": "markdown",
   "id": "97a19a87-a68d-4b05-90e3-50f6ab579e24",
   "metadata": {},
   "source": [
    "### User based"
   ]
  },
  {
   "cell_type": "code",
   "execution_count": 34,
   "id": "dcb1c1ed",
   "metadata": {},
   "outputs": [],
   "source": [
    "user_cosine_sim = ut.Rating2Vec(x.T)"
   ]
  },
  {
   "cell_type": "code",
   "execution_count": 35,
   "id": "5aaed78c-c299-4c4c-a770-5f13ba61ed46",
   "metadata": {},
   "outputs": [],
   "source": [
    "indexes = pd.DataFrame(x.T.index)"
   ]
  },
  {
   "cell_type": "code",
   "execution_count": 36,
   "id": "33e7cf14-ef74-4bd4-8c8f-d9bca1efef3a",
   "metadata": {
    "tags": []
   },
   "outputs": [
    {
     "data": {
      "text/plain": [
       "134                              The Shawshank Redemption\n",
       "1056                                           The Matrix\n",
       "1499                                            Gladiator\n",
       "1979    The Lord of the Rings: The Fellowship of the Ring\n",
       "1757                                                Shrek\n",
       "Name: title, dtype: object"
      ]
     },
     "execution_count": 36,
     "metadata": {},
     "output_type": "execute_result"
    }
   ],
   "source": [
    "ut.top_rec_user(rating.userId[0], user_cosine_sim, 10,5,df, x.T,indexes).title"
   ]
  },
  {
   "cell_type": "code",
   "execution_count": 37,
   "id": "0da3c073-7640-4382-90f2-56767f2382d8",
   "metadata": {},
   "outputs": [
    {
     "data": {
      "text/plain": [
       "0.105"
      ]
     },
     "execution_count": 37,
     "metadata": {},
     "output_type": "execute_result"
    }
   ],
   "source": [
    "ut.evaluate(rating_test, 5, 'UB', df, sample_size = 200, rating = rating, sim = user_cosine_sim, user_matrix = x.T, indexes = indexes, k = 10)"
   ]
  },
  {
   "cell_type": "markdown",
   "id": "bd84577c-aacc-4e8f-b8a9-e6a83d5e989a",
   "metadata": {},
   "source": [
    "## Hybrid Collab & Conent model"
   ]
  },
  {
   "cell_type": "code",
   "execution_count": 38,
   "id": "aa9f9d2f-8004-49d1-bab6-1fd2ca8d0031",
   "metadata": {},
   "outputs": [],
   "source": [
    "combined_sim = np.multiply(item_cosine_sim, avg_nlp_sim)"
   ]
  },
  {
   "cell_type": "code",
   "execution_count": 39,
   "id": "0ddb7611-1e04-4f01-9e47-e43e371d936a",
   "metadata": {},
   "outputs": [
    {
     "name": "stdout",
     "output_type": "stream",
     "text": [
      "Tile wtached:  Much Ado About Nothing\n",
      "Movie recommendations\n"
     ]
    },
    {
     "data": {
      "text/plain": [
       "156    Four Weddings and a Funeral\n",
       "737             The Wedding Singer\n",
       "111       Like Water for Chocolate\n",
       "36                     The Postman\n",
       "Name: title, dtype: object"
      ]
     },
     "execution_count": 39,
     "metadata": {},
     "output_type": "execute_result"
    }
   ],
   "source": [
    "title = df.title.sample(1).iloc[0]\n",
    "\n",
    "print(\"Tile wtached: \", title)\n",
    "\n",
    "print(\"Movie recommendations\")\n",
    "ut.top_rec(title,\n",
    "           combined_sim, \n",
    "           pd.Series(df.index, index=df['title']), \n",
    "           df,5)"
   ]
  },
  {
   "cell_type": "code",
   "execution_count": 40,
   "id": "e8d2692e-f265-495c-934c-2d4e50b87a6b",
   "metadata": {},
   "outputs": [
    {
     "data": {
      "text/plain": [
       "0.195"
      ]
     },
     "execution_count": 40,
     "metadata": {},
     "output_type": "execute_result"
    }
   ],
   "source": [
    "ut.evaluate(rating_test, 5, 'CB', df, sample_size = 200, sim = combined_sim)"
   ]
  },
  {
   "cell_type": "code",
   "execution_count": null,
   "id": "3d6bc991-d2a0-413d-be1e-d3887a769132",
   "metadata": {},
   "outputs": [],
   "source": []
  },
  {
   "cell_type": "code",
   "execution_count": 41,
   "id": "d2a0b009-b8f1-4c5e-b6db-9586723ddc0f",
   "metadata": {},
   "outputs": [],
   "source": [
    "from sklearn.preprocessing import normalize\n",
    "combined_sim2 = np.divide(np.add(item_cosine_sim*2, avg_nlp_sim),2)\n",
    "combined_sim2 = normalize(combined_sim2, axis=1, norm='l1')"
   ]
  },
  {
   "cell_type": "code",
   "execution_count": 42,
   "id": "30e0fcfa-eb25-47f3-833b-59aad4bf9e0f",
   "metadata": {},
   "outputs": [
    {
     "data": {
      "text/plain": [
       "519    The Terminator\n",
       "195     Jurassic Park\n",
       "166         True Lies\n",
       "165             Speed\n",
       "Name: title, dtype: object"
      ]
     },
     "execution_count": 42,
     "metadata": {},
     "output_type": "execute_result"
    }
   ],
   "source": [
    "ut.top_rec(\"Terminator 2: Judgment Day\",\n",
    "           combined_sim2, \n",
    "           pd.Series(df.index, index=df['title']), \n",
    "           df,5)"
   ]
  },
  {
   "cell_type": "code",
   "execution_count": 43,
   "id": "8f424284-7d63-4848-895e-0300e4caed18",
   "metadata": {},
   "outputs": [
    {
     "data": {
      "text/plain": [
       "0.16"
      ]
     },
     "execution_count": 43,
     "metadata": {},
     "output_type": "execute_result"
    }
   ],
   "source": [
    "ut.evaluate(rating_test, 5, 'CB', df, sample_size = 200, sim = combined_sim2)"
   ]
  },
  {
   "cell_type": "code",
   "execution_count": 44,
   "id": "3a1f57a2-4e2f-44b3-9eba-86de613ef570",
   "metadata": {},
   "outputs": [],
   "source": [
    "scores = np.matmul(x.T, combined_sim2)"
   ]
  },
  {
   "cell_type": "code",
   "execution_count": 45,
   "id": "e54bfbd2-6587-4565-99a6-bc3ea65be4e6",
   "metadata": {},
   "outputs": [
    {
     "data": {
      "text/html": [
       "<div>\n",
       "<style scoped>\n",
       "    .dataframe tbody tr th:only-of-type {\n",
       "        vertical-align: middle;\n",
       "    }\n",
       "\n",
       "    .dataframe tbody tr th {\n",
       "        vertical-align: top;\n",
       "    }\n",
       "\n",
       "    .dataframe thead th {\n",
       "        text-align: right;\n",
       "    }\n",
       "</style>\n",
       "<table border=\"1\" class=\"dataframe\">\n",
       "  <thead>\n",
       "    <tr style=\"text-align: right;\">\n",
       "      <th></th>\n",
       "      <th>title</th>\n",
       "      <th>movieId</th>\n",
       "    </tr>\n",
       "  </thead>\n",
       "  <tbody>\n",
       "    <tr>\n",
       "      <th>549</th>\n",
       "      <td>Back to the Future</td>\n",
       "      <td>1270</td>\n",
       "    </tr>\n",
       "    <tr>\n",
       "      <th>544</th>\n",
       "      <td>Groundhog Day</td>\n",
       "      <td>1265</td>\n",
       "    </tr>\n",
       "    <tr>\n",
       "      <th>434</th>\n",
       "      <td>E.T. the Extra-Terrestrial</td>\n",
       "      <td>1097</td>\n",
       "    </tr>\n",
       "    <tr>\n",
       "      <th>712</th>\n",
       "      <td>The Truman Show</td>\n",
       "      <td>1682</td>\n",
       "    </tr>\n",
       "    <tr>\n",
       "      <th>155</th>\n",
       "      <td>Forrest Gump</td>\n",
       "      <td>356</td>\n",
       "    </tr>\n",
       "  </tbody>\n",
       "</table>\n",
       "</div>"
      ],
      "text/plain": [
       "                          title  movieId\n",
       "549          Back to the Future     1270\n",
       "544               Groundhog Day     1265\n",
       "434  E.T. the Extra-Terrestrial     1097\n",
       "712             The Truman Show     1682\n",
       "155                Forrest Gump      356"
      ]
     },
     "execution_count": 45,
     "metadata": {},
     "output_type": "execute_result"
    }
   ],
   "source": [
    "ut.CB_CF_MEMORY_HYBRID_REC(scores , rating.userId[0], df, 5)"
   ]
  },
  {
   "cell_type": "code",
   "execution_count": 46,
   "id": "36ff762c-5cd8-40e0-bd20-a121cdd94e39",
   "metadata": {},
   "outputs": [
    {
     "data": {
      "text/plain": [
       "0.065"
      ]
     },
     "execution_count": 46,
     "metadata": {},
     "output_type": "execute_result"
    }
   ],
   "source": [
    "ut.evaluate(rating_test, 5, 'Hybrid', df, sample_size = 200, user_movie = scores)"
   ]
  },
  {
   "cell_type": "markdown",
   "id": "5a156002-2525-41d0-ab30-1674da28e72d",
   "metadata": {},
   "source": [
    "### Model based"
   ]
  },
  {
   "cell_type": "code",
   "execution_count": null,
   "id": "c435832e-805d-40c4-a65a-e0658b9e85ad",
   "metadata": {},
   "outputs": [],
   "source": []
  },
  {
   "cell_type": "code",
   "execution_count": null,
   "id": "8e2e42df-2a80-40ec-903c-b173a38a60b7",
   "metadata": {},
   "outputs": [],
   "source": []
  },
  {
   "cell_type": "markdown",
   "id": "f014deb0-80dd-421e-996f-ea42a284f94c",
   "metadata": {},
   "source": [
    "## Evaluation\n",
    "\n",
    "Very difficult to evaluate, here we use a hit rate. However there are issues doing this and it doesnt exactly represent the power/useful ness of each model."
   ]
  },
  {
   "cell_type": "code",
   "execution_count": null,
   "id": "fd0d1f84-6d45-4f40-8af7-2b72665475f0",
   "metadata": {},
   "outputs": [],
   "source": []
  },
  {
   "cell_type": "code",
   "execution_count": null,
   "id": "a986c2fc-09a2-43bd-a818-4e809e3860fb",
   "metadata": {},
   "outputs": [],
   "source": [
    "UB = ut.evaluate(rating_test, 5, 'UB', df, sample_size = 200, rating = rating, sim = user_cosine_sim, user_matrix = x.T, indexes = indexes, k = 10)\n",
    "IB = ut.evaluate(rating_test, 5, 'CB', df, sample_size = 200, sim = item_cosine_sim)\n",
    "Hybrid_cb = ut.evaluate(rating_test, 5, 'CB', df, sample_size = 200, sim = avg_nlp_sim)\n",
    "d2v = ut.evaluate(rating_test, 5, 'CB', df, sample_size = 200, sim = doc2vec_cosine_sim)\n",
    "w2v = ut.evaluate(rating_test, 5, 'CB', df, sample_size = 200, sim = word2vec_cosine_sim)\n",
    "tf = ut.evaluate(rating_test, 5, 'CB', df, sample_size = 200, sim = tfidf_cosine_sim)\n",
    "simp = ut.evaluate(rating_test, 5, 'simple', df,  rating = rating)\n",
    "h1 = ut.evaluate(rating_test, 5, 'CB', df, sample_size = 200, sim = combined_sim)\n",
    "h2 = ut.evaluate(rating_test, 5, 'CB', df, sample_size = 200, sim = combined_sim2)\n",
    "h3 = ut.evaluate(rating_test, 5, 'Hybrid', df, sample_size = 200, user_movie = scores)"
   ]
  },
  {
   "cell_type": "code",
   "execution_count": null,
   "id": "a510fa81-24c8-4918-8b48-48a330934f05",
   "metadata": {},
   "outputs": [],
   "source": []
  },
  {
   "cell_type": "code",
   "execution_count": null,
   "id": "4331d5c4-e289-461c-a88f-f0f6f907406e",
   "metadata": {},
   "outputs": [],
   "source": []
  },
  {
   "cell_type": "code",
   "execution_count": null,
   "id": "a8502c84-e79b-4780-83a8-3b035a73380a",
   "metadata": {},
   "outputs": [],
   "source": []
  },
  {
   "cell_type": "code",
   "execution_count": null,
   "id": "6fbd9b7a-272b-4907-ab5f-1347136c7997",
   "metadata": {},
   "outputs": [],
   "source": []
  },
  {
   "cell_type": "code",
   "execution_count": null,
   "id": "c2d2babd-4ce4-468d-aba2-b7bb3db42187",
   "metadata": {},
   "outputs": [],
   "source": []
  },
  {
   "cell_type": "code",
   "execution_count": null,
   "id": "7acd8acc-2ed3-4aac-ada0-2b63aeb3f54a",
   "metadata": {},
   "outputs": [],
   "source": []
  },
  {
   "cell_type": "markdown",
   "id": "82162860-45ce-4b34-b818-914cb60ae514",
   "metadata": {},
   "source": [
    "to do:\n",
    "- Evaluation method\n",
    "- Finish simple memory based collab\n",
    "- do a model based one\n",
    "\n",
    "look into how a neural network could combine evrything."
   ]
  },
  {
   "cell_type": "code",
   "execution_count": null,
   "id": "34ed9fd3-2799-4a9e-b7ce-881ee737344f",
   "metadata": {},
   "outputs": [],
   "source": []
  },
  {
   "cell_type": "code",
   "execution_count": null,
   "id": "ba94ff62-74d7-45e7-b5cf-0b320dc562bb",
   "metadata": {},
   "outputs": [],
   "source": []
  },
  {
   "cell_type": "markdown",
   "id": "6a7331d9-13ad-4436-96c7-ff3b22e38862",
   "metadata": {},
   "source": [
    "Hybrid\n",
    "\n",
    "Factorisation machines?\n"
   ]
  },
  {
   "cell_type": "code",
   "execution_count": null,
   "id": "cebfe472-004f-4691-9b42-b5cc7cb3d5c0",
   "metadata": {},
   "outputs": [],
   "source": []
  }
 ],
 "metadata": {
  "environment": {
   "kernel": "python3",
   "name": "tf2-gpu.2-3.m91",
   "type": "gcloud",
   "uri": "gcr.io/deeplearning-platform-release/tf2-gpu.2-3:m91"
  },
  "kernelspec": {
   "display_name": "Python 3",
   "language": "python",
   "name": "python3"
  },
  "language_info": {
   "codemirror_mode": {
    "name": "ipython",
    "version": 3
   },
   "file_extension": ".py",
   "mimetype": "text/x-python",
   "name": "python",
   "nbconvert_exporter": "python",
   "pygments_lexer": "ipython3",
   "version": "3.7.12"
  }
 },
 "nbformat": 4,
 "nbformat_minor": 5
}
