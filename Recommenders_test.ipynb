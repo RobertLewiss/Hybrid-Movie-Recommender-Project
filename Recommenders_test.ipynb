{
 "cells": [
  {
   "cell_type": "markdown",
   "id": "09c9ae5b",
   "metadata": {},
   "source": [
    "# Recommender Systems Walk Through"
   ]
  },
  {
   "cell_type": "markdown",
   "id": "be4c601b-8f0b-4df0-b7b8-c849b3ad92eb",
   "metadata": {},
   "source": [
    "Assumptions:\n",
    "\n",
    "- I assume we are not recommending any brand new shows (I.e shows with no ratings)\n",
    "    If this were the case we would just have to utilise CB models to deal with that.\n",
    "    i.e recommend shows based on meta data of movies\n",
    "    \n",
    "- No brand new users. If this were the case again we would have to use meta data of movies for recommendations. \n",
    "\n",
    "- We use th entire customers history of movie ratings for Collab filtering. As per say the past months/week. (Simply due to not having loads of data)\n",
    "\n",
    "Notes:\n",
    "\n",
    "- Very difficult to evaluate these models. The best method is A/B testing but not possible for this exercise, instead we use a naive hit rate metric. \n",
    "\n",
    "- Eng goal is to understand Hybrid models, and to see if they perform the best.\n",
    "\n",
    "- Each model must recommend given a users ID."
   ]
  },
  {
   "cell_type": "markdown",
   "id": "75a6db91-78ae-4060-8b3f-9a32a07507c9",
   "metadata": {},
   "source": [
    "To do:\n",
    "\n",
    "- Model based CF\n",
    "\n",
    "- Use Directors and cost andkey words too."
   ]
  },
  {
   "cell_type": "code",
   "execution_count": 1,
   "id": "3fbbc690",
   "metadata": {},
   "outputs": [
    {
     "name": "stderr",
     "output_type": "stream",
     "text": [
      "Using TensorFlow backend.\n"
     ]
    }
   ],
   "source": [
    "import pandas as pd\n",
    "import numpy as np \n",
    "import Utils as ut\n",
    "from sklearn.model_selection import train_test_split"
   ]
  },
  {
   "cell_type": "code",
   "execution_count": 2,
   "id": "85004448",
   "metadata": {},
   "outputs": [],
   "source": [
    "df = pd.read_csv('Clean_Item_Data')\n",
    "df.drop('Unnamed: 0',inplace = True,axis = 1)"
   ]
  },
  {
   "cell_type": "code",
   "execution_count": 3,
   "id": "c40dbfac",
   "metadata": {},
   "outputs": [],
   "source": [
    "rating = pd.read_csv('ratings.csv')"
   ]
  },
  {
   "cell_type": "code",
   "execution_count": 4,
   "id": "2662d44e-3243-4a7f-9f3d-396270007aae",
   "metadata": {},
   "outputs": [],
   "source": [
    "rating = rating[rating.userId.isin(ut.random_sample(rating.userId.unique(),9000))]"
   ]
  },
  {
   "cell_type": "code",
   "execution_count": 5,
   "id": "d31ff7ec-74fe-4123-850e-c7fade5ca8c9",
   "metadata": {},
   "outputs": [],
   "source": [
    "rating = rating[rating.userId.map(rating.userId.value_counts())>4]"
   ]
  },
  {
   "cell_type": "code",
   "execution_count": 6,
   "id": "9bb06cfc-5918-4a8e-aece-dbc35a6927d9",
   "metadata": {},
   "outputs": [],
   "source": [
    "rating, rating_test = train_test_split(rating,\n",
    "                                   stratify=rating['userId'], \n",
    "                                   test_size=0.20,\n",
    "                                   random_state=432)"
   ]
  },
  {
   "cell_type": "code",
   "execution_count": 7,
   "id": "73a70a02-390c-4ea7-a6b9-f88ddaf680a4",
   "metadata": {},
   "outputs": [],
   "source": [
    "movieId_set = set.intersection(set(rating_test.movieId), \n",
    "                               set(rating.movieId), \n",
    "                               set(df.movieId))\n",
    "\n",
    "rating_test = rating_test[rating_test.movieId.isin(movieId_set)]\n",
    "rating = rating[rating.movieId.isin(movieId_set)]\n",
    "df = df[df.movieId.isin(movieId_set)]"
   ]
  },
  {
   "cell_type": "code",
   "execution_count": 8,
   "id": "48079c6f-9a7c-463c-a37c-9c44a8b83f50",
   "metadata": {},
   "outputs": [
    {
     "data": {
      "text/plain": [
       "(132916, 4)"
      ]
     },
     "execution_count": 8,
     "metadata": {},
     "output_type": "execute_result"
    }
   ],
   "source": [
    "rating_test.shape"
   ]
  },
  {
   "cell_type": "code",
   "execution_count": 9,
   "id": "deda4b1b-0ac1-47f3-ba8f-40371342a878",
   "metadata": {},
   "outputs": [
    {
     "data": {
      "text/plain": [
       "(528253, 4)"
      ]
     },
     "execution_count": 9,
     "metadata": {},
     "output_type": "execute_result"
    }
   ],
   "source": [
    "rating.shape"
   ]
  },
  {
   "cell_type": "code",
   "execution_count": 10,
   "id": "87315c11-c464-4908-8a40-bde3d18d2f56",
   "metadata": {},
   "outputs": [
    {
     "data": {
      "text/plain": [
       "(5469, 17)"
      ]
     },
     "execution_count": 10,
     "metadata": {},
     "output_type": "execute_result"
    }
   ],
   "source": [
    "df.shape"
   ]
  },
  {
   "cell_type": "code",
   "execution_count": 11,
   "id": "84f98e03-33d2-499e-a920-05cd00acb24b",
   "metadata": {},
   "outputs": [],
   "source": [
    "df = df.reset_index(drop=True)\n",
    "rating = rating.reset_index(drop=True)"
   ]
  },
  {
   "cell_type": "code",
   "execution_count": 12,
   "id": "b49f7ba9",
   "metadata": {},
   "outputs": [
    {
     "data": {
      "text/html": [
       "<div>\n",
       "<style scoped>\n",
       "    .dataframe tbody tr th:only-of-type {\n",
       "        vertical-align: middle;\n",
       "    }\n",
       "\n",
       "    .dataframe tbody tr th {\n",
       "        vertical-align: top;\n",
       "    }\n",
       "\n",
       "    .dataframe thead th {\n",
       "        text-align: right;\n",
       "    }\n",
       "</style>\n",
       "<table border=\"1\" class=\"dataframe\">\n",
       "  <thead>\n",
       "    <tr style=\"text-align: right;\">\n",
       "      <th></th>\n",
       "      <th>title</th>\n",
       "      <th>overview</th>\n",
       "      <th>genres</th>\n",
       "      <th>vote_average</th>\n",
       "      <th>budget</th>\n",
       "      <th>runtime</th>\n",
       "      <th>adult</th>\n",
       "      <th>vote_count</th>\n",
       "      <th>movieId</th>\n",
       "      <th>imdbId</th>\n",
       "      <th>tmdbId</th>\n",
       "      <th>cast</th>\n",
       "      <th>keywords</th>\n",
       "      <th>cast_size</th>\n",
       "      <th>crew_size</th>\n",
       "      <th>director</th>\n",
       "      <th>score</th>\n",
       "    </tr>\n",
       "  </thead>\n",
       "  <tbody>\n",
       "    <tr>\n",
       "      <th>135</th>\n",
       "      <td>The Shawshank Redemption</td>\n",
       "      <td>Framed in the 1940s for the double murder of h...</td>\n",
       "      <td>18</td>\n",
       "      <td>8.5</td>\n",
       "      <td>25000000</td>\n",
       "      <td>142.0</td>\n",
       "      <td>0</td>\n",
       "      <td>8358.0</td>\n",
       "      <td>318</td>\n",
       "      <td>111161</td>\n",
       "      <td>278</td>\n",
       "      <td>['Tim Robbins', 'Morgan Freeman', 'Bob Gunton']</td>\n",
       "      <td>['prison', 'corrupt', 'police brut', 'prison c...</td>\n",
       "      <td>42</td>\n",
       "      <td>90</td>\n",
       "      <td>Frank Darabont</td>\n",
       "      <td>8.372739</td>\n",
       "    </tr>\n",
       "    <tr>\n",
       "      <th>304</th>\n",
       "      <td>The Godfather</td>\n",
       "      <td>Spanning the years 1945 to 1955, a chronicle o...</td>\n",
       "      <td>18</td>\n",
       "      <td>8.5</td>\n",
       "      <td>6000000</td>\n",
       "      <td>175.0</td>\n",
       "      <td>0</td>\n",
       "      <td>6024.0</td>\n",
       "      <td>858</td>\n",
       "      <td>68646</td>\n",
       "      <td>238</td>\n",
       "      <td>['Marlon Brando', 'Al Pacino', 'James Caan']</td>\n",
       "      <td>['itali', 'love at first sight', 'loss of fath...</td>\n",
       "      <td>58</td>\n",
       "      <td>42</td>\n",
       "      <td>Francis Ford Coppola</td>\n",
       "      <td>8.327148</td>\n",
       "    </tr>\n",
       "    <tr>\n",
       "      <th>216</th>\n",
       "      <td>Schindler's List</td>\n",
       "      <td>The true story of how businessman Oskar Schind...</td>\n",
       "      <td>18</td>\n",
       "      <td>8.3</td>\n",
       "      <td>22000000</td>\n",
       "      <td>195.0</td>\n",
       "      <td>0</td>\n",
       "      <td>4436.0</td>\n",
       "      <td>527</td>\n",
       "      <td>108052</td>\n",
       "      <td>424</td>\n",
       "      <td>['Liam Neeson', 'Ben Kingsley', 'Ralph Fiennes']</td>\n",
       "      <td>['factori', 'concentration camp', 'hero', 'hol...</td>\n",
       "      <td>30</td>\n",
       "      <td>36</td>\n",
       "      <td>Steven Spielberg</td>\n",
       "      <td>8.091368</td>\n",
       "    </tr>\n",
       "    <tr>\n",
       "      <th>2219</th>\n",
       "      <td>Spirited Away</td>\n",
       "      <td>A ten year old girl who wanders away from her ...</td>\n",
       "      <td>14</td>\n",
       "      <td>8.3</td>\n",
       "      <td>15000000</td>\n",
       "      <td>125.0</td>\n",
       "      <td>0</td>\n",
       "      <td>3968.0</td>\n",
       "      <td>5618</td>\n",
       "      <td>245429</td>\n",
       "      <td>129</td>\n",
       "      <td>['Rumi Hiiragi', 'Miyu Irino', 'Mari Natsuki']</td>\n",
       "      <td>['witch', 'parent child relationship', 'magic'...</td>\n",
       "      <td>15</td>\n",
       "      <td>25</td>\n",
       "      <td>Hayao Miyazaki</td>\n",
       "      <td>8.069471</td>\n",
       "    </tr>\n",
       "    <tr>\n",
       "      <th>979</th>\n",
       "      <td>Life Is Beautiful</td>\n",
       "      <td>A touching story of an Italian book seller of ...</td>\n",
       "      <td>35</td>\n",
       "      <td>8.3</td>\n",
       "      <td>20000000</td>\n",
       "      <td>116.0</td>\n",
       "      <td>0</td>\n",
       "      <td>3643.0</td>\n",
       "      <td>2324</td>\n",
       "      <td>118799</td>\n",
       "      <td>637</td>\n",
       "      <td>['Nicoletta Braschi', 'Roberto Benigni', 'Gior...</td>\n",
       "      <td>['itali', 'riddl', 'bookshop', 'self sacrific'...</td>\n",
       "      <td>23</td>\n",
       "      <td>25</td>\n",
       "      <td>Roberto Benigni</td>\n",
       "      <td>8.051348</td>\n",
       "    </tr>\n",
       "  </tbody>\n",
       "</table>\n",
       "</div>"
      ],
      "text/plain": [
       "                         title  \\\n",
       "135   The Shawshank Redemption   \n",
       "304              The Godfather   \n",
       "216           Schindler's List   \n",
       "2219             Spirited Away   \n",
       "979          Life Is Beautiful   \n",
       "\n",
       "                                               overview  genres  vote_average  \\\n",
       "135   Framed in the 1940s for the double murder of h...      18           8.5   \n",
       "304   Spanning the years 1945 to 1955, a chronicle o...      18           8.5   \n",
       "216   The true story of how businessman Oskar Schind...      18           8.3   \n",
       "2219  A ten year old girl who wanders away from her ...      14           8.3   \n",
       "979   A touching story of an Italian book seller of ...      35           8.3   \n",
       "\n",
       "        budget  runtime  adult  vote_count  movieId  imdbId  tmdbId  \\\n",
       "135   25000000    142.0      0      8358.0      318  111161     278   \n",
       "304    6000000    175.0      0      6024.0      858   68646     238   \n",
       "216   22000000    195.0      0      4436.0      527  108052     424   \n",
       "2219  15000000    125.0      0      3968.0     5618  245429     129   \n",
       "979   20000000    116.0      0      3643.0     2324  118799     637   \n",
       "\n",
       "                                                   cast  \\\n",
       "135     ['Tim Robbins', 'Morgan Freeman', 'Bob Gunton']   \n",
       "304        ['Marlon Brando', 'Al Pacino', 'James Caan']   \n",
       "216    ['Liam Neeson', 'Ben Kingsley', 'Ralph Fiennes']   \n",
       "2219     ['Rumi Hiiragi', 'Miyu Irino', 'Mari Natsuki']   \n",
       "979   ['Nicoletta Braschi', 'Roberto Benigni', 'Gior...   \n",
       "\n",
       "                                               keywords  cast_size  crew_size  \\\n",
       "135   ['prison', 'corrupt', 'police brut', 'prison c...         42         90   \n",
       "304   ['itali', 'love at first sight', 'loss of fath...         58         42   \n",
       "216   ['factori', 'concentration camp', 'hero', 'hol...         30         36   \n",
       "2219  ['witch', 'parent child relationship', 'magic'...         15         25   \n",
       "979   ['itali', 'riddl', 'bookshop', 'self sacrific'...         23         25   \n",
       "\n",
       "                  director     score  \n",
       "135         Frank Darabont  8.372739  \n",
       "304   Francis Ford Coppola  8.327148  \n",
       "216       Steven Spielberg  8.091368  \n",
       "2219        Hayao Miyazaki  8.069471  \n",
       "979        Roberto Benigni  8.051348  "
      ]
     },
     "execution_count": 12,
     "metadata": {},
     "output_type": "execute_result"
    }
   ],
   "source": [
    "# Very naive approach (also to do this properly I need to take into account of number of votes not just avg vote.)\n",
    "user = rating.userId.sample(1).iloc[0]\n",
    "ut.simple(user,df,rating,5)"
   ]
  },
  {
   "cell_type": "code",
   "execution_count": 13,
   "id": "47e0eec6-5a05-41cd-9b6c-14c5cc8a0928",
   "metadata": {},
   "outputs": [
    {
     "data": {
      "text/plain": [
       "0.31"
      ]
     },
     "execution_count": 13,
     "metadata": {},
     "output_type": "execute_result"
    }
   ],
   "source": [
    "ut.evaluate(rating_test, 5, 'simple', df, sample_size = 200,  rating = rating)"
   ]
  },
  {
   "cell_type": "markdown",
   "id": "1a297ccd",
   "metadata": {},
   "source": [
    "## Content Based Filtering "
   ]
  },
  {
   "cell_type": "code",
   "execution_count": 14,
   "id": "ccb5d271-cb45-4722-ad1b-8b2f600229e4",
   "metadata": {},
   "outputs": [],
   "source": [
    "df['overview_toke'] = df['overview'].apply(ut.clean_text, toke = True)"
   ]
  },
  {
   "cell_type": "code",
   "execution_count": 15,
   "id": "a5455f28-7694-413c-81f7-40aeefdd6979",
   "metadata": {},
   "outputs": [],
   "source": [
    "df['overview_clean'] = df['overview'].apply(ut.clean_text)"
   ]
  },
  {
   "cell_type": "code",
   "execution_count": 16,
   "id": "50b32634-485f-4ff1-92ef-1490c5ffe48f",
   "metadata": {},
   "outputs": [
    {
     "data": {
      "text/html": [
       "<div>\n",
       "<style scoped>\n",
       "    .dataframe tbody tr th:only-of-type {\n",
       "        vertical-align: middle;\n",
       "    }\n",
       "\n",
       "    .dataframe tbody tr th {\n",
       "        vertical-align: top;\n",
       "    }\n",
       "\n",
       "    .dataframe thead th {\n",
       "        text-align: right;\n",
       "    }\n",
       "</style>\n",
       "<table border=\"1\" class=\"dataframe\">\n",
       "  <thead>\n",
       "    <tr style=\"text-align: right;\">\n",
       "      <th></th>\n",
       "      <th>title</th>\n",
       "      <th>overview</th>\n",
       "      <th>genres</th>\n",
       "      <th>vote_average</th>\n",
       "      <th>budget</th>\n",
       "      <th>runtime</th>\n",
       "      <th>adult</th>\n",
       "      <th>vote_count</th>\n",
       "      <th>movieId</th>\n",
       "      <th>imdbId</th>\n",
       "      <th>tmdbId</th>\n",
       "      <th>cast</th>\n",
       "      <th>keywords</th>\n",
       "      <th>cast_size</th>\n",
       "      <th>crew_size</th>\n",
       "      <th>director</th>\n",
       "      <th>score</th>\n",
       "      <th>overview_toke</th>\n",
       "      <th>overview_clean</th>\n",
       "    </tr>\n",
       "  </thead>\n",
       "  <tbody>\n",
       "    <tr>\n",
       "      <th>0</th>\n",
       "      <td>Toy Story</td>\n",
       "      <td>Led by Woody, Andy's toys live happily in his ...</td>\n",
       "      <td>16</td>\n",
       "      <td>7.7</td>\n",
       "      <td>30000000</td>\n",
       "      <td>81.0</td>\n",
       "      <td>0</td>\n",
       "      <td>5415.0</td>\n",
       "      <td>1</td>\n",
       "      <td>114709</td>\n",
       "      <td>862</td>\n",
       "      <td>['Tom Hanks', 'Tim Allen', 'Don Rickles']</td>\n",
       "      <td>['jealousi', 'toy', 'boy', 'friendship', 'frie...</td>\n",
       "      <td>13</td>\n",
       "      <td>106</td>\n",
       "      <td>John Lasseter</td>\n",
       "      <td>7.575833</td>\n",
       "      <td>[led, woodi, andi, toy, live, happili, hi, roo...</td>\n",
       "      <td>led woodi andi toy live happili hi room andi b...</td>\n",
       "    </tr>\n",
       "    <tr>\n",
       "      <th>1</th>\n",
       "      <td>Jumanji</td>\n",
       "      <td>When siblings Judy and Peter discover an encha...</td>\n",
       "      <td>12</td>\n",
       "      <td>6.9</td>\n",
       "      <td>65000000</td>\n",
       "      <td>104.0</td>\n",
       "      <td>0</td>\n",
       "      <td>2413.0</td>\n",
       "      <td>2</td>\n",
       "      <td>113497</td>\n",
       "      <td>8844</td>\n",
       "      <td>['Robin Williams', 'Jonathan Hyde', 'Kirsten D...</td>\n",
       "      <td>['board gam', 'disappear', \"based on children'...</td>\n",
       "      <td>26</td>\n",
       "      <td>16</td>\n",
       "      <td>Joe Johnston</td>\n",
       "      <td>6.782738</td>\n",
       "      <td>[sibl, judi, peter, discov, enchant, board, ga...</td>\n",
       "      <td>sibl judi peter discov enchant board game open...</td>\n",
       "    </tr>\n",
       "    <tr>\n",
       "      <th>2</th>\n",
       "      <td>Grumpier Old Men</td>\n",
       "      <td>A family wedding reignites the ancient feud be...</td>\n",
       "      <td>10749</td>\n",
       "      <td>6.5</td>\n",
       "      <td>0</td>\n",
       "      <td>101.0</td>\n",
       "      <td>0</td>\n",
       "      <td>92.0</td>\n",
       "      <td>3</td>\n",
       "      <td>113228</td>\n",
       "      <td>15602</td>\n",
       "      <td>['Walter Matthau', 'Jack Lemmon', 'Ann-Margret']</td>\n",
       "      <td>['fish', 'best friend', 'duringcreditssting', ...</td>\n",
       "      <td>7</td>\n",
       "      <td>4</td>\n",
       "      <td>Howard Deutch</td>\n",
       "      <td>6.252781</td>\n",
       "      <td>[famili, wed, reignit, ancient, feud, next-doo...</td>\n",
       "      <td>famili wed reignit ancient feud next-door neig...</td>\n",
       "    </tr>\n",
       "  </tbody>\n",
       "</table>\n",
       "</div>"
      ],
      "text/plain": [
       "              title                                           overview  \\\n",
       "0         Toy Story  Led by Woody, Andy's toys live happily in his ...   \n",
       "1           Jumanji  When siblings Judy and Peter discover an encha...   \n",
       "2  Grumpier Old Men  A family wedding reignites the ancient feud be...   \n",
       "\n",
       "   genres  vote_average    budget  runtime  adult  vote_count  movieId  \\\n",
       "0      16           7.7  30000000     81.0      0      5415.0        1   \n",
       "1      12           6.9  65000000    104.0      0      2413.0        2   \n",
       "2   10749           6.5         0    101.0      0        92.0        3   \n",
       "\n",
       "   imdbId  tmdbId                                               cast  \\\n",
       "0  114709     862          ['Tom Hanks', 'Tim Allen', 'Don Rickles']   \n",
       "1  113497    8844  ['Robin Williams', 'Jonathan Hyde', 'Kirsten D...   \n",
       "2  113228   15602   ['Walter Matthau', 'Jack Lemmon', 'Ann-Margret']   \n",
       "\n",
       "                                            keywords  cast_size  crew_size  \\\n",
       "0  ['jealousi', 'toy', 'boy', 'friendship', 'frie...         13        106   \n",
       "1  ['board gam', 'disappear', \"based on children'...         26         16   \n",
       "2  ['fish', 'best friend', 'duringcreditssting', ...          7          4   \n",
       "\n",
       "        director     score                                      overview_toke  \\\n",
       "0  John Lasseter  7.575833  [led, woodi, andi, toy, live, happili, hi, roo...   \n",
       "1   Joe Johnston  6.782738  [sibl, judi, peter, discov, enchant, board, ga...   \n",
       "2  Howard Deutch  6.252781  [famili, wed, reignit, ancient, feud, next-doo...   \n",
       "\n",
       "                                      overview_clean  \n",
       "0  led woodi andi toy live happili hi room andi b...  \n",
       "1  sibl judi peter discov enchant board game open...  \n",
       "2  famili wed reignit ancient feud next-door neig...  "
      ]
     },
     "execution_count": 16,
     "metadata": {},
     "output_type": "execute_result"
    }
   ],
   "source": [
    "df.head(3)"
   ]
  },
  {
   "cell_type": "markdown",
   "id": "bcca9f42-bceb-4ea4-b665-8a235263625c",
   "metadata": {},
   "source": [
    "## TF-IDF"
   ]
  },
  {
   "cell_type": "code",
   "execution_count": 72,
   "id": "b77b6272-9ca9-4ad8-b2dc-d6c007eb8365",
   "metadata": {},
   "outputs": [],
   "source": [
    "tfidf_cosine_sim = ut.TF_IDF(df['overview_clean'], ngram = 5)"
   ]
  },
  {
   "cell_type": "code",
   "execution_count": 85,
   "id": "2fd22499-9473-40c3-af13-b1b9f20f7499",
   "metadata": {},
   "outputs": [
    {
     "data": {
      "text/html": [
       "<div>\n",
       "<style scoped>\n",
       "    .dataframe tbody tr th:only-of-type {\n",
       "        vertical-align: middle;\n",
       "    }\n",
       "\n",
       "    .dataframe tbody tr th {\n",
       "        vertical-align: top;\n",
       "    }\n",
       "\n",
       "    .dataframe thead th {\n",
       "        text-align: right;\n",
       "    }\n",
       "</style>\n",
       "<table border=\"1\" class=\"dataframe\">\n",
       "  <thead>\n",
       "    <tr style=\"text-align: right;\">\n",
       "      <th></th>\n",
       "      <th>title</th>\n",
       "      <th>overview</th>\n",
       "      <th>genres</th>\n",
       "      <th>vote_average</th>\n",
       "      <th>budget</th>\n",
       "      <th>runtime</th>\n",
       "      <th>adult</th>\n",
       "      <th>vote_count</th>\n",
       "      <th>movieId</th>\n",
       "      <th>imdbId</th>\n",
       "      <th>tmdbId</th>\n",
       "      <th>cast</th>\n",
       "      <th>keywords</th>\n",
       "      <th>cast_size</th>\n",
       "      <th>crew_size</th>\n",
       "      <th>director</th>\n",
       "      <th>score</th>\n",
       "      <th>overview_toke</th>\n",
       "      <th>overview_clean</th>\n",
       "      <th>index1</th>\n",
       "    </tr>\n",
       "  </thead>\n",
       "  <tbody>\n",
       "    <tr>\n",
       "      <th>2141</th>\n",
       "      <td>Spider-Man</td>\n",
       "      <td>After being bitten by a genetically altered sp...</td>\n",
       "      <td>14</td>\n",
       "      <td>6.8</td>\n",
       "      <td>139000000</td>\n",
       "      <td>121.0</td>\n",
       "      <td>0</td>\n",
       "      <td>5398.0</td>\n",
       "      <td>5349</td>\n",
       "      <td>145487</td>\n",
       "      <td>557</td>\n",
       "      <td>['Tobey Maguire', 'Willem Dafoe', 'Kirsten Dun...</td>\n",
       "      <td>['loss of lov', 'spider', 'thanksgiv', 'bad bo...</td>\n",
       "      <td>71</td>\n",
       "      <td>126</td>\n",
       "      <td>Sam Raimi</td>\n",
       "      <td>6.750513</td>\n",
       "      <td>[bitten, genet, alter, spider, nerdi, high, sc...</td>\n",
       "      <td>bitten genet alter spider nerdi high school st...</td>\n",
       "      <td>2141</td>\n",
       "    </tr>\n",
       "    <tr>\n",
       "      <th>2370</th>\n",
       "      <td>Spider</td>\n",
       "      <td>A mentally disturbed man takes residence in a ...</td>\n",
       "      <td>18</td>\n",
       "      <td>6.4</td>\n",
       "      <td>0</td>\n",
       "      <td>98.0</td>\n",
       "      <td>0</td>\n",
       "      <td>176.0</td>\n",
       "      <td>6197</td>\n",
       "      <td>278731</td>\n",
       "      <td>9613</td>\n",
       "      <td>['Ralph Fiennes', 'Miranda Richardson', 'Gabri...</td>\n",
       "      <td>['secret', 'asylum', 'bed and breakfast plac',...</td>\n",
       "      <td>19</td>\n",
       "      <td>41</td>\n",
       "      <td>David Cronenberg</td>\n",
       "      <td>6.257529</td>\n",
       "      <td>[mental, disturb, man, take, resid, halfway, h...</td>\n",
       "      <td>mental disturb man take resid halfway hous hi ...</td>\n",
       "      <td>2370</td>\n",
       "    </tr>\n",
       "    <tr>\n",
       "      <th>2443</th>\n",
       "      <td>Ziggy  Stardust and the Spiders from Mars</td>\n",
       "      <td>Documentary from David Bowie's concert at the ...</td>\n",
       "      <td>99</td>\n",
       "      <td>7.6</td>\n",
       "      <td>0</td>\n",
       "      <td>90.0</td>\n",
       "      <td>0</td>\n",
       "      <td>15.0</td>\n",
       "      <td>6430</td>\n",
       "      <td>86643</td>\n",
       "      <td>34759</td>\n",
       "      <td>['David Bowie', 'Mick Ronson', 'Trevor Bolder']</td>\n",
       "      <td>[]</td>\n",
       "      <td>5</td>\n",
       "      <td>1</td>\n",
       "      <td>D.A. Pennebaker</td>\n",
       "      <td>6.247770</td>\n",
       "      <td>[documentari, david, bowi, concert, hammersmit...</td>\n",
       "      <td>documentari david bowi concert hammersmith ode...</td>\n",
       "      <td>2443</td>\n",
       "    </tr>\n",
       "    <tr>\n",
       "      <th>2550</th>\n",
       "      <td>Kiss of the Spider Woman</td>\n",
       "      <td>Luis Molina and Valentin Arregui are cell mate...</td>\n",
       "      <td>18</td>\n",
       "      <td>6.8</td>\n",
       "      <td>0</td>\n",
       "      <td>120.0</td>\n",
       "      <td>0</td>\n",
       "      <td>53.0</td>\n",
       "      <td>6786</td>\n",
       "      <td>89424</td>\n",
       "      <td>11703</td>\n",
       "      <td>['William Hurt', 'Raúl Juliá', 'Sônia Braga']</td>\n",
       "      <td>['gay', 'male nud', 'prison', 'based on novel'...</td>\n",
       "      <td>5</td>\n",
       "      <td>9</td>\n",
       "      <td>Hector Babenco</td>\n",
       "      <td>6.264286</td>\n",
       "      <td>[lui, molina, valentin, arregui, cell, mate, s...</td>\n",
       "      <td>lui molina valentin arregui cell mate south am...</td>\n",
       "      <td>2550</td>\n",
       "    </tr>\n",
       "    <tr>\n",
       "      <th>3020</th>\n",
       "      <td>Spider-Man 2</td>\n",
       "      <td>Peter Parker is going through a major identity...</td>\n",
       "      <td>28</td>\n",
       "      <td>6.7</td>\n",
       "      <td>200000000</td>\n",
       "      <td>127.0</td>\n",
       "      <td>0</td>\n",
       "      <td>4432.0</td>\n",
       "      <td>8636</td>\n",
       "      <td>316654</td>\n",
       "      <td>558</td>\n",
       "      <td>['Tobey Maguire', 'Kirsten Dunst', 'James Fran...</td>\n",
       "      <td>['dual ident', \"love of one's lif\", 'pizza boy...</td>\n",
       "      <td>76</td>\n",
       "      <td>128</td>\n",
       "      <td>Sam Raimi</td>\n",
       "      <td>6.650776</td>\n",
       "      <td>[peter, parker, go, major, ident, crisi, burn,...</td>\n",
       "      <td>peter parker go major ident crisi burn spider-...</td>\n",
       "      <td>3020</td>\n",
       "    </tr>\n",
       "    <tr>\n",
       "      <th>4001</th>\n",
       "      <td>The Spiderwick Chronicles</td>\n",
       "      <td>Upon moving into the run-down Spiderwick Estat...</td>\n",
       "      <td>12</td>\n",
       "      <td>6.3</td>\n",
       "      <td>90000000</td>\n",
       "      <td>95.0</td>\n",
       "      <td>0</td>\n",
       "      <td>593.0</td>\n",
       "      <td>58105</td>\n",
       "      <td>416236</td>\n",
       "      <td>8204</td>\n",
       "      <td>['Freddie Highmore', 'Mary-Louise Parker', 'Ni...</td>\n",
       "      <td>['brother sister relationship', 'family relati...</td>\n",
       "      <td>9</td>\n",
       "      <td>99</td>\n",
       "      <td>Mark Waters</td>\n",
       "      <td>6.257631</td>\n",
       "      <td>[upon, move, run-down, spiderwick, estat, moth...</td>\n",
       "      <td>upon move run-down spiderwick estat mother twi...</td>\n",
       "      <td>4001</td>\n",
       "    </tr>\n",
       "    <tr>\n",
       "      <th>4717</th>\n",
       "      <td>The Amazing Spider-Man</td>\n",
       "      <td>Peter Parker is an outcast high schooler aband...</td>\n",
       "      <td>28</td>\n",
       "      <td>6.5</td>\n",
       "      <td>215000000</td>\n",
       "      <td>136.0</td>\n",
       "      <td>0</td>\n",
       "      <td>6734.0</td>\n",
       "      <td>95510</td>\n",
       "      <td>948470</td>\n",
       "      <td>1930</td>\n",
       "      <td>['Andrew Garfield', 'Emma Stone', 'Rhys Ifans']</td>\n",
       "      <td>['loss of fath', 'vigilant', 'serum', 'marvel ...</td>\n",
       "      <td>57</td>\n",
       "      <td>106</td>\n",
       "      <td>Marc Webb</td>\n",
       "      <td>6.480051</td>\n",
       "      <td>[peter, parker, outcast, high, schooler, aband...</td>\n",
       "      <td>peter parker outcast high schooler abandon hi ...</td>\n",
       "      <td>4717</td>\n",
       "    </tr>\n",
       "    <tr>\n",
       "      <th>5000</th>\n",
       "      <td>The Amazing Spider-Man 2</td>\n",
       "      <td>For Peter Parker, life is busy. Between taking...</td>\n",
       "      <td>28</td>\n",
       "      <td>6.5</td>\n",
       "      <td>200000000</td>\n",
       "      <td>142.0</td>\n",
       "      <td>0</td>\n",
       "      <td>4274.0</td>\n",
       "      <td>110553</td>\n",
       "      <td>1872181</td>\n",
       "      <td>102382</td>\n",
       "      <td>['Andrew Garfield', 'Emma Stone', 'Jamie Foxx']</td>\n",
       "      <td>['obsess', 'marvel com', 'sequel', 'based on c...</td>\n",
       "      <td>65</td>\n",
       "      <td>102</td>\n",
       "      <td>Marc Webb</td>\n",
       "      <td>6.469753</td>\n",
       "      <td>[peter, parker, life, busi, take, bad, guy, sp...</td>\n",
       "      <td>peter parker life busi take bad guy spider-man...</td>\n",
       "      <td>5000</td>\n",
       "    </tr>\n",
       "  </tbody>\n",
       "</table>\n",
       "</div>"
      ],
      "text/plain": [
       "                                          title  \\\n",
       "2141                                 Spider-Man   \n",
       "2370                                     Spider   \n",
       "2443  Ziggy  Stardust and the Spiders from Mars   \n",
       "2550                   Kiss of the Spider Woman   \n",
       "3020                               Spider-Man 2   \n",
       "4001                  The Spiderwick Chronicles   \n",
       "4717                     The Amazing Spider-Man   \n",
       "5000                   The Amazing Spider-Man 2   \n",
       "\n",
       "                                               overview  genres  vote_average  \\\n",
       "2141  After being bitten by a genetically altered sp...      14           6.8   \n",
       "2370  A mentally disturbed man takes residence in a ...      18           6.4   \n",
       "2443  Documentary from David Bowie's concert at the ...      99           7.6   \n",
       "2550  Luis Molina and Valentin Arregui are cell mate...      18           6.8   \n",
       "3020  Peter Parker is going through a major identity...      28           6.7   \n",
       "4001  Upon moving into the run-down Spiderwick Estat...      12           6.3   \n",
       "4717  Peter Parker is an outcast high schooler aband...      28           6.5   \n",
       "5000  For Peter Parker, life is busy. Between taking...      28           6.5   \n",
       "\n",
       "         budget  runtime  adult  vote_count  movieId   imdbId  tmdbId  \\\n",
       "2141  139000000    121.0      0      5398.0     5349   145487     557   \n",
       "2370          0     98.0      0       176.0     6197   278731    9613   \n",
       "2443          0     90.0      0        15.0     6430    86643   34759   \n",
       "2550          0    120.0      0        53.0     6786    89424   11703   \n",
       "3020  200000000    127.0      0      4432.0     8636   316654     558   \n",
       "4001   90000000     95.0      0       593.0    58105   416236    8204   \n",
       "4717  215000000    136.0      0      6734.0    95510   948470    1930   \n",
       "5000  200000000    142.0      0      4274.0   110553  1872181  102382   \n",
       "\n",
       "                                                   cast  \\\n",
       "2141  ['Tobey Maguire', 'Willem Dafoe', 'Kirsten Dun...   \n",
       "2370  ['Ralph Fiennes', 'Miranda Richardson', 'Gabri...   \n",
       "2443    ['David Bowie', 'Mick Ronson', 'Trevor Bolder']   \n",
       "2550      ['William Hurt', 'Raúl Juliá', 'Sônia Braga']   \n",
       "3020  ['Tobey Maguire', 'Kirsten Dunst', 'James Fran...   \n",
       "4001  ['Freddie Highmore', 'Mary-Louise Parker', 'Ni...   \n",
       "4717    ['Andrew Garfield', 'Emma Stone', 'Rhys Ifans']   \n",
       "5000    ['Andrew Garfield', 'Emma Stone', 'Jamie Foxx']   \n",
       "\n",
       "                                               keywords  cast_size  crew_size  \\\n",
       "2141  ['loss of lov', 'spider', 'thanksgiv', 'bad bo...         71        126   \n",
       "2370  ['secret', 'asylum', 'bed and breakfast plac',...         19         41   \n",
       "2443                                                 []          5          1   \n",
       "2550  ['gay', 'male nud', 'prison', 'based on novel'...          5          9   \n",
       "3020  ['dual ident', \"love of one's lif\", 'pizza boy...         76        128   \n",
       "4001  ['brother sister relationship', 'family relati...          9         99   \n",
       "4717  ['loss of fath', 'vigilant', 'serum', 'marvel ...         57        106   \n",
       "5000  ['obsess', 'marvel com', 'sequel', 'based on c...         65        102   \n",
       "\n",
       "              director     score  \\\n",
       "2141         Sam Raimi  6.750513   \n",
       "2370  David Cronenberg  6.257529   \n",
       "2443   D.A. Pennebaker  6.247770   \n",
       "2550    Hector Babenco  6.264286   \n",
       "3020         Sam Raimi  6.650776   \n",
       "4001       Mark Waters  6.257631   \n",
       "4717         Marc Webb  6.480051   \n",
       "5000         Marc Webb  6.469753   \n",
       "\n",
       "                                          overview_toke  \\\n",
       "2141  [bitten, genet, alter, spider, nerdi, high, sc...   \n",
       "2370  [mental, disturb, man, take, resid, halfway, h...   \n",
       "2443  [documentari, david, bowi, concert, hammersmit...   \n",
       "2550  [lui, molina, valentin, arregui, cell, mate, s...   \n",
       "3020  [peter, parker, go, major, ident, crisi, burn,...   \n",
       "4001  [upon, move, run-down, spiderwick, estat, moth...   \n",
       "4717  [peter, parker, outcast, high, schooler, aband...   \n",
       "5000  [peter, parker, life, busi, take, bad, guy, sp...   \n",
       "\n",
       "                                         overview_clean  index1  \n",
       "2141  bitten genet alter spider nerdi high school st...    2141  \n",
       "2370  mental disturb man take resid halfway hous hi ...    2370  \n",
       "2443  documentari david bowi concert hammersmith ode...    2443  \n",
       "2550  lui molina valentin arregui cell mate south am...    2550  \n",
       "3020  peter parker go major ident crisi burn spider-...    3020  \n",
       "4001  upon move run-down spiderwick estat mother twi...    4001  \n",
       "4717  peter parker outcast high schooler abandon hi ...    4717  \n",
       "5000  peter parker life busi take bad guy spider-man...    5000  "
      ]
     },
     "execution_count": 85,
     "metadata": {},
     "output_type": "execute_result"
    }
   ],
   "source": [
    "df[df.title.str.contains(\"spider\", case = False)]"
   ]
  },
  {
   "cell_type": "code",
   "execution_count": 86,
   "id": "9dfac71d-6999-4ab8-a177-09beff86c885",
   "metadata": {},
   "outputs": [
    {
     "data": {
      "text/plain": [
       "4667              21 Jump Street\n",
       "817           The Breakfast Club\n",
       "5000    The Amazing Spider-Man 2\n",
       "2837       Bang Bang You're Dead\n",
       "Name: title, dtype: object"
      ]
     },
     "execution_count": 86,
     "metadata": {},
     "output_type": "execute_result"
    }
   ],
   "source": [
    "ut.top_rec(\"Spider-Man\",\n",
    "           tfidf_cosine_sim, \n",
    "           pd.Series(df.index, index=df['title']), \n",
    "           df, 5)"
   ]
  },
  {
   "cell_type": "code",
   "execution_count": 18,
   "id": "43639b8c-436a-4589-806d-fb8579c8e8e2",
   "metadata": {},
   "outputs": [
    {
     "data": {
      "text/plain": [
       "4388         The Dark Knight Rises\n",
       "242                         Batman\n",
       "611                 Batman Returns\n",
       "4186    Batman: Under the Red Hood\n",
       "Name: title, dtype: object"
      ]
     },
     "execution_count": 18,
     "metadata": {},
     "output_type": "execute_result"
    }
   ],
   "source": [
    "ut.top_rec(\"The Dark Knight\",\n",
    "           tfidf_cosine_sim, \n",
    "           pd.Series(df.index, index=df['title']), \n",
    "           df, 5)"
   ]
  },
  {
   "cell_type": "code",
   "execution_count": 19,
   "id": "7c25d406-c2e9-4479-a3ac-5b0604347522",
   "metadata": {},
   "outputs": [
    {
     "data": {
      "text/plain": [
       "0.015"
      ]
     },
     "execution_count": 19,
     "metadata": {},
     "output_type": "execute_result"
    }
   ],
   "source": [
    "ut.evaluate(rating_test, 5, 'CB', df, sample_size = 200, sim = tfidf_cosine_sim)"
   ]
  },
  {
   "cell_type": "markdown",
   "id": "15392f11-32b0-491e-8f61-cad496d1d5ec",
   "metadata": {},
   "source": [
    "## Word2Vec"
   ]
  },
  {
   "cell_type": "code",
   "execution_count": 20,
   "id": "40704731-3cc3-4132-8577-32f3f9d4ef69",
   "metadata": {},
   "outputs": [
    {
     "name": "stderr",
     "output_type": "stream",
     "text": [
      "100%|██████████| 18444/18444 [00:11<00:00, 1615.10it/s] \n"
     ]
    }
   ],
   "source": [
    "word2vec_cosine_sim = ut.Word2Vec_Hybrid(\n",
    "                                      df['overview_toke'], \n",
    "                                      vector_size = 300,\n",
    "                                      window = 7, \n",
    "                                      epochs = 100)"
   ]
  },
  {
   "cell_type": "code",
   "execution_count": 21,
   "id": "29035c04-48ee-46bd-b9c7-38e15b75e50d",
   "metadata": {},
   "outputs": [
    {
     "data": {
      "text/plain": [
       "4388         The Dark Knight Rises\n",
       "242                         Batman\n",
       "611                 Batman Returns\n",
       "4186    Batman: Under the Red Hood\n",
       "Name: title, dtype: object"
      ]
     },
     "execution_count": 21,
     "metadata": {},
     "output_type": "execute_result"
    }
   ],
   "source": [
    "ut.top_rec(\"The Dark Knight\",\n",
    "           word2vec_cosine_sim, \n",
    "           pd.Series(df.index, index=df['title']), \n",
    "           df,5)"
   ]
  },
  {
   "cell_type": "code",
   "execution_count": 22,
   "id": "669d3085-6904-4c63-a875-e4e345511a56",
   "metadata": {},
   "outputs": [
    {
     "data": {
      "text/plain": [
       "(5158, 5158)"
      ]
     },
     "execution_count": 22,
     "metadata": {},
     "output_type": "execute_result"
    }
   ],
   "source": [
    "word2vec_cosine_sim.shape"
   ]
  },
  {
   "cell_type": "code",
   "execution_count": 23,
   "id": "1d2ce6c3-f0c9-4c23-b289-c902696fe84f",
   "metadata": {},
   "outputs": [
    {
     "data": {
      "text/plain": [
       "0.01"
      ]
     },
     "execution_count": 23,
     "metadata": {},
     "output_type": "execute_result"
    }
   ],
   "source": [
    "ut.evaluate(rating_test, 5, 'CB', df, sample_size = 200, sim = word2vec_cosine_sim)"
   ]
  },
  {
   "cell_type": "markdown",
   "id": "bfcf4247-1bb5-4be2-8fbb-1cc992b54d0c",
   "metadata": {},
   "source": [
    "### Word embedding"
   ]
  },
  {
   "cell_type": "code",
   "execution_count": 24,
   "id": "bbf62554-a5b0-46d0-a535-0e40f31edfbe",
   "metadata": {},
   "outputs": [
    {
     "name": "stderr",
     "output_type": "stream",
     "text": [
      "/opt/conda/lib/python3.7/site-packages/numpy/core/fromnumeric.py:86: VisibleDeprecationWarning: Creating an ndarray from ragged nested sequences (which is a list-or-tuple of lists-or-tuples-or ndarrays with different lengths or shapes) is deprecated. If you meant to do this, you must specify 'dtype=object' when creating the ndarray.\n",
      "  return ufunc.reduce(obj, axis, dtype, out, **passkwargs)\n"
     ]
    }
   ],
   "source": [
    "doc2vec_cosine_sim = ut.Doc2Word_embed(df['overview_clean'], \n",
    "                                    df['overview_toke'], \n",
    "                                    vector_size = 300,\n",
    "                                    window = 15,\n",
    "                                    epochs = 100)"
   ]
  },
  {
   "cell_type": "code",
   "execution_count": 25,
   "id": "87f3d0e4-33ab-4146-8e70-de77531ecd0a",
   "metadata": {},
   "outputs": [
    {
     "data": {
      "text/plain": [
       "4388                     The Dark Knight Rises\n",
       "242                                     Batman\n",
       "4369                          Batman: Year One\n",
       "2406    Remo Williams: The Adventure Begins...\n",
       "Name: title, dtype: object"
      ]
     },
     "execution_count": 25,
     "metadata": {},
     "output_type": "execute_result"
    }
   ],
   "source": [
    "ut.top_rec(\"The Dark Knight\",\n",
    "           doc2vec_cosine_sim, \n",
    "           pd.Series(df.index, index=df['title']), \n",
    "           df,5)"
   ]
  },
  {
   "cell_type": "code",
   "execution_count": 26,
   "id": "82d50db1-b938-4b36-be28-00b774cb0c0a",
   "metadata": {},
   "outputs": [
    {
     "data": {
      "text/plain": [
       "0.03"
      ]
     },
     "execution_count": 26,
     "metadata": {},
     "output_type": "execute_result"
    }
   ],
   "source": [
    "ut.evaluate(rating_test, 5, 'CB', df, sample_size = 200, sim = doc2vec_cosine_sim)"
   ]
  },
  {
   "cell_type": "markdown",
   "id": "af62979b-c0d7-48ee-bbdb-cd71129932f1",
   "metadata": {},
   "source": [
    "## Hybrid Content based model\n",
    "\n",
    "We want to combine the NLP models (i.e TF_IDF, Word2Vec_Hybrid and Doc2Word_embed)\n"
   ]
  },
  {
   "cell_type": "code",
   "execution_count": 27,
   "id": "11e093e1-5d57-4e94-9f87-bf1b8cb086a3",
   "metadata": {},
   "outputs": [
    {
     "data": {
      "text/plain": [
       "4388         The Dark Knight Rises\n",
       "242                         Batman\n",
       "611                 Batman Returns\n",
       "4186    Batman: Under the Red Hood\n",
       "Name: title, dtype: object"
      ]
     },
     "execution_count": 27,
     "metadata": {},
     "output_type": "execute_result"
    }
   ],
   "source": [
    "# assuming the NLP model cosine similarities are comparable we will avg\n",
    "\n",
    "avg_nlp_sim = (word2vec_cosine_sim+tfidf_cosine_sim)/2\n",
    "\n",
    "\n",
    "ut.top_rec(\"The Dark Knight\",\n",
    "           avg_nlp_sim, \n",
    "           pd.Series(df.index, index=df['title']), \n",
    "           df,5)"
   ]
  },
  {
   "cell_type": "code",
   "execution_count": 28,
   "id": "d842c5a0-b348-4a92-943d-a200ffdbce7f",
   "metadata": {},
   "outputs": [
    {
     "data": {
      "text/plain": [
       "0.05"
      ]
     },
     "execution_count": 28,
     "metadata": {},
     "output_type": "execute_result"
    }
   ],
   "source": [
    "ut.evaluate(rating_test, 5, 'CB', df, sample_size = 200, sim = avg_nlp_sim)"
   ]
  },
  {
   "cell_type": "code",
   "execution_count": 29,
   "id": "d707ce10-5d3a-45d2-bfa6-0e1b8c22352d",
   "metadata": {},
   "outputs": [],
   "source": [
    "matrix = avg_nlp_sim\n",
    "for i in range(matrix.shape[0]):\n",
    "    for j in range(matrix.shape[1]):\n",
    "        if matrix[i,j] <0:\n",
    "            print(\"Negative\")\n",
    "            break"
   ]
  },
  {
   "cell_type": "markdown",
   "id": "06571051-7d53-4259-83fa-aaf53d2418b5",
   "metadata": {},
   "source": [
    "## Collaborative Filtering"
   ]
  },
  {
   "cell_type": "markdown",
   "id": "9aefe3ee-58cf-4059-bd4b-3570913a0c9f",
   "metadata": {},
   "source": [
    "### Item based\n",
    "\n",
    "This is  collaborative filtering although we dont actually map users here. We just find the cosine similarity between movie rating vectors.\n",
    "\n",
    "i.e If a lot of people who are highly rating to MasterChef are also highly rating Bake Off, these 2 shows will have a high similarity score."
   ]
  },
  {
   "cell_type": "code",
   "execution_count": 17,
   "id": "0a872e22-d421-43d3-bf3e-ccc1af8536aa",
   "metadata": {},
   "outputs": [
    {
     "data": {
      "text/html": [
       "<div>\n",
       "<style scoped>\n",
       "    .dataframe tbody tr th:only-of-type {\n",
       "        vertical-align: middle;\n",
       "    }\n",
       "\n",
       "    .dataframe tbody tr th {\n",
       "        vertical-align: top;\n",
       "    }\n",
       "\n",
       "    .dataframe thead th {\n",
       "        text-align: right;\n",
       "    }\n",
       "</style>\n",
       "<table border=\"1\" class=\"dataframe\">\n",
       "  <thead>\n",
       "    <tr style=\"text-align: right;\">\n",
       "      <th></th>\n",
       "      <th>userId</th>\n",
       "      <th>index1</th>\n",
       "      <th>rating</th>\n",
       "    </tr>\n",
       "  </thead>\n",
       "  <tbody>\n",
       "    <tr>\n",
       "      <th>0</th>\n",
       "      <td>137529</td>\n",
       "      <td>4764</td>\n",
       "      <td>4.5</td>\n",
       "    </tr>\n",
       "    <tr>\n",
       "      <th>1</th>\n",
       "      <td>184749</td>\n",
       "      <td>4764</td>\n",
       "      <td>4.0</td>\n",
       "    </tr>\n",
       "  </tbody>\n",
       "</table>\n",
       "</div>"
      ],
      "text/plain": [
       "   userId  index1  rating\n",
       "0  137529    4764     4.5\n",
       "1  184749    4764     4.0"
      ]
     },
     "execution_count": 17,
     "metadata": {},
     "output_type": "execute_result"
    }
   ],
   "source": [
    "df['index1'] = df.index\n",
    "new = pd.merge(rating,\n",
    "               df[[\"title\", 'index1', \"movieId\"]], \n",
    "               how='inner',\n",
    "               left_on=\"movieId\",\n",
    "               right_on=\"movieId\")\n",
    "\n",
    "new = new[[\"userId\",\"index1\",\"rating\"]]\n",
    "x = pd.pivot_table(new, values='rating', index=['index1'], columns=['userId'], aggfunc=np.max, fill_value=0) \n",
    "new.head(2)"
   ]
  },
  {
   "cell_type": "code",
   "execution_count": 52,
   "id": "9d8ab787-1c62-45b4-8c1a-c48316e30e73",
   "metadata": {},
   "outputs": [],
   "source": [
    "item_cosine_sim = ut.Rating2Vec(x)"
   ]
  },
  {
   "cell_type": "code",
   "execution_count": 32,
   "id": "36365878-99bd-4b0f-954b-92109ca3fc65",
   "metadata": {},
   "outputs": [
    {
     "data": {
      "text/plain": [
       "195     Jurassic Park\n",
       "519    The Terminator\n",
       "165             Speed\n",
       "187      The Fugitive\n",
       "Name: title, dtype: object"
      ]
     },
     "execution_count": 32,
     "metadata": {},
     "output_type": "execute_result"
    }
   ],
   "source": [
    "ut.top_rec(\"Terminator 2: Judgment Day\",\n",
    "           item_cosine_sim, \n",
    "           pd.Series(df.index, index=df['title']), \n",
    "           df,5)"
   ]
  },
  {
   "cell_type": "code",
   "execution_count": 33,
   "id": "96da7d56-d04f-4030-93b6-76609f610e67",
   "metadata": {},
   "outputs": [
    {
     "data": {
      "text/plain": [
       "0.26"
      ]
     },
     "execution_count": 33,
     "metadata": {},
     "output_type": "execute_result"
    }
   ],
   "source": [
    "ut.evaluate(rating_test, 5, 'CB', df, sample_size = 200, sim = item_cosine_sim)"
   ]
  },
  {
   "cell_type": "markdown",
   "id": "97a19a87-a68d-4b05-90e3-50f6ab579e24",
   "metadata": {},
   "source": [
    "### User based"
   ]
  },
  {
   "cell_type": "code",
   "execution_count": 59,
   "id": "dcb1c1ed",
   "metadata": {},
   "outputs": [],
   "source": [
    "user_cosine_sim = ut.Rating2Vec(x.T)"
   ]
  },
  {
   "cell_type": "code",
   "execution_count": 60,
   "id": "5aaed78c-c299-4c4c-a770-5f13ba61ed46",
   "metadata": {},
   "outputs": [],
   "source": [
    "indexes = pd.DataFrame(x.T.index)"
   ]
  },
  {
   "cell_type": "code",
   "execution_count": 61,
   "id": "33e7cf14-ef74-4bd4-8c8f-d9bca1efef3a",
   "metadata": {
    "tags": []
   },
   "outputs": [
    {
     "data": {
      "text/plain": [
       "2960    Harry Potter and the Prisoner of Azkaban\n",
       "4033                                    Iron Man\n",
       "1790                                       Shrek\n",
       "496                           Return of the Jedi\n",
       "5160                Star Wars: The Force Awakens\n",
       "Name: title, dtype: object"
      ]
     },
     "execution_count": 61,
     "metadata": {},
     "output_type": "execute_result"
    }
   ],
   "source": [
    "ut.top_rec_user(rating.userId[0], user_cosine_sim, 10,5,df, x.T,indexes).title"
   ]
  },
  {
   "cell_type": "code",
   "execution_count": 62,
   "id": "0da3c073-7640-4382-90f2-56767f2382d8",
   "metadata": {},
   "outputs": [
    {
     "data": {
      "text/plain": [
       "0.145"
      ]
     },
     "execution_count": 62,
     "metadata": {},
     "output_type": "execute_result"
    }
   ],
   "source": [
    "ut.evaluate(rating_test, 5, 'UB', df, sample_size = 200, rating = rating, sim = user_cosine_sim, user_matrix = x.T, indexes = indexes, k = 10)"
   ]
  },
  {
   "cell_type": "markdown",
   "id": "bd84577c-aacc-4e8f-b8a9-e6a83d5e989a",
   "metadata": {},
   "source": [
    "## Hybrid Collab & Conent model"
   ]
  },
  {
   "cell_type": "code",
   "execution_count": 38,
   "id": "aa9f9d2f-8004-49d1-bab6-1fd2ca8d0031",
   "metadata": {},
   "outputs": [],
   "source": [
    "combined_sim = np.multiply(item_cosine_sim, avg_nlp_sim)"
   ]
  },
  {
   "cell_type": "code",
   "execution_count": 39,
   "id": "0ddb7611-1e04-4f01-9e47-e43e371d936a",
   "metadata": {},
   "outputs": [
    {
     "name": "stdout",
     "output_type": "stream",
     "text": [
      "Tile wtached:  Much Ado About Nothing\n",
      "Movie recommendations\n"
     ]
    },
    {
     "data": {
      "text/plain": [
       "156    Four Weddings and a Funeral\n",
       "737             The Wedding Singer\n",
       "111       Like Water for Chocolate\n",
       "36                     The Postman\n",
       "Name: title, dtype: object"
      ]
     },
     "execution_count": 39,
     "metadata": {},
     "output_type": "execute_result"
    }
   ],
   "source": [
    "title = df.title.sample(1).iloc[0]\n",
    "\n",
    "print(\"Tile wtached: \", title)\n",
    "\n",
    "print(\"Movie recommendations\")\n",
    "ut.top_rec(title,\n",
    "           combined_sim, \n",
    "           pd.Series(df.index, index=df['title']), \n",
    "           df,5)"
   ]
  },
  {
   "cell_type": "code",
   "execution_count": 40,
   "id": "e8d2692e-f265-495c-934c-2d4e50b87a6b",
   "metadata": {},
   "outputs": [
    {
     "data": {
      "text/plain": [
       "0.195"
      ]
     },
     "execution_count": 40,
     "metadata": {},
     "output_type": "execute_result"
    }
   ],
   "source": [
    "ut.evaluate(rating_test, 5, 'CB', df, sample_size = 200, sim = combined_sim)"
   ]
  },
  {
   "cell_type": "code",
   "execution_count": null,
   "id": "3d6bc991-d2a0-413d-be1e-d3887a769132",
   "metadata": {},
   "outputs": [],
   "source": []
  },
  {
   "cell_type": "code",
   "execution_count": 41,
   "id": "d2a0b009-b8f1-4c5e-b6db-9586723ddc0f",
   "metadata": {},
   "outputs": [],
   "source": [
    "from sklearn.preprocessing import normalize\n",
    "combined_sim2 = np.divide(np.add(item_cosine_sim*2, avg_nlp_sim),2)\n",
    "combined_sim2 = normalize(combined_sim2, axis=1, norm='l1')"
   ]
  },
  {
   "cell_type": "code",
   "execution_count": 42,
   "id": "30e0fcfa-eb25-47f3-833b-59aad4bf9e0f",
   "metadata": {},
   "outputs": [
    {
     "data": {
      "text/plain": [
       "519    The Terminator\n",
       "195     Jurassic Park\n",
       "166         True Lies\n",
       "165             Speed\n",
       "Name: title, dtype: object"
      ]
     },
     "execution_count": 42,
     "metadata": {},
     "output_type": "execute_result"
    }
   ],
   "source": [
    "ut.top_rec(\"Terminator 2: Judgment Day\",\n",
    "           combined_sim2, \n",
    "           pd.Series(df.index, index=df['title']), \n",
    "           df,5)"
   ]
  },
  {
   "cell_type": "code",
   "execution_count": 43,
   "id": "8f424284-7d63-4848-895e-0300e4caed18",
   "metadata": {},
   "outputs": [
    {
     "data": {
      "text/plain": [
       "0.16"
      ]
     },
     "execution_count": 43,
     "metadata": {},
     "output_type": "execute_result"
    }
   ],
   "source": [
    "ut.evaluate(rating_test, 5, 'CB', df, sample_size = 200, sim = combined_sim2)"
   ]
  },
  {
   "cell_type": "code",
   "execution_count": 44,
   "id": "3a1f57a2-4e2f-44b3-9eba-86de613ef570",
   "metadata": {},
   "outputs": [],
   "source": [
    "scores = np.matmul(x.T, combined_sim2)"
   ]
  },
  {
   "cell_type": "code",
   "execution_count": 45,
   "id": "e54bfbd2-6587-4565-99a6-bc3ea65be4e6",
   "metadata": {},
   "outputs": [
    {
     "data": {
      "text/html": [
       "<div>\n",
       "<style scoped>\n",
       "    .dataframe tbody tr th:only-of-type {\n",
       "        vertical-align: middle;\n",
       "    }\n",
       "\n",
       "    .dataframe tbody tr th {\n",
       "        vertical-align: top;\n",
       "    }\n",
       "\n",
       "    .dataframe thead th {\n",
       "        text-align: right;\n",
       "    }\n",
       "</style>\n",
       "<table border=\"1\" class=\"dataframe\">\n",
       "  <thead>\n",
       "    <tr style=\"text-align: right;\">\n",
       "      <th></th>\n",
       "      <th>title</th>\n",
       "      <th>movieId</th>\n",
       "    </tr>\n",
       "  </thead>\n",
       "  <tbody>\n",
       "    <tr>\n",
       "      <th>549</th>\n",
       "      <td>Back to the Future</td>\n",
       "      <td>1270</td>\n",
       "    </tr>\n",
       "    <tr>\n",
       "      <th>544</th>\n",
       "      <td>Groundhog Day</td>\n",
       "      <td>1265</td>\n",
       "    </tr>\n",
       "    <tr>\n",
       "      <th>434</th>\n",
       "      <td>E.T. the Extra-Terrestrial</td>\n",
       "      <td>1097</td>\n",
       "    </tr>\n",
       "    <tr>\n",
       "      <th>712</th>\n",
       "      <td>The Truman Show</td>\n",
       "      <td>1682</td>\n",
       "    </tr>\n",
       "    <tr>\n",
       "      <th>155</th>\n",
       "      <td>Forrest Gump</td>\n",
       "      <td>356</td>\n",
       "    </tr>\n",
       "  </tbody>\n",
       "</table>\n",
       "</div>"
      ],
      "text/plain": [
       "                          title  movieId\n",
       "549          Back to the Future     1270\n",
       "544               Groundhog Day     1265\n",
       "434  E.T. the Extra-Terrestrial     1097\n",
       "712             The Truman Show     1682\n",
       "155                Forrest Gump      356"
      ]
     },
     "execution_count": 45,
     "metadata": {},
     "output_type": "execute_result"
    }
   ],
   "source": [
    "ut.CB_CF_MEMORY_HYBRID_REC(scores , rating.userId[0], df, 5)"
   ]
  },
  {
   "cell_type": "code",
   "execution_count": 46,
   "id": "36ff762c-5cd8-40e0-bd20-a121cdd94e39",
   "metadata": {},
   "outputs": [
    {
     "data": {
      "text/plain": [
       "0.065"
      ]
     },
     "execution_count": 46,
     "metadata": {},
     "output_type": "execute_result"
    }
   ],
   "source": [
    "ut.evaluate(rating_test, 5, 'Hybrid', df, sample_size = 200, user_movie = scores)"
   ]
  },
  {
   "cell_type": "markdown",
   "id": "5a156002-2525-41d0-ab30-1674da28e72d",
   "metadata": {},
   "source": [
    "### Model based"
   ]
  },
  {
   "cell_type": "markdown",
   "id": "52db9733-d009-4f1a-b515-284cddd5ffa1",
   "metadata": {},
   "source": [
    "#### SVD"
   ]
  },
  {
   "cell_type": "code",
   "execution_count": 20,
   "id": "8e2e42df-2a80-40ec-903c-b173a38a60b7",
   "metadata": {},
   "outputs": [],
   "source": [
    "from surprise import Reader, Dataset, SVD"
   ]
  },
  {
   "cell_type": "code",
   "execution_count": 32,
   "id": "0fd4c16e-2228-4760-bdea-c3a1b3a0dd9b",
   "metadata": {},
   "outputs": [
    {
     "data": {
      "text/html": [
       "<div>\n",
       "<style scoped>\n",
       "    .dataframe tbody tr th:only-of-type {\n",
       "        vertical-align: middle;\n",
       "    }\n",
       "\n",
       "    .dataframe tbody tr th {\n",
       "        vertical-align: top;\n",
       "    }\n",
       "\n",
       "    .dataframe thead th {\n",
       "        text-align: right;\n",
       "    }\n",
       "</style>\n",
       "<table border=\"1\" class=\"dataframe\">\n",
       "  <thead>\n",
       "    <tr style=\"text-align: right;\">\n",
       "      <th>userId</th>\n",
       "      <th>47</th>\n",
       "      <th>80</th>\n",
       "      <th>89</th>\n",
       "      <th>90</th>\n",
       "      <th>102</th>\n",
       "      <th>107</th>\n",
       "      <th>127</th>\n",
       "      <th>131</th>\n",
       "      <th>150</th>\n",
       "      <th>201</th>\n",
       "      <th>...</th>\n",
       "      <th>270641</th>\n",
       "      <th>270674</th>\n",
       "      <th>270685</th>\n",
       "      <th>270688</th>\n",
       "      <th>270718</th>\n",
       "      <th>270719</th>\n",
       "      <th>270729</th>\n",
       "      <th>270736</th>\n",
       "      <th>270848</th>\n",
       "      <th>270894</th>\n",
       "    </tr>\n",
       "    <tr>\n",
       "      <th>index1</th>\n",
       "      <th></th>\n",
       "      <th></th>\n",
       "      <th></th>\n",
       "      <th></th>\n",
       "      <th></th>\n",
       "      <th></th>\n",
       "      <th></th>\n",
       "      <th></th>\n",
       "      <th></th>\n",
       "      <th></th>\n",
       "      <th></th>\n",
       "      <th></th>\n",
       "      <th></th>\n",
       "      <th></th>\n",
       "      <th></th>\n",
       "      <th></th>\n",
       "      <th></th>\n",
       "      <th></th>\n",
       "      <th></th>\n",
       "      <th></th>\n",
       "      <th></th>\n",
       "    </tr>\n",
       "  </thead>\n",
       "  <tbody>\n",
       "    <tr>\n",
       "      <th>0</th>\n",
       "      <td>0.0</td>\n",
       "      <td>0</td>\n",
       "      <td>0</td>\n",
       "      <td>0.0</td>\n",
       "      <td>0.0</td>\n",
       "      <td>0</td>\n",
       "      <td>0</td>\n",
       "      <td>0</td>\n",
       "      <td>4</td>\n",
       "      <td>4.5</td>\n",
       "      <td>...</td>\n",
       "      <td>0.0</td>\n",
       "      <td>0</td>\n",
       "      <td>0</td>\n",
       "      <td>0.0</td>\n",
       "      <td>0</td>\n",
       "      <td>0</td>\n",
       "      <td>0</td>\n",
       "      <td>0.0</td>\n",
       "      <td>0.0</td>\n",
       "      <td>0.0</td>\n",
       "    </tr>\n",
       "    <tr>\n",
       "      <th>1</th>\n",
       "      <td>0.0</td>\n",
       "      <td>0</td>\n",
       "      <td>0</td>\n",
       "      <td>0.0</td>\n",
       "      <td>0.0</td>\n",
       "      <td>0</td>\n",
       "      <td>0</td>\n",
       "      <td>0</td>\n",
       "      <td>0</td>\n",
       "      <td>0.0</td>\n",
       "      <td>...</td>\n",
       "      <td>0.0</td>\n",
       "      <td>0</td>\n",
       "      <td>0</td>\n",
       "      <td>0.0</td>\n",
       "      <td>0</td>\n",
       "      <td>0</td>\n",
       "      <td>0</td>\n",
       "      <td>0.0</td>\n",
       "      <td>0.0</td>\n",
       "      <td>0.0</td>\n",
       "    </tr>\n",
       "  </tbody>\n",
       "</table>\n",
       "<p>2 rows × 8512 columns</p>\n",
       "</div>"
      ],
      "text/plain": [
       "userId  47      80      89      90      102     107     127     131     \\\n",
       "index1                                                                   \n",
       "0          0.0       0       0     0.0     0.0       0       0       0   \n",
       "1          0.0       0       0     0.0     0.0       0       0       0   \n",
       "\n",
       "userId  150     201     ...  270641  270674  270685  270688  270718  270719  \\\n",
       "index1                  ...                                                   \n",
       "0            4     4.5  ...     0.0       0       0     0.0       0       0   \n",
       "1            0     0.0  ...     0.0       0       0     0.0       0       0   \n",
       "\n",
       "userId  270729  270736  270848  270894  \n",
       "index1                                  \n",
       "0            0     0.0     0.0     0.0  \n",
       "1            0     0.0     0.0     0.0  \n",
       "\n",
       "[2 rows x 8512 columns]"
      ]
     },
     "execution_count": 32,
     "metadata": {},
     "output_type": "execute_result"
    }
   ],
   "source": [
    "x.head(2)"
   ]
  },
  {
   "cell_type": "code",
   "execution_count": 64,
   "id": "6f60eda7-bf7d-4c09-8336-b0b429628e2f",
   "metadata": {},
   "outputs": [],
   "source": [
    "from scipy.sparse.linalg import svds\n",
    "M = x.T\n",
    "U, sigma, Vt = svds(M, k =150)"
   ]
  },
  {
   "cell_type": "code",
   "execution_count": 65,
   "id": "bbd6711a-df3f-4e69-863d-c330c2a78353",
   "metadata": {},
   "outputs": [],
   "source": [
    "sigma_diag_matrix = np.diag(sigma)"
   ]
  },
  {
   "cell_type": "code",
   "execution_count": 66,
   "id": "47fd1780-0d49-4c1f-8722-0b6d46fba0c1",
   "metadata": {},
   "outputs": [],
   "source": [
    "all_user_predicted_ratings = np.dot(np.dot(U, sigma_diag_matrix), Vt)\n",
    "\n",
    "preds_df = pd.DataFrame(all_user_predicted_ratings, columns = M.columns, index=M.index)"
   ]
  },
  {
   "cell_type": "code",
   "execution_count": 67,
   "id": "ffc54c81-4268-44e9-8493-8f23c1fbd5cd",
   "metadata": {},
   "outputs": [
    {
     "data": {
      "text/html": [
       "<div>\n",
       "<style scoped>\n",
       "    .dataframe tbody tr th:only-of-type {\n",
       "        vertical-align: middle;\n",
       "    }\n",
       "\n",
       "    .dataframe tbody tr th {\n",
       "        vertical-align: top;\n",
       "    }\n",
       "\n",
       "    .dataframe thead th {\n",
       "        text-align: right;\n",
       "    }\n",
       "</style>\n",
       "<table border=\"1\" class=\"dataframe\">\n",
       "  <thead>\n",
       "    <tr style=\"text-align: right;\">\n",
       "      <th>index1</th>\n",
       "      <th>0</th>\n",
       "      <th>1</th>\n",
       "      <th>2</th>\n",
       "      <th>3</th>\n",
       "      <th>4</th>\n",
       "      <th>5</th>\n",
       "      <th>6</th>\n",
       "      <th>7</th>\n",
       "      <th>8</th>\n",
       "      <th>9</th>\n",
       "      <th>...</th>\n",
       "      <th>5459</th>\n",
       "      <th>5460</th>\n",
       "      <th>5461</th>\n",
       "      <th>5462</th>\n",
       "      <th>5463</th>\n",
       "      <th>5464</th>\n",
       "      <th>5465</th>\n",
       "      <th>5466</th>\n",
       "      <th>5467</th>\n",
       "      <th>5468</th>\n",
       "    </tr>\n",
       "    <tr>\n",
       "      <th>userId</th>\n",
       "      <th></th>\n",
       "      <th></th>\n",
       "      <th></th>\n",
       "      <th></th>\n",
       "      <th></th>\n",
       "      <th></th>\n",
       "      <th></th>\n",
       "      <th></th>\n",
       "      <th></th>\n",
       "      <th></th>\n",
       "      <th></th>\n",
       "      <th></th>\n",
       "      <th></th>\n",
       "      <th></th>\n",
       "      <th></th>\n",
       "      <th></th>\n",
       "      <th></th>\n",
       "      <th></th>\n",
       "      <th></th>\n",
       "      <th></th>\n",
       "      <th></th>\n",
       "    </tr>\n",
       "  </thead>\n",
       "  <tbody>\n",
       "    <tr>\n",
       "      <th>47</th>\n",
       "      <td>0.206890</td>\n",
       "      <td>-0.084963</td>\n",
       "      <td>0.226051</td>\n",
       "      <td>0.275886</td>\n",
       "      <td>-0.065360</td>\n",
       "      <td>0.344545</td>\n",
       "      <td>-0.443070</td>\n",
       "      <td>0.426263</td>\n",
       "      <td>0.352360</td>\n",
       "      <td>6.041230</td>\n",
       "      <td>...</td>\n",
       "      <td>-0.031172</td>\n",
       "      <td>-0.025064</td>\n",
       "      <td>0.028588</td>\n",
       "      <td>0.004298</td>\n",
       "      <td>0.009962</td>\n",
       "      <td>0.063335</td>\n",
       "      <td>0.002214</td>\n",
       "      <td>0.098241</td>\n",
       "      <td>-0.026274</td>\n",
       "      <td>0.003710</td>\n",
       "    </tr>\n",
       "    <tr>\n",
       "      <th>80</th>\n",
       "      <td>0.090107</td>\n",
       "      <td>0.188953</td>\n",
       "      <td>-0.219534</td>\n",
       "      <td>0.416049</td>\n",
       "      <td>4.384805</td>\n",
       "      <td>0.736280</td>\n",
       "      <td>-0.033869</td>\n",
       "      <td>-0.037168</td>\n",
       "      <td>0.291702</td>\n",
       "      <td>0.085258</td>\n",
       "      <td>...</td>\n",
       "      <td>0.011065</td>\n",
       "      <td>0.007162</td>\n",
       "      <td>0.003098</td>\n",
       "      <td>0.001978</td>\n",
       "      <td>-0.010329</td>\n",
       "      <td>0.040640</td>\n",
       "      <td>0.001263</td>\n",
       "      <td>0.002258</td>\n",
       "      <td>-0.006294</td>\n",
       "      <td>0.000246</td>\n",
       "    </tr>\n",
       "    <tr>\n",
       "      <th>89</th>\n",
       "      <td>0.033644</td>\n",
       "      <td>-0.367754</td>\n",
       "      <td>-0.227612</td>\n",
       "      <td>-0.044297</td>\n",
       "      <td>-0.220981</td>\n",
       "      <td>-0.590141</td>\n",
       "      <td>0.067733</td>\n",
       "      <td>0.047287</td>\n",
       "      <td>0.576854</td>\n",
       "      <td>0.014218</td>\n",
       "      <td>...</td>\n",
       "      <td>-0.027074</td>\n",
       "      <td>-0.018429</td>\n",
       "      <td>-0.045219</td>\n",
       "      <td>-0.000608</td>\n",
       "      <td>-0.031837</td>\n",
       "      <td>0.113323</td>\n",
       "      <td>-0.148709</td>\n",
       "      <td>0.004298</td>\n",
       "      <td>-0.050884</td>\n",
       "      <td>0.000297</td>\n",
       "    </tr>\n",
       "    <tr>\n",
       "      <th>90</th>\n",
       "      <td>-0.091386</td>\n",
       "      <td>0.063128</td>\n",
       "      <td>0.177861</td>\n",
       "      <td>0.031419</td>\n",
       "      <td>-0.017055</td>\n",
       "      <td>-0.096234</td>\n",
       "      <td>-0.026647</td>\n",
       "      <td>-0.037875</td>\n",
       "      <td>0.209395</td>\n",
       "      <td>-0.010165</td>\n",
       "      <td>...</td>\n",
       "      <td>0.007329</td>\n",
       "      <td>-0.010749</td>\n",
       "      <td>-0.009444</td>\n",
       "      <td>-0.001855</td>\n",
       "      <td>-0.016785</td>\n",
       "      <td>-0.004429</td>\n",
       "      <td>-0.005432</td>\n",
       "      <td>0.002929</td>\n",
       "      <td>-0.001332</td>\n",
       "      <td>0.000460</td>\n",
       "    </tr>\n",
       "    <tr>\n",
       "      <th>102</th>\n",
       "      <td>-0.017500</td>\n",
       "      <td>-0.050120</td>\n",
       "      <td>-0.059742</td>\n",
       "      <td>0.165551</td>\n",
       "      <td>0.093606</td>\n",
       "      <td>-0.157325</td>\n",
       "      <td>-0.020486</td>\n",
       "      <td>0.013692</td>\n",
       "      <td>-0.036205</td>\n",
       "      <td>0.067421</td>\n",
       "      <td>...</td>\n",
       "      <td>-0.012737</td>\n",
       "      <td>0.000189</td>\n",
       "      <td>0.034035</td>\n",
       "      <td>0.008510</td>\n",
       "      <td>0.012160</td>\n",
       "      <td>-0.015185</td>\n",
       "      <td>-0.016565</td>\n",
       "      <td>-0.006447</td>\n",
       "      <td>-0.006688</td>\n",
       "      <td>-0.000257</td>\n",
       "    </tr>\n",
       "    <tr>\n",
       "      <th>...</th>\n",
       "      <td>...</td>\n",
       "      <td>...</td>\n",
       "      <td>...</td>\n",
       "      <td>...</td>\n",
       "      <td>...</td>\n",
       "      <td>...</td>\n",
       "      <td>...</td>\n",
       "      <td>...</td>\n",
       "      <td>...</td>\n",
       "      <td>...</td>\n",
       "      <td>...</td>\n",
       "      <td>...</td>\n",
       "      <td>...</td>\n",
       "      <td>...</td>\n",
       "      <td>...</td>\n",
       "      <td>...</td>\n",
       "      <td>...</td>\n",
       "      <td>...</td>\n",
       "      <td>...</td>\n",
       "      <td>...</td>\n",
       "      <td>...</td>\n",
       "    </tr>\n",
       "    <tr>\n",
       "      <th>270719</th>\n",
       "      <td>0.071621</td>\n",
       "      <td>0.194067</td>\n",
       "      <td>0.104578</td>\n",
       "      <td>0.008986</td>\n",
       "      <td>0.315960</td>\n",
       "      <td>-0.000330</td>\n",
       "      <td>0.006396</td>\n",
       "      <td>-0.019401</td>\n",
       "      <td>-0.143088</td>\n",
       "      <td>0.029776</td>\n",
       "      <td>...</td>\n",
       "      <td>0.005657</td>\n",
       "      <td>0.004282</td>\n",
       "      <td>-0.017193</td>\n",
       "      <td>-0.001938</td>\n",
       "      <td>-0.008488</td>\n",
       "      <td>-0.006809</td>\n",
       "      <td>-0.002854</td>\n",
       "      <td>-0.008224</td>\n",
       "      <td>0.000058</td>\n",
       "      <td>0.000003</td>\n",
       "    </tr>\n",
       "    <tr>\n",
       "      <th>270729</th>\n",
       "      <td>-0.127308</td>\n",
       "      <td>0.007736</td>\n",
       "      <td>0.323470</td>\n",
       "      <td>0.334567</td>\n",
       "      <td>0.764410</td>\n",
       "      <td>0.056092</td>\n",
       "      <td>-0.027744</td>\n",
       "      <td>0.334242</td>\n",
       "      <td>0.798346</td>\n",
       "      <td>-0.103513</td>\n",
       "      <td>...</td>\n",
       "      <td>0.015841</td>\n",
       "      <td>0.015080</td>\n",
       "      <td>-0.006487</td>\n",
       "      <td>-0.001503</td>\n",
       "      <td>-0.021646</td>\n",
       "      <td>-0.015089</td>\n",
       "      <td>0.018839</td>\n",
       "      <td>-0.000969</td>\n",
       "      <td>0.004803</td>\n",
       "      <td>0.000778</td>\n",
       "    </tr>\n",
       "    <tr>\n",
       "      <th>270736</th>\n",
       "      <td>-0.071442</td>\n",
       "      <td>0.194331</td>\n",
       "      <td>-0.181691</td>\n",
       "      <td>-0.084906</td>\n",
       "      <td>0.190892</td>\n",
       "      <td>-0.177154</td>\n",
       "      <td>0.084736</td>\n",
       "      <td>-0.032094</td>\n",
       "      <td>-0.329955</td>\n",
       "      <td>-0.035208</td>\n",
       "      <td>...</td>\n",
       "      <td>-0.032269</td>\n",
       "      <td>0.006759</td>\n",
       "      <td>-0.031083</td>\n",
       "      <td>-0.002315</td>\n",
       "      <td>-0.016456</td>\n",
       "      <td>0.008624</td>\n",
       "      <td>0.003902</td>\n",
       "      <td>-0.014177</td>\n",
       "      <td>0.018448</td>\n",
       "      <td>0.000243</td>\n",
       "    </tr>\n",
       "    <tr>\n",
       "      <th>270848</th>\n",
       "      <td>-0.095066</td>\n",
       "      <td>0.026433</td>\n",
       "      <td>-0.020042</td>\n",
       "      <td>-0.004706</td>\n",
       "      <td>0.089384</td>\n",
       "      <td>-0.086531</td>\n",
       "      <td>-0.038021</td>\n",
       "      <td>-0.007356</td>\n",
       "      <td>0.138613</td>\n",
       "      <td>-0.072419</td>\n",
       "      <td>...</td>\n",
       "      <td>-0.000826</td>\n",
       "      <td>0.002997</td>\n",
       "      <td>0.007170</td>\n",
       "      <td>0.000687</td>\n",
       "      <td>0.006720</td>\n",
       "      <td>0.009558</td>\n",
       "      <td>0.003103</td>\n",
       "      <td>0.005537</td>\n",
       "      <td>0.003057</td>\n",
       "      <td>-0.000279</td>\n",
       "    </tr>\n",
       "    <tr>\n",
       "      <th>270894</th>\n",
       "      <td>-0.014616</td>\n",
       "      <td>-0.105477</td>\n",
       "      <td>-0.223308</td>\n",
       "      <td>0.378458</td>\n",
       "      <td>-0.373366</td>\n",
       "      <td>0.242600</td>\n",
       "      <td>0.025252</td>\n",
       "      <td>-0.095558</td>\n",
       "      <td>0.976256</td>\n",
       "      <td>0.056413</td>\n",
       "      <td>...</td>\n",
       "      <td>0.001893</td>\n",
       "      <td>-0.001543</td>\n",
       "      <td>0.002888</td>\n",
       "      <td>-0.003924</td>\n",
       "      <td>0.002200</td>\n",
       "      <td>-0.051120</td>\n",
       "      <td>0.017114</td>\n",
       "      <td>0.000695</td>\n",
       "      <td>-0.002057</td>\n",
       "      <td>0.001609</td>\n",
       "    </tr>\n",
       "  </tbody>\n",
       "</table>\n",
       "<p>8512 rows × 5469 columns</p>\n",
       "</div>"
      ],
      "text/plain": [
       "index1      0         1         2         3         4         5         6     \\\n",
       "userId                                                                         \n",
       "47      0.206890 -0.084963  0.226051  0.275886 -0.065360  0.344545 -0.443070   \n",
       "80      0.090107  0.188953 -0.219534  0.416049  4.384805  0.736280 -0.033869   \n",
       "89      0.033644 -0.367754 -0.227612 -0.044297 -0.220981 -0.590141  0.067733   \n",
       "90     -0.091386  0.063128  0.177861  0.031419 -0.017055 -0.096234 -0.026647   \n",
       "102    -0.017500 -0.050120 -0.059742  0.165551  0.093606 -0.157325 -0.020486   \n",
       "...          ...       ...       ...       ...       ...       ...       ...   \n",
       "270719  0.071621  0.194067  0.104578  0.008986  0.315960 -0.000330  0.006396   \n",
       "270729 -0.127308  0.007736  0.323470  0.334567  0.764410  0.056092 -0.027744   \n",
       "270736 -0.071442  0.194331 -0.181691 -0.084906  0.190892 -0.177154  0.084736   \n",
       "270848 -0.095066  0.026433 -0.020042 -0.004706  0.089384 -0.086531 -0.038021   \n",
       "270894 -0.014616 -0.105477 -0.223308  0.378458 -0.373366  0.242600  0.025252   \n",
       "\n",
       "index1      7         8         9     ...      5459      5460      5461  \\\n",
       "userId                                ...                                 \n",
       "47      0.426263  0.352360  6.041230  ... -0.031172 -0.025064  0.028588   \n",
       "80     -0.037168  0.291702  0.085258  ...  0.011065  0.007162  0.003098   \n",
       "89      0.047287  0.576854  0.014218  ... -0.027074 -0.018429 -0.045219   \n",
       "90     -0.037875  0.209395 -0.010165  ...  0.007329 -0.010749 -0.009444   \n",
       "102     0.013692 -0.036205  0.067421  ... -0.012737  0.000189  0.034035   \n",
       "...          ...       ...       ...  ...       ...       ...       ...   \n",
       "270719 -0.019401 -0.143088  0.029776  ...  0.005657  0.004282 -0.017193   \n",
       "270729  0.334242  0.798346 -0.103513  ...  0.015841  0.015080 -0.006487   \n",
       "270736 -0.032094 -0.329955 -0.035208  ... -0.032269  0.006759 -0.031083   \n",
       "270848 -0.007356  0.138613 -0.072419  ... -0.000826  0.002997  0.007170   \n",
       "270894 -0.095558  0.976256  0.056413  ...  0.001893 -0.001543  0.002888   \n",
       "\n",
       "index1      5462      5463      5464      5465      5466      5467      5468  \n",
       "userId                                                                        \n",
       "47      0.004298  0.009962  0.063335  0.002214  0.098241 -0.026274  0.003710  \n",
       "80      0.001978 -0.010329  0.040640  0.001263  0.002258 -0.006294  0.000246  \n",
       "89     -0.000608 -0.031837  0.113323 -0.148709  0.004298 -0.050884  0.000297  \n",
       "90     -0.001855 -0.016785 -0.004429 -0.005432  0.002929 -0.001332  0.000460  \n",
       "102     0.008510  0.012160 -0.015185 -0.016565 -0.006447 -0.006688 -0.000257  \n",
       "...          ...       ...       ...       ...       ...       ...       ...  \n",
       "270719 -0.001938 -0.008488 -0.006809 -0.002854 -0.008224  0.000058  0.000003  \n",
       "270729 -0.001503 -0.021646 -0.015089  0.018839 -0.000969  0.004803  0.000778  \n",
       "270736 -0.002315 -0.016456  0.008624  0.003902 -0.014177  0.018448  0.000243  \n",
       "270848  0.000687  0.006720  0.009558  0.003103  0.005537  0.003057 -0.000279  \n",
       "270894 -0.003924  0.002200 -0.051120  0.017114  0.000695 -0.002057  0.001609  \n",
       "\n",
       "[8512 rows x 5469 columns]"
      ]
     },
     "execution_count": 67,
     "metadata": {},
     "output_type": "execute_result"
    }
   ],
   "source": [
    "preds_df"
   ]
  },
  {
   "cell_type": "code",
   "execution_count": 68,
   "id": "466fe033-f64c-47c1-a384-5ccfa2e6eae4",
   "metadata": {},
   "outputs": [],
   "source": [
    "user_cosine_sim = ut.Rating2Vec(preds_df)"
   ]
  },
  {
   "cell_type": "code",
   "execution_count": 69,
   "id": "2f15811a-ae8f-4fa0-8695-fb5c83c27f79",
   "metadata": {},
   "outputs": [],
   "source": [
    "indexes = pd.DataFrame(preds_df.index)"
   ]
  },
  {
   "cell_type": "code",
   "execution_count": 70,
   "id": "1562a86e-47e8-4649-964e-6476c03fa9b5",
   "metadata": {},
   "outputs": [
    {
     "data": {
      "text/plain": [
       "2960    Harry Potter and the Prisoner of Azkaban\n",
       "4217                                          Up\n",
       "2425                                Finding Nemo\n",
       "1790                                       Shrek\n",
       "726                            Good Will Hunting\n",
       "Name: title, dtype: object"
      ]
     },
     "execution_count": 70,
     "metadata": {},
     "output_type": "execute_result"
    }
   ],
   "source": [
    "ut.top_rec_user(rating.userId[0], user_cosine_sim, 10,5,df, x.T,indexes).title"
   ]
  },
  {
   "cell_type": "code",
   "execution_count": 71,
   "id": "7c4cbdca-c0bd-4ebd-9106-ab76ea6938b2",
   "metadata": {},
   "outputs": [
    {
     "data": {
      "text/plain": [
       "0.17"
      ]
     },
     "execution_count": 71,
     "metadata": {},
     "output_type": "execute_result"
    }
   ],
   "source": [
    "ut.evaluate(rating_test, 5, 'UB', df, sample_size = 200, rating = rating, sim = user_cosine_sim, user_matrix = preds_df, indexes = indexes, k = 10)"
   ]
  },
  {
   "cell_type": "code",
   "execution_count": null,
   "id": "f348c3ae-dd9d-4661-ba2a-b403f043e6ee",
   "metadata": {},
   "outputs": [],
   "source": []
  },
  {
   "cell_type": "code",
   "execution_count": null,
   "id": "76f82ed6-4744-431c-8d8b-c59456057fbe",
   "metadata": {},
   "outputs": [],
   "source": []
  },
  {
   "cell_type": "code",
   "execution_count": null,
   "id": "47dba9b0-11c4-42b9-afbc-037d8c499b6d",
   "metadata": {},
   "outputs": [],
   "source": []
  },
  {
   "cell_type": "code",
   "execution_count": null,
   "id": "ea90c8ac-6ba3-47b3-a3df-62a3bdcb2bc5",
   "metadata": {},
   "outputs": [],
   "source": []
  },
  {
   "cell_type": "code",
   "execution_count": null,
   "id": "4b583f7a-62f9-4cea-81a7-3c0dd6156997",
   "metadata": {},
   "outputs": [],
   "source": []
  },
  {
   "cell_type": "code",
   "execution_count": null,
   "id": "b9f1252c-f62c-486b-9d33-cbea5ccc4b83",
   "metadata": {},
   "outputs": [],
   "source": []
  },
  {
   "cell_type": "code",
   "execution_count": null,
   "id": "409dbf2b-84a3-4fd3-9969-36157026eb27",
   "metadata": {},
   "outputs": [],
   "source": []
  },
  {
   "cell_type": "code",
   "execution_count": null,
   "id": "cac29521-e839-4cae-9a4f-21c26b8aa298",
   "metadata": {},
   "outputs": [],
   "source": []
  },
  {
   "cell_type": "markdown",
   "id": "f014deb0-80dd-421e-996f-ea42a284f94c",
   "metadata": {},
   "source": [
    "## Evaluation\n",
    "\n",
    "Very difficult to evaluate, here we use a hit rate. However there are issues doing this and it doesnt exactly represent the power/useful ness of each model."
   ]
  },
  {
   "cell_type": "code",
   "execution_count": null,
   "id": "fd0d1f84-6d45-4f40-8af7-2b72665475f0",
   "metadata": {},
   "outputs": [],
   "source": []
  },
  {
   "cell_type": "code",
   "execution_count": null,
   "id": "a986c2fc-09a2-43bd-a818-4e809e3860fb",
   "metadata": {},
   "outputs": [],
   "source": [
    "UB = ut.evaluate(rating_test, 5, 'UB', df, sample_size = 200, rating = rating, sim = user_cosine_sim, user_matrix = x.T, indexes = indexes, k = 10)\n",
    "IB = ut.evaluate(rating_test, 5, 'CB', df, sample_size = 200, sim = item_cosine_sim)\n",
    "Hybrid_cb = ut.evaluate(rating_test, 5, 'CB', df, sample_size = 200, sim = avg_nlp_sim)\n",
    "d2v = ut.evaluate(rating_test, 5, 'CB', df, sample_size = 200, sim = doc2vec_cosine_sim)\n",
    "w2v = ut.evaluate(rating_test, 5, 'CB', df, sample_size = 200, sim = word2vec_cosine_sim)\n",
    "tf = ut.evaluate(rating_test, 5, 'CB', df, sample_size = 200, sim = tfidf_cosine_sim)\n",
    "simp = ut.evaluate(rating_test, 5, 'simple', df,  rating = rating)\n",
    "h1 = ut.evaluate(rating_test, 5, 'CB', df, sample_size = 200, sim = combined_sim)\n",
    "h2 = ut.evaluate(rating_test, 5, 'CB', df, sample_size = 200, sim = combined_sim2)\n",
    "h3 = ut.evaluate(rating_test, 5, 'Hybrid', df, sample_size = 200, user_movie = scores)"
   ]
  },
  {
   "cell_type": "code",
   "execution_count": null,
   "id": "a510fa81-24c8-4918-8b48-48a330934f05",
   "metadata": {},
   "outputs": [],
   "source": []
  },
  {
   "cell_type": "code",
   "execution_count": null,
   "id": "4331d5c4-e289-461c-a88f-f0f6f907406e",
   "metadata": {},
   "outputs": [],
   "source": []
  },
  {
   "cell_type": "code",
   "execution_count": null,
   "id": "a8502c84-e79b-4780-83a8-3b035a73380a",
   "metadata": {},
   "outputs": [],
   "source": []
  },
  {
   "cell_type": "code",
   "execution_count": null,
   "id": "6fbd9b7a-272b-4907-ab5f-1347136c7997",
   "metadata": {},
   "outputs": [],
   "source": []
  },
  {
   "cell_type": "code",
   "execution_count": null,
   "id": "c2d2babd-4ce4-468d-aba2-b7bb3db42187",
   "metadata": {},
   "outputs": [],
   "source": []
  },
  {
   "cell_type": "code",
   "execution_count": null,
   "id": "7acd8acc-2ed3-4aac-ada0-2b63aeb3f54a",
   "metadata": {},
   "outputs": [],
   "source": []
  },
  {
   "cell_type": "markdown",
   "id": "82162860-45ce-4b34-b818-914cb60ae514",
   "metadata": {},
   "source": [
    "to do:\n",
    "- Evaluation method\n",
    "- Finish simple memory based collab\n",
    "- do a model based one\n",
    "\n",
    "look into how a neural network could combine evrything."
   ]
  },
  {
   "cell_type": "code",
   "execution_count": null,
   "id": "34ed9fd3-2799-4a9e-b7ce-881ee737344f",
   "metadata": {},
   "outputs": [],
   "source": []
  },
  {
   "cell_type": "code",
   "execution_count": null,
   "id": "ba94ff62-74d7-45e7-b5cf-0b320dc562bb",
   "metadata": {},
   "outputs": [],
   "source": []
  },
  {
   "cell_type": "markdown",
   "id": "6a7331d9-13ad-4436-96c7-ff3b22e38862",
   "metadata": {},
   "source": [
    "Hybrid\n",
    "\n",
    "Factorisation machines?\n"
   ]
  },
  {
   "cell_type": "code",
   "execution_count": null,
   "id": "cebfe472-004f-4691-9b42-b5cc7cb3d5c0",
   "metadata": {},
   "outputs": [],
   "source": []
  }
 ],
 "metadata": {
  "environment": {
   "kernel": "python3",
   "name": "tf2-gpu.2-3.m91",
   "type": "gcloud",
   "uri": "gcr.io/deeplearning-platform-release/tf2-gpu.2-3:m91"
  },
  "kernelspec": {
   "display_name": "Python 3",
   "language": "python",
   "name": "python3"
  },
  "language_info": {
   "codemirror_mode": {
    "name": "ipython",
    "version": 3
   },
   "file_extension": ".py",
   "mimetype": "text/x-python",
   "name": "python",
   "nbconvert_exporter": "python",
   "pygments_lexer": "ipython3",
   "version": "3.7.12"
  }
 },
 "nbformat": 4,
 "nbformat_minor": 5
}
